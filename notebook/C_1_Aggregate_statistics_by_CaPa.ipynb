{
 "cells": [
  {
   "cell_type": "markdown",
   "metadata": {},
   "source": [
    "<p><strong><font size=\"6\">WalOUS project</font></strong></p>\n",
    "\n",
    "<p><strong><font size=\"6\">C_1_Aggregate_statistics_by_CaPa</font></strong></p>"
   ]
  },
  {
   "cell_type": "markdown",
   "metadata": {},
   "source": [
    "WALOUS_UTS - Copyright (C) <2020> <Université catholique de Louvain (UCLouvain), Belgique;\n",
    "\t\t\t\t\t Université Libre de Bruxelles (ULB), Belgique;\n",
    "\t\t\t\t\t Institut Scientifique de Service Public (ISSeP), Belgique;\n",
    "\t\t\t\t\t Service Public de Wallonie (SWP), Belgique >\n",
    "\t\t\t\t\t\t \t\t\t\t\t\t\t\n",
    "\t\n",
    "List of the contributors to the development of WALOUS_UTS: see LICENSE file.\n",
    "\n",
    "\n",
    "Description and complete License: see LICENSE file.\n",
    "\t\n",
    "This program (WALOUS_UTS) is free software:\n",
    "you can redistribute it and/or modify it under the terms of the\n",
    "GNU General Public License as published by the Free Software\n",
    "Foundation, either version 3 of the License, or (at your option)\n",
    "any later version.\n",
    "\n",
    "This program is distributed in the hope that it will be useful,\n",
    "but WITHOUT ANY WARRANTY; without even the implied warranty of\n",
    "MERCHANTABILITY or FITNESS FOR A PARTICULAR PURPOSE.  See the\n",
    "GNU General Public License for more details.\n",
    "\n",
    "You should have received a copy of the GNU General Public License\n",
    "along with this program (see COPYING file).  If not,\n",
    "see <http://www.gnu.org/licenses/>."
   ]
  },
  {
   "cell_type": "markdown",
   "metadata": {},
   "source": [
    "-------\n",
    "Jupyter Notebook containing the preprocessing steps consisting of: \n",
    "- Aggregation of all information from the source data at the level of the cadastral parcel."
   ]
  },
  {
   "cell_type": "markdown",
   "metadata": {},
   "source": [
    "# Table of Contents"
   ]
  },
  {
   "cell_type": "markdown",
   "metadata": {},
   "source": [
    "<div id=\"toc\"></div>"
   ]
  },
  {
   "cell_type": "markdown",
   "metadata": {},
   "source": [
    "The following cell is a Javascript section of code for building the Jupyter notebook's table of content."
   ]
  },
  {
   "cell_type": "code",
   "execution_count": null,
   "metadata": {},
   "outputs": [],
   "source": [
    "%%javascript\n",
    "$.getScript('https://kmahelona.github.io/ipython_notebook_goodies/ipython_notebook_toc.js')"
   ]
  },
  {
   "cell_type": "markdown",
   "metadata": {},
   "source": [
    "# Define working environment"
   ]
  },
  {
   "cell_type": "markdown",
   "metadata": {},
   "source": [
    "**Import libraries**"
   ]
  },
  {
   "cell_type": "code",
   "execution_count": null,
   "metadata": {},
   "outputs": [],
   "source": [
    "# Import libraries needed for setting parameters of operating system \n",
    "import os\n",
    "import sys\n",
    "import numpy as np"
   ]
  },
  {
   "cell_type": "markdown",
   "metadata": {},
   "source": [
    "**Add folder with SCR provided belong to this notebook**"
   ]
  },
  {
   "cell_type": "code",
   "execution_count": null,
   "metadata": {},
   "outputs": [],
   "source": [
    "# Add local module to the path\n",
    "src = os.path.abspath('../SRC')\n",
    "if src not in sys.path:\n",
    "    sys.path.append(src)"
   ]
  },
  {
   "cell_type": "markdown",
   "metadata": {},
   "source": [
    "**Setup environment variables**"
   ]
  },
  {
   "cell_type": "markdown",
   "metadata": {},
   "source": [
    "Please edit the file in `../SRC/config.py`, containing the configuration parameters, according to your own computer setup. The following cell is used to run this file.\n",
    "\n"
   ]
  },
  {
   "cell_type": "code",
   "execution_count": null,
   "metadata": {
    "scrolled": true
   },
   "outputs": [],
   "source": [
    "run ../SRC/config.py"
   ]
  },
  {
   "cell_type": "code",
   "execution_count": null,
   "metadata": {},
   "outputs": [],
   "source": [
    "# Import functions that setup the environmental variables\n",
    "import environ_variables as envi"
   ]
  },
  {
   "cell_type": "code",
   "execution_count": null,
   "metadata": {
    "scrolled": true
   },
   "outputs": [],
   "source": [
    "# Set environmental variables\n",
    "envi.setup_environmental_variables() \n",
    "# Display current environment variables of your computer\n",
    "envi.print_environmental_variables()"
   ]
  },
  {
   "cell_type": "markdown",
   "metadata": {},
   "source": [
    "**Other functions**"
   ]
  },
  {
   "cell_type": "code",
   "execution_count": null,
   "metadata": {},
   "outputs": [],
   "source": [
    "# Import functions for processing time information\n",
    "import time\n",
    "from processing_time import start_processing, print_processing_time\n",
    "# Import function that generate a random name in the GRASS GIS environement\n",
    "from random_layer_name import random_layer_name\n",
    "# Import function that check and create folder\n",
    "from mkdir import check_create_dir"
   ]
  },
  {
   "cell_type": "markdown",
   "metadata": {},
   "source": [
    "**Custom functions: Psycopg2 and Postgresql functions**"
   ]
  },
  {
   "cell_type": "code",
   "execution_count": null,
   "metadata": {
    "scrolled": true
   },
   "outputs": [],
   "source": [
    "# Import function that display postgresql's table header\n",
    "from display_header import display_header\n",
    "# Import function to creation connection to Postgresql database \n",
    "from postgres_functions import create_pg_connexion"
   ]
  },
  {
   "cell_type": "code",
   "execution_count": null,
   "metadata": {},
   "outputs": [],
   "source": [
    "# Import function to create index\n",
    "from postgres_functions import create_index\n",
    "# Import function to create the final table\n",
    "from postgres_functions import get_final_table\n",
    "# Import function to compute the sum of point values (attribute) falling in a polygon\n",
    "from postgres_functions import sum_points\n",
    "# Import function to compute number of point falling in a polygon\n",
    "from postgres_functions import count_points\n",
    "# Import function to compute the proportion of polygon A covering polygon B\n",
    "from postgres_functions import prop_coverage"
   ]
  },
  {
   "cell_type": "code",
   "execution_count": null,
   "metadata": {},
   "outputs": [],
   "source": [
    "# Import functions for creation of postgresql back-up\n",
    "from dump_functions import dump_table, dump_db"
   ]
  },
  {
   "cell_type": "markdown",
   "metadata": {},
   "source": [
    "# Compute proportion of SIGEC covering CaPa"
   ]
  },
  {
   "cell_type": "markdown",
   "metadata": {},
   "source": [
    "## Grasslands (1_1_1_A)"
   ]
  },
  {
   "cell_type": "code",
   "execution_count": null,
   "metadata": {},
   "outputs": [],
   "source": [
    "# Create connexion to postgres database\n",
    "con = create_pg_connexion(config_parameters)\n",
    "# Compute proportion\n",
    "prop_coverage(con, 'agdp', data['capa'][0], 'capakey', 'sigec', data['sigec_p'][0])\n",
    "# Close connexion to postgres database\n",
    "con.close()"
   ]
  },
  {
   "cell_type": "code",
   "execution_count": null,
   "metadata": {
    "scrolled": false
   },
   "outputs": [],
   "source": [
    "# Create connexion to postgres database\n",
    "con = create_pg_connexion(config_parameters)\n",
    "# Display header\n",
    "df = display_header(con, 'sigec', '%s_overlay_%s'%(data['capa'][0],data['sigec_p'][0]), row_num=5)\n",
    "# Close connexion to postgres database\n",
    "con.close()\n",
    "# Display dataframe\n",
    "df"
   ]
  },
  {
   "cell_type": "markdown",
   "metadata": {},
   "source": [
    "## Arable lands (1_1_1_B)"
   ]
  },
  {
   "cell_type": "code",
   "execution_count": null,
   "metadata": {},
   "outputs": [],
   "source": [
    "# Create connexion to postgres database\n",
    "con = create_pg_connexion(config_parameters)\n",
    "# Compute proportion\n",
    "prop_coverage(con, 'agdp', data['capa'][0], 'capakey', 'sigec', data['sigec_ta'][0])\n",
    "# Close connexion to postgres database\n",
    "con.close()"
   ]
  },
  {
   "cell_type": "code",
   "execution_count": null,
   "metadata": {
    "scrolled": false
   },
   "outputs": [],
   "source": [
    "# Create connexion to postgres database\n",
    "con = create_pg_connexion(config_parameters)\n",
    "# Display header\n",
    "df = display_header(con, 'sigec', '%s_overlay_%s'%(data['capa'][0],data['sigec_ta'][0]), row_num=5)\n",
    "# Close connexion to postgres database\n",
    "con.close()\n",
    "# Display dataframe\n",
    "df"
   ]
  },
  {
   "cell_type": "markdown",
   "metadata": {},
   "source": [
    "# Compute proportion of SAR covering CaPa"
   ]
  },
  {
   "cell_type": "code",
   "execution_count": null,
   "metadata": {},
   "outputs": [],
   "source": [
    "# Create connexion to postgres database\n",
    "con = create_pg_connexion(config_parameters)\n",
    "# Compute proportion\n",
    "prop_coverage(con, 'agdp', data['capa'][0],'capakey', 'sar', data['sar'][0])\n",
    "# Close connexion to postgres database\n",
    "con.close()"
   ]
  },
  {
   "cell_type": "code",
   "execution_count": null,
   "metadata": {
    "scrolled": false
   },
   "outputs": [],
   "source": [
    "# Create connexion to postgres database\n",
    "con = create_pg_connexion(config_parameters)\n",
    "# Display header\n",
    "df = display_header(con, data['sar'][0], '%s_overlay_%s'%(data['capa'][0],data['sar'][0]), row_num=5)\n",
    "# Close connexion to postgres database\n",
    "con.close()\n",
    "# Display dataframe\n",
    "df"
   ]
  },
  {
   "cell_type": "markdown",
   "metadata": {},
   "source": [
    "# Compute proportion of 'forestry_public' covering CaPa"
   ]
  },
  {
   "cell_type": "code",
   "execution_count": null,
   "metadata": {
    "scrolled": true
   },
   "outputs": [],
   "source": [
    "# Create connexion to postgres database\n",
    "con = create_pg_connexion(config_parameters)\n",
    "# Compute proportion\n",
    "prop_coverage(con, 'agdp', data['capa'][0],'capakey', 'forest', data['forestry_public'][0])\n",
    "# Close connexion to postgres database\n",
    "con.close()"
   ]
  },
  {
   "cell_type": "code",
   "execution_count": null,
   "metadata": {
    "scrolled": true
   },
   "outputs": [],
   "source": [
    "# Create connexion to postgres database\n",
    "con = create_pg_connexion(config_parameters)\n",
    "# Display header\n",
    "df = display_header(con, 'forest', '%s_overlay_%s'%(data['capa'][0],data['forestry_public'][0]), row_num=5)\n",
    "# Close connexion to postgres database\n",
    "con.close()\n",
    "# Display dataframe\n",
    "df"
   ]
  },
  {
   "cell_type": "markdown",
   "metadata": {},
   "source": [
    "# Compute proportion of 'nature_conservation_n2000' covering CaPa"
   ]
  },
  {
   "cell_type": "code",
   "execution_count": null,
   "metadata": {},
   "outputs": [],
   "source": [
    "# Create connexion to postgres database\n",
    "con = create_pg_connexion(config_parameters)\n",
    "# Compute proportion\n",
    "prop_coverage(con, 'agdp', data['capa'][0],'capakey', 'nat_conser', data['nature_conservation_n2000'][0])\n",
    "# Close connexion to postgres database\n",
    "con.close()"
   ]
  },
  {
   "cell_type": "code",
   "execution_count": null,
   "metadata": {
    "scrolled": true
   },
   "outputs": [],
   "source": [
    "# Create connexion to postgres database\n",
    "con = create_pg_connexion(config_parameters)\n",
    "# Display header\n",
    "df = display_header(con, 'nat_conser', '%s_overlay_%s'%(data['capa'][0],data['nature_conservation_n2000'][0]), row_num=5)\n",
    "# Close connexion to postgres database\n",
    "con.close()\n",
    "# Display dataframe\n",
    "df"
   ]
  },
  {
   "cell_type": "markdown",
   "metadata": {},
   "source": [
    "# Compute proportion of 'nature_conservation_7' covering CaPa"
   ]
  },
  {
   "cell_type": "code",
   "execution_count": null,
   "metadata": {},
   "outputs": [],
   "source": [
    "# Create connexion to postgres database\n",
    "con = create_pg_connexion(config_parameters)\n",
    "# Compute proportion\n",
    "prop_coverage(con, 'agdp', data['capa'][0],'capakey', 'nat_conser', data['nature_conservation_7'][0])\n",
    "# Close connexion to postgres database\n",
    "con.close()"
   ]
  },
  {
   "cell_type": "code",
   "execution_count": null,
   "metadata": {
    "scrolled": true
   },
   "outputs": [],
   "source": [
    "# Create connexion to postgres database\n",
    "con = create_pg_connexion(config_parameters)\n",
    "# Display header\n",
    "df = display_header(con, 'nat_conser', '%s_overlay_%s'%(data['capa'][0],data['nature_conservation_7'][0]), \n",
    "                    row_num=5)\n",
    "# Close connexion to postgres database\n",
    "con.close()\n",
    "# Display dataframe\n",
    "df"
   ]
  },
  {
   "cell_type": "markdown",
   "metadata": {},
   "source": [
    "# Compute proportion of 'nature_conservation_71' covering CaPa"
   ]
  },
  {
   "cell_type": "code",
   "execution_count": null,
   "metadata": {},
   "outputs": [],
   "source": [
    "# Create connexion to postgres database\n",
    "con = create_pg_connexion(config_parameters)\n",
    "# Compute proportion\n",
    "prop_coverage(con, 'agdp', data['capa'][0],'capakey', 'nat_conser', data['nature_conservation_71'][0])\n",
    "# Close connexion to postgres database\n",
    "con.close()"
   ]
  },
  {
   "cell_type": "code",
   "execution_count": null,
   "metadata": {
    "scrolled": true
   },
   "outputs": [],
   "source": [
    "# Create connexion to postgres database\n",
    "con = create_pg_connexion(config_parameters)\n",
    "# Display header\n",
    "df = display_header(con, 'nat_conser', '%s_overlay_%s'%(data['capa'][0],data['nature_conservation_71'][0]), row_num=5)\n",
    "# Close connexion to postgres database\n",
    "con.close()\n",
    "# Display dataframe\n",
    "df"
   ]
  },
  {
   "cell_type": "markdown",
   "metadata": {},
   "source": [
    "# Compute proportion of 'schools' covering CaPa"
   ]
  },
  {
   "cell_type": "code",
   "execution_count": null,
   "metadata": {},
   "outputs": [],
   "source": [
    "# Create connexion to postgres database\n",
    "con = create_pg_connexion(config_parameters)\n",
    "# Compute proportion\n",
    "prop_coverage(con, 'agdp', data['capa'][0],'capakey', \n",
    "             'schools', data['schools'][0], \n",
    "             select_extra_column=('indice_con','min'))\n",
    "# Close connexion to postgres database\n",
    "con.close()"
   ]
  },
  {
   "cell_type": "code",
   "execution_count": null,
   "metadata": {
    "scrolled": false
   },
   "outputs": [],
   "source": [
    "# Create connexion to postgres database\n",
    "con = create_pg_connexion(config_parameters)\n",
    "# Display header\n",
    "df = display_header(con, 'schools', '%s_overlay_%s'%(data['capa'][0],data['schools'][0]), row_num=5)\n",
    "# Close connexion to postgres database\n",
    "con.close()\n",
    "# Display dataframe\n",
    "df"
   ]
  },
  {
   "cell_type": "markdown",
   "metadata": {},
   "source": [
    "# Compute proportion of 'picc_surface' covering CaPa"
   ]
  },
  {
   "cell_type": "code",
   "execution_count": null,
   "metadata": {},
   "outputs": [],
   "source": [
    "# Create connexion to postgres database\n",
    "con = create_pg_connexion(config_parameters)\n",
    "# Compute proportion\n",
    "prop_coverage(con, 'agdp', data['capa'][0],'capakey', \n",
    "                       'picc', data['picc_surface'][0], class_column='hilucs')\n",
    "# Close connexion to postgres database\n",
    "con.close()"
   ]
  },
  {
   "cell_type": "code",
   "execution_count": null,
   "metadata": {
    "scrolled": false
   },
   "outputs": [],
   "source": [
    "# Create connexion to postgres database\n",
    "con = create_pg_connexion(config_parameters)\n",
    "# Display header\n",
    "df = display_header(con, 'picc', '%s_overlay_%s'%(data['capa'][0],data['picc_surface'][0]), row_num=5)\n",
    "# Close connexion to postgres database\n",
    "con.close()\n",
    "# Display dataframe\n",
    "df"
   ]
  },
  {
   "cell_type": "markdown",
   "metadata": {},
   "source": [
    "# Compute sum of RNPP population by CaPa"
   ]
  },
  {
   "cell_type": "code",
   "execution_count": null,
   "metadata": {},
   "outputs": [],
   "source": [
    "# Create connexion to postgres database\n",
    "con = create_pg_connexion(config_parameters)\n",
    "# Compute proportion\n",
    "sum_points(con, 'agdp', data['capa'][0], 'capakey', 'rnpp', data['rnpp'][0], 'ms_populat')\n",
    "# Close connexion to postgres database\n",
    "con.close()"
   ]
  },
  {
   "cell_type": "code",
   "execution_count": null,
   "metadata": {
    "scrolled": false
   },
   "outputs": [],
   "source": [
    "# Create connexion to postgres database\n",
    "con = create_pg_connexion(config_parameters)\n",
    "# Display header\n",
    "df = display_header(con, data['rnpp'][0], '%s_sum_%s'%(data['capa'][0],data['rnpp'][0]), row_num=5)\n",
    "# Close connexion to postgres database\n",
    "con.close()\n",
    "# Display dataframe\n",
    "df"
   ]
  },
  {
   "cell_type": "markdown",
   "metadata": {},
   "source": [
    "# Compute count of 'picc_symbology' point by CaPa"
   ]
  },
  {
   "cell_type": "code",
   "execution_count": null,
   "metadata": {
    "scrolled": true
   },
   "outputs": [],
   "source": [
    "# Create connexion to postgres database\n",
    "con = create_pg_connexion(config_parameters)\n",
    "# Compute proportion\n",
    "# count_points(con, 'agdp', data['capa'][0], 'capakey', 'picc', data['picc_symbology'][0])\n",
    "count_points(con, 'agdp', data['capa'][0], 'capakey', 'picc', data['picc_symbology'][0],class_column='hilucs')\n",
    "# Close connexion to postgres database\n",
    "con.close()"
   ]
  },
  {
   "cell_type": "code",
   "execution_count": null,
   "metadata": {
    "scrolled": false
   },
   "outputs": [],
   "source": [
    "# Create connexion to postgres database\n",
    "con = create_pg_connexion(config_parameters)\n",
    "# Display header\n",
    "df = display_header(con, 'picc', '%s_count_%s'%(data['capa'][0],data['picc_symbology'][0]), row_num=5)\n",
    "# Close connexion to postgres database\n",
    "con.close()\n",
    "# Display dataframe\n",
    "df"
   ]
  },
  {
   "cell_type": "markdown",
   "metadata": {},
   "source": [
    "# Compute count of EOLIENNES points by CaPa"
   ]
  },
  {
   "cell_type": "code",
   "execution_count": null,
   "metadata": {
    "scrolled": true
   },
   "outputs": [],
   "source": [
    "# Create connexion to postgres database\n",
    "con = create_pg_connexion(config_parameters)\n",
    "# Compute proportion\n",
    "# count_points(con, 'agdp', data['capa'][0], 'capakey', 'picc', data['picc_symbology'][0])\n",
    "count_points(con, 'agdp', data['capa'][0], 'capakey', 'eoliennes', data['eoliennes'][0])\n",
    "# Close connexion to postgres database\n",
    "con.close()"
   ]
  },
  {
   "cell_type": "code",
   "execution_count": null,
   "metadata": {
    "scrolled": false
   },
   "outputs": [],
   "source": [
    "# Create connexion to postgres database\n",
    "con = create_pg_connexion(config_parameters)\n",
    "# Display header\n",
    "df = display_header(con, 'eoliennes', '%s_count_%s'%(data['capa'][0],data['eoliennes'][0]), row_num=5)\n",
    "# Close connexion to postgres database\n",
    "con.close()\n",
    "# Display dataframe\n",
    "df"
   ]
  },
  {
   "cell_type": "markdown",
   "metadata": {},
   "source": [
    "# Compute count of RECYPARK points by CaPa"
   ]
  },
  {
   "cell_type": "code",
   "execution_count": null,
   "metadata": {
    "scrolled": false
   },
   "outputs": [],
   "source": [
    "# Create connexion to postgres database\n",
    "con = create_pg_connexion(config_parameters)\n",
    "# Compute proportion\n",
    "# count_points(con, 'agdp', data['capa'][0], 'capakey', 'picc', data['picc_symbology'][0])\n",
    "count_points(con, 'agdp', data['capa'][0], 'capakey', 'recypark', data['recypark'][0])\n",
    "# Close connexion to postgres database\n",
    "con.close()"
   ]
  },
  {
   "cell_type": "code",
   "execution_count": null,
   "metadata": {
    "scrolled": false
   },
   "outputs": [],
   "source": [
    "# Create connexion to postgres database\n",
    "con = create_pg_connexion(config_parameters)\n",
    "# Display header\n",
    "df = display_header(con, 'recypark', '%s_count_%s'%(data['capa'][0],data['recypark'][0]), row_num=5)\n",
    "# Close connexion to postgres database\n",
    "con.close()\n",
    "# Display dataframe\n",
    "df"
   ]
  },
  {
   "cell_type": "markdown",
   "metadata": {},
   "source": [
    "# Compute count of ETAB_AINES points by CaPa"
   ]
  },
  {
   "cell_type": "code",
   "execution_count": null,
   "metadata": {},
   "outputs": [],
   "source": [
    "# Create connexion to postgres database\n",
    "con = create_pg_connexion(config_parameters)\n",
    "# Compute proportion\n",
    "# count_points(con, 'agdp', data['capa'][0], 'capakey', 'picc', data['picc_symbology'][0])\n",
    "count_points(con, 'agdp', data['capa'][0], 'capakey', 'etab_aines', data['etab_aines'][0])\n",
    "# Close connexion to postgres database\n",
    "con.close()"
   ]
  },
  {
   "cell_type": "code",
   "execution_count": null,
   "metadata": {},
   "outputs": [],
   "source": [
    "# Create connexion to postgres database\n",
    "con = create_pg_connexion(config_parameters)\n",
    "# Display header\n",
    "df = display_header(con, 'etab_aines', '%s_count_%s'%(data['capa'][0],data['etab_aines'][0]), row_num=5)\n",
    "# Close connexion to postgres database\n",
    "con.close()\n",
    "# Display dataframe\n",
    "df"
   ]
  },
  {
   "cell_type": "markdown",
   "metadata": {},
   "source": [
    "# Compute proportion of 'SEVESO' covering CaPa"
   ]
  },
  {
   "cell_type": "code",
   "execution_count": null,
   "metadata": {},
   "outputs": [],
   "source": [
    "# Create connexion to postgres database\n",
    "con = create_pg_connexion(config_parameters)\n",
    "# Compute proportion\n",
    "prop_coverage(con, 'agdp', data['capa'][0],'capakey', \n",
    "                       'seveso', data['seveso'][0])\n",
    "# Close connexion to postgres database\n",
    "con.close()"
   ]
  },
  {
   "cell_type": "code",
   "execution_count": null,
   "metadata": {
    "scrolled": true
   },
   "outputs": [],
   "source": [
    "# Create connexion to postgres database\n",
    "con = create_pg_connexion(config_parameters)\n",
    "# Display header\n",
    "df = display_header(con, 'seveso', '%s_overlay_%s'%(data['capa'][0],data['seveso'][0]), row_num=5)\n",
    "# Close connexion to postgres database\n",
    "con.close()\n",
    "# Display dataframe\n",
    "df"
   ]
  },
  {
   "cell_type": "markdown",
   "metadata": {},
   "source": [
    "# Compute proportion of 'Camping' covering CaPa"
   ]
  },
  {
   "cell_type": "code",
   "execution_count": null,
   "metadata": {},
   "outputs": [],
   "source": [
    "# Create connexion to postgres database\n",
    "con = create_pg_connexion(config_parameters)\n",
    "# Compute proportion\n",
    "prop_coverage(con, 'agdp', data['capa'][0],'capakey', \n",
    "                       'camping', data['camping'][0])\n",
    "# Close connexion to postgres database\n",
    "con.close()"
   ]
  },
  {
   "cell_type": "code",
   "execution_count": null,
   "metadata": {
    "scrolled": true
   },
   "outputs": [],
   "source": [
    "# Create connexion to postgres database\n",
    "con = create_pg_connexion(config_parameters)\n",
    "# Display header\n",
    "df = display_header(con, 'camping', '%s_overlay_%s'%(data['capa'][0],data['camping'][0]), row_num=5)\n",
    "# Close connexion to postgres database\n",
    "con.close()\n",
    "# Display dataframe\n",
    "df"
   ]
  },
  {
   "cell_type": "markdown",
   "metadata": {},
   "source": [
    "# Compute proportion of 'Aeroports' covering CaPa"
   ]
  },
  {
   "cell_type": "code",
   "execution_count": null,
   "metadata": {},
   "outputs": [],
   "source": [
    "# Create connexion to postgres database\n",
    "con = create_pg_connexion(config_parameters)\n",
    "# Compute proportion\n",
    "prop_coverage(con, 'agdp', data['capa'][0],'capakey', \n",
    "                       'ign', data['aeroport'][0])\n",
    "# Close connexion to postgres database\n",
    "con.close()"
   ]
  },
  {
   "cell_type": "code",
   "execution_count": null,
   "metadata": {
    "scrolled": true
   },
   "outputs": [],
   "source": [
    "# Create connexion to postgres database\n",
    "con = create_pg_connexion(config_parameters)\n",
    "# Display header\n",
    "df = display_header(con, 'ign', '%s_overlay_%s'%(data['capa'][0],data['aeroport'][0]), row_num=5)\n",
    "# Close connexion to postgres database\n",
    "con.close()\n",
    "# Display dataframe\n",
    "df"
   ]
  },
  {
   "cell_type": "markdown",
   "metadata": {},
   "source": [
    "# Compute proportion of 'AmusementPark' covering CaPa"
   ]
  },
  {
   "cell_type": "code",
   "execution_count": null,
   "metadata": {},
   "outputs": [],
   "source": [
    "# Create connexion to postgres database\n",
    "con = create_pg_connexion(config_parameters)\n",
    "# Compute proportion\n",
    "prop_coverage(con, 'agdp', data['capa'][0],'capakey', \n",
    "                       'ign', data['parc_lois'][0])\n",
    "# Close connexion to postgres database\n",
    "con.close()"
   ]
  },
  {
   "cell_type": "code",
   "execution_count": null,
   "metadata": {
    "scrolled": true
   },
   "outputs": [],
   "source": [
    "# Create connexion to postgres database\n",
    "con = create_pg_connexion(config_parameters)\n",
    "# Display header\n",
    "df = display_header(con, 'ign', '%s_overlay_%s'%(data['capa'][0],data['parc_lois'][0]), row_num=5)\n",
    "# Close connexion to postgres database\n",
    "con.close()\n",
    "# Display dataframe\n",
    "df"
   ]
  },
  {
   "cell_type": "markdown",
   "metadata": {},
   "source": [
    "# Compute proportion of 'AnimalPark' covering CaPa"
   ]
  },
  {
   "cell_type": "code",
   "execution_count": null,
   "metadata": {},
   "outputs": [],
   "source": [
    "# Create connexion to postgres database\n",
    "con = create_pg_connexion(config_parameters)\n",
    "# Compute proportion\n",
    "prop_coverage(con, 'agdp', data['capa'][0],'capakey', \n",
    "                       'ign', data['parc_anim'][0])\n",
    "# Close connexion to postgres database\n",
    "con.close()"
   ]
  },
  {
   "cell_type": "code",
   "execution_count": null,
   "metadata": {
    "scrolled": true
   },
   "outputs": [],
   "source": [
    "# Create connexion to postgres database\n",
    "con = create_pg_connexion(config_parameters)\n",
    "# Display header\n",
    "df = display_header(con, 'ign', '%s_overlay_%s'%(data['capa'][0],data['parc_anim'][0]), row_num=5)\n",
    "# Close connexion to postgres database\n",
    "con.close()\n",
    "# Display dataframe\n",
    "df"
   ]
  },
  {
   "cell_type": "markdown",
   "metadata": {},
   "source": [
    "# Compute proportion of IGN 'Carry' covering CaPa"
   ]
  },
  {
   "cell_type": "code",
   "execution_count": null,
   "metadata": {
    "scrolled": true
   },
   "outputs": [],
   "source": [
    "# Create connexion to postgres database\n",
    "con = create_pg_connexion(config_parameters)\n",
    "# Compute proportion\n",
    "prop_coverage(con, 'agdp', data['capa'][0],'capakey', \n",
    "                       'ign', data['carrier_ign'][0])\n",
    "# Close connexion to postgres database\n",
    "con.close()"
   ]
  },
  {
   "cell_type": "code",
   "execution_count": null,
   "metadata": {
    "scrolled": true
   },
   "outputs": [],
   "source": [
    "# Create connexion to postgres database\n",
    "con = create_pg_connexion(config_parameters)\n",
    "# Display header\n",
    "df = display_header(con, 'ign', '%s_overlay_%s'%(data['capa'][0],data['carrier_ign'][0]), row_num=5)\n",
    "# Close connexion to postgres database\n",
    "con.close()\n",
    "# Display dataframe\n",
    "df"
   ]
  },
  {
   "cell_type": "markdown",
   "metadata": {},
   "source": [
    "# Compute proportion of 'Sport' covering CaPa"
   ]
  },
  {
   "cell_type": "code",
   "execution_count": null,
   "metadata": {},
   "outputs": [],
   "source": [
    "# Create connexion to postgres database\n",
    "con = create_pg_connexion(config_parameters)\n",
    "# Compute proportion\n",
    "prop_coverage(con, 'agdp', data['capa'][0],'capakey', \n",
    "                       'ign', data['ter_sport'][0])\n",
    "# Close connexion to postgres database\n",
    "con.close()"
   ]
  },
  {
   "cell_type": "code",
   "execution_count": null,
   "metadata": {
    "scrolled": true
   },
   "outputs": [],
   "source": [
    "# Create connexion to postgres database\n",
    "con = create_pg_connexion(config_parameters)\n",
    "# Display header\n",
    "df = display_header(con, 'ign', '%s_overlay_%s'%(data['capa'][0],data['ter_sport'][0]), row_num=5)\n",
    "# Close connexion to postgres database\n",
    "con.close()\n",
    "# Display dataframe\n",
    "df"
   ]
  },
  {
   "cell_type": "markdown",
   "metadata": {},
   "source": [
    "# Compute count of SPW 'Carry' points by CaPa"
   ]
  },
  {
   "cell_type": "code",
   "execution_count": null,
   "metadata": {},
   "outputs": [],
   "source": [
    "# Create connexion to postgres database\n",
    "con = create_pg_connexion(config_parameters)\n",
    "# Compute proportion\n",
    "count_points(con, 'agdp', data['capa'][0], 'capakey', 'spw', data['carrier_spw'][0])\n",
    "# Close connexion to postgres database\n",
    "con.close()"
   ]
  },
  {
   "cell_type": "code",
   "execution_count": null,
   "metadata": {},
   "outputs": [],
   "source": [
    "# Create connexion to postgres database\n",
    "con = create_pg_connexion(config_parameters)\n",
    "# Display header\n",
    "df = display_header(con, 'spw', '%s_count_%s'%(data['capa'][0],data['carrier_spw'][0]), row_num=5)\n",
    "# Close connexion to postgres database\n",
    "con.close()\n",
    "# Display dataframe\n",
    "df"
   ]
  },
  {
   "cell_type": "markdown",
   "metadata": {},
   "source": [
    "# Compute coverage of SPW 'Christmass Tree' covering CaPa"
   ]
  },
  {
   "cell_type": "code",
   "execution_count": null,
   "metadata": {
    "scrolled": true
   },
   "outputs": [],
   "source": [
    "# Create connexion to postgres database\n",
    "con = create_pg_connexion(config_parameters)\n",
    "# Compute proportion\n",
    "prop_coverage(con, 'agdp', data['capa'][0],'capakey', \n",
    "                       'spw', data['sapin_noel'][0], class_column='hilucs')\n",
    "# Close connexion to postgres database\n",
    "con.close()"
   ]
  },
  {
   "cell_type": "code",
   "execution_count": null,
   "metadata": {
    "scrolled": false
   },
   "outputs": [],
   "source": [
    "# Create connexion to postgres database\n",
    "con = create_pg_connexion(config_parameters)\n",
    "# Display header\n",
    "df = display_header(con, 'spw', '%s_overlay_%s'%(data['capa'][0],data['sapin_noel'][0]), row_num=5)\n",
    "# Close connexion to postgres database\n",
    "con.close()\n",
    "# Display dataframe\n",
    "df"
   ]
  },
  {
   "cell_type": "markdown",
   "metadata": {},
   "source": [
    "# Create a table with all statistics joined to the CaPa table"
   ]
  },
  {
   "cell_type": "code",
   "execution_count": null,
   "metadata": {},
   "outputs": [],
   "source": [
    "# List of information about table to be joined in the final table (schema, table, foreignkey with the capakey)\n",
    "join_table_informations = []\n",
    "join_table_informations.append(('agdp','cama_hilucs_array','capakey_%s'%data['cama'][0]))\n",
    "join_table_informations.append(('dbris','dbris1_hilucs','capakey_%s'%data['dbris1'][0]))\n",
    "join_table_informations.append(('dbris','dbris2_hilucs','capakey_%s'%data['dbris2'][0]))\n",
    "join_table_informations.append(('agdp',data['lc_capa'][0],'capakey_lc_prop'))\n",
    "join_table_informations.append(('rnpp','capa_sum_%s'%data['rnpp'][0],'capakey_%s'%data['rnpp'][0]))\n",
    "join_table_informations.append(('rnpp',data['rnpp_neighbor'][0],'capakey_%s'%data['rnpp_neighbor'][0]))\n",
    "join_table_informations.append(('sar','capa_overlay_%s'%data['sar'][0],'capakey_%s'%data['sar'][0]))\n",
    "join_table_informations.append(('sigec','capa_overlay_%s'%data['sigec_p'][0],'capakey_%s'%data['sigec_p'][0]))\n",
    "join_table_informations.append(('sigec','capa_overlay_%s'%data['sigec_ta'][0],'capakey_%s'%data['sigec_ta'][0]))\n",
    "join_table_informations.append(('schools','capa_overlay_%s'%data['schools'][0],'capakey_%s'%data['schools'][0]))\n",
    "join_table_informations.append(('forest','capa_overlay_%s'%data['forestry_public'][0],'capakey_%s'%data['forestry_public'][0]))\n",
    "join_table_informations.append(('nat_conser','capa_overlay_%s'%data['nature_conservation_n2000'][0],'capakey_%s'%data['nature_conservation_n2000'][0]))\n",
    "join_table_informations.append(('nat_conser','capa_overlay_%s'%data['nature_conservation_7'][0],'capakey_%s'%data['nature_conservation_7'][0]))\n",
    "join_table_informations.append(('nat_conser','capa_overlay_%s'%data['nature_conservation_71'][0],'capakey_%s'%data['nature_conservation_71'][0]))\n",
    "join_table_informations.append(('picc','capa_overlay_%s'%data['picc_surface'][0],'capakey_%s'%data['picc_surface'][0]))\n",
    "join_table_informations.append(('picc','capa_count_%s'%data['picc_symbology'][0],'capakey_%s'%data['picc_symbology'][0]))\n",
    "join_table_informations.append(('eoliennes','capa_count_%s'%data['eoliennes'][0],'capakey_%s'%data['eoliennes'][0]))\n",
    "join_table_informations.append(('recypark','capa_count_%s'%data['recypark'][0],'capakey_%s'%data['recypark'][0]))\n",
    "join_table_informations.append(('etab_aines','capa_count_%s'%data['etab_aines'][0],'capakey_%s'%data['etab_aines'][0]))\n",
    "join_table_informations.append(('seveso','capa_overlay_%s'%data['seveso'][0],'capakey_%s'%data['seveso'][0]))\n",
    "join_table_informations.append(('camping','capa_overlay_%s'%data['camping'][0],'capakey_%s'%data['camping'][0]))\n",
    "join_table_informations.append(('ign','capa_overlay_%s'%data['aeroport'][0],'capakey_%s'%data['aeroport'][0]))\n",
    "join_table_informations.append(('ign','capa_overlay_%s'%data['parc_lois'][0],'capakey_%s'%data['parc_lois'][0]))\n",
    "join_table_informations.append(('ign','capa_overlay_%s'%data['parc_anim'][0],'capakey_%s'%data['parc_anim'][0]))\n",
    "join_table_informations.append(('ign','capa_overlay_%s'%data['carrier_ign'][0],'capakey_%s'%data['carrier_ign'][0]))\n",
    "join_table_informations.append(('ign','capa_overlay_%s'%data['ter_sport'][0],'capakey_%s'%data['ter_sport'][0]))\n",
    "join_table_informations.append(('spw','capa_count_%s'%data['carrier_spw'][0],'capakey_%s'%data['carrier_spw'][0]))\n",
    "join_table_informations.append(('spw','capa_overlay_%s'%data['sapin_noel'][0],'capakey_%s'%data['sapin_noel'][0]))"
   ]
  },
  {
   "cell_type": "code",
   "execution_count": null,
   "metadata": {},
   "outputs": [],
   "source": [
    "# Name of table to be created\n",
    "create_table = 'capa_statistics_wall_a'"
   ]
  },
  {
   "cell_type": "code",
   "execution_count": null,
   "metadata": {
    "scrolled": false
   },
   "outputs": [],
   "source": [
    "# Create connexion to postgres database\n",
    "con = create_pg_connexion(config_parameters)\n",
    "# Get final table\n",
    "get_final_table(con, create_table, join_table_informations)\n",
    "# Close connexion to postgres database\n",
    "con.close()"
   ]
  },
  {
   "cell_type": "markdown",
   "metadata": {},
   "source": [
    "**Add index on capakey and geom**"
   ]
  },
  {
   "cell_type": "code",
   "execution_count": null,
   "metadata": {},
   "outputs": [],
   "source": [
    "# Add index on 'geom' and 'capakey'\n",
    "con = create_pg_connexion(config_parameters)\n",
    "create_index(con, 'results', create_table, 'geom', is_geom=True)\n",
    "create_index(con, 'results', create_table, 'capakey')\n",
    "con.close()"
   ]
  },
  {
   "cell_type": "markdown",
   "metadata": {},
   "source": [
    "**Display table**"
   ]
  },
  {
   "cell_type": "code",
   "execution_count": null,
   "metadata": {
    "scrolled": false
   },
   "outputs": [],
   "source": [
    "# Create connexion to postgres database\n",
    "con = create_pg_connexion(config_parameters)\n",
    "# Display header\n",
    "whereconditions = []\n",
    "#whereconditions.append(\"nat_lu_maj IS NOT NULL\")\n",
    "#whereconditions.append(\"dbris_hilucs IS NOT NULL\")\n",
    "#whereconditions.append(\"ms_populat_tot IS NOT NULL\")\n",
    "#whereconditions.append(\"lc_prop_11 IS NOT NULL\")\n",
    "#whereconditions.append(\"camping_area IS NOT NULL\")\n",
    "#whereconditions.append(\"ter_sport_area IS NOT NULL\")\n",
    "whereconditions.append(\"nature_conservation_71_coverage IS NOT NULL\")\n",
    "\n",
    "df = display_header(con, 'results', create_table, where=' AND '.join(whereconditions), row_num=15)\n",
    "# Close connexion to postgres database\n",
    "con.close()\n",
    "# Display dataframe\n",
    "df"
   ]
  },
  {
   "cell_type": "markdown",
   "metadata": {},
   "source": [
    "# Add column comparing agreement between databases"
   ]
  },
  {
   "cell_type": "markdown",
   "metadata": {},
   "source": [
    "## Create a temporary tables "
   ]
  },
  {
   "cell_type": "code",
   "execution_count": null,
   "metadata": {},
   "outputs": [],
   "source": [
    "# Get random name for table \n",
    "tmp_table_hilucs = random_layer_name(prefix='hilucs')\n",
    "tmp_table_all_hilucs = random_layer_name(prefix='array_all_hilucs')\n",
    "tmp_table_l3_hilucs = random_layer_name(prefix='array_l3_hilucs')\n",
    "tmp_table_l2_hilucs = random_layer_name(prefix='array_l2_hilucs')\n",
    "tmp_table_l1_hilucs = random_layer_name(prefix='array_l1_hilucs')"
   ]
  },
  {
   "cell_type": "markdown",
   "metadata": {},
   "source": [
    "### HILUCS classes for all input databases"
   ]
  },
  {
   "cell_type": "code",
   "execution_count": null,
   "metadata": {
    "scrolled": false
   },
   "outputs": [],
   "source": [
    "# Get a list of column name for 'picc_surface', 'picc_symbology' and 'sapin_noel'\n",
    "con = create_pg_connexion(config_parameters)\n",
    "cursor = con.cursor()\n",
    "cursor.execute(\"SELECT column_name FROM information_schema.columns WHERE table_schema = 'results' \\\n",
    "AND table_name = '%s'\"%create_table)\n",
    "list_of_columns = list(zip(*cursor.fetchall()))[0]\n",
    "# Close connexion to postgres database\n",
    "con.close()\n",
    "# Filter columns to only have columns corresponding to a certain pattern \n",
    "list_cols_ptn = [x for x in list_of_columns if 'picc_symbology_count_' in x]\n",
    "list_cols_surf_a = [x for x in list_of_columns if 'picc_surface_prop_' in x]\n",
    "list_cols_surf_b = [x for x in list_of_columns if 'sapin_noel_prop_' in x]\n",
    "print (\"Columns corresponding to 'picc_symbology' are the following:\\n-%s\"%'\\n-'.join(list_cols_ptn))\n",
    "print (\"\\n\")\n",
    "print (\"Columns corresponding to 'picc_surface' are the following:\\n-%s\"%'\\n-'.join(list_cols_surf_a))\n",
    "print (\"\\n\")\n",
    "print (\"Columns corresponding to 'sapin_noel' are the following:\\n-%s\"%'\\n-'.join(list_cols_surf_b))"
   ]
  },
  {
   "cell_type": "code",
   "execution_count": null,
   "metadata": {},
   "outputs": [],
   "source": [
    "# Time at starting\n",
    "begintime = time.time()  \n",
    "# Create connexion to postgres database\n",
    "con = create_pg_connexion(config_parameters)\n",
    "# Create cursor\n",
    "cursor = con.cursor()\n",
    "# Drop table if exits\n",
    "cursor.execute(\"DROP TABLE IF EXISTS results.%s\"%tmp_table_hilucs)\n",
    "\n",
    "######### CASE WHEN THEN ELSE END QUERY #########\n",
    "case_queries = []\n",
    "\n",
    "# Area overlapping information => Minimum Mapping Unit (MMU) set to 15 sq meter \n",
    "# and coverage more than 5% of the cadastral parcel area, for those layers (SAR,SIGEC,SCHOOLS,FOREST,NATURECONSERV,...)\n",
    "column_area_overlap = [('sar','6_2'),('sigec_p','1_1_1_A'),('sigec_ta','1_1_1_B'),\n",
    "                       ('schools','3_3_2'),('forestry_public','1_2'),\n",
    "                       ('nature_conservation_n2000','7'),('nature_conservation_7','7'),\n",
    "                       ('nature_conservation_71','7_1'),\n",
    "                       ('seveso','2'),('camping','3_1'),\n",
    "                       ('aeroport','4_1_3'),('parc_lois','3_4_2'),('parc_anim','3_4_1'),\n",
    "                       ('carrier_ign','1_3'),('ter_sport','3_4_3')] \n",
    "for column, hilucs in column_area_overlap:\n",
    "    q = \"CASE WHEN {col}_area > 15 AND {col}_coverage > 0.05 THEN '{_class}' END AS {col}_{_class}\"\n",
    "    case_queries.append(q.format(col=column,_class=hilucs))\n",
    "\n",
    "# Count of points => Minimum count greater than 0 for those layers (For RNPP, EOLIENNES, RECYPARK, ...)\n",
    "column_points_count = [('ms_populat_tot','5_1'),('eoliennes_count','2_4'),('recypark_count','4_3_3'),\n",
    "                       ('etab_aines_count','3_3_3'),('carrier_spw_count','1_3')] \n",
    "for column, hilucs in column_points_count:\n",
    "    q = \"CASE WHEN {col} > 0 THEN '{_class}' END AS {prefix}_{_class}\"\n",
    "    case_queries.append(q.format(col=column,_class=hilucs,prefix=column.split(\"_count\")[0]))\n",
    "\n",
    "# For PICC symbology and surface\n",
    "for column_name in list_cols_surf_a:\n",
    "    hilucs_class = column_name.split(\"picc_surface_prop_\")[-1]\n",
    "    case_queries.append(\"CASE WHEN {col}*ST_Area(geom) > 15 AND {col} > 0.05 THEN '{_class}' END AS pic_surf_{_class}\".format(col=column_name,_class=hilucs_class))\n",
    "for column_name in list_cols_ptn:\n",
    "    hilucs_class = column_name.split(\"picc_symbology_count_\")[-1]\n",
    "    case_queries.append(\"CASE WHEN {col} > 0 THEN '{_class}' END AS pic_pnt_{_class}\".format(col=column_name,_class=hilucs_class))\n",
    "# For 'sapin_noel'\n",
    "for column_name in list_cols_surf_b:\n",
    "    hilucs_class = column_name.split(\"sapin_noel_prop_\")[-1].upper()  # User upper() to ensure letter are in capital\n",
    "    case_queries.append(\"CASE WHEN {col}*ST_Area(geom) > 15 AND {col} > 0.05 THEN '{_class}' END AS sapin_noel_surf_{_class}\".format(col=column_name,_class=hilucs_class))\n",
    "\n",
    "######### MAIN CREATE QUERY #########\n",
    "# Main query\n",
    "mainquery = \"SELECT capakey, nat_lu_maj, dbris_rank, %s FROM results.%s \"%(', '.join(case_queries),create_table)\n",
    "# Create table query\n",
    "cursor.execute(\"CREATE TABLE results.%s AS (%s);\"%(tmp_table_hilucs,mainquery))\n",
    "\n",
    "# Make the changes to the database persistent\n",
    "con.commit()\n",
    "# Close connection with database\n",
    "cursor.close()\n",
    "# Close connexion to postgres database\n",
    "con.close()\n",
    "## Print processing time\n",
    "print(print_processing_time(begintime, \"Processing achieved in \"))"
   ]
  },
  {
   "cell_type": "code",
   "execution_count": null,
   "metadata": {
    "scrolled": true
   },
   "outputs": [],
   "source": [
    "# Create connexion to postgres database\n",
    "con = create_pg_connexion(config_parameters)\n",
    "# Display header\n",
    "whereconditions = []\n",
    "#whereconditions.append(\"nat_lu_maj IS NOT NULL\")\n",
    "#whereconditions.append(\"dbris_rank IS NOT NULL\")\n",
    "whereconditions.append(\"sapin_noel_surf_1_1_1_c IS NOT NULL\")\n",
    "\n",
    "#whereconditions.append(\"aeroport_4_1_3 IS NOT NULL\")\n",
    "df = display_header(con, 'results', tmp_table_hilucs, \n",
    "                    where=' AND '.join(whereconditions), order_by=\"capakey\", row_num=25)\n",
    "# Close connexion to postgres database\n",
    "con.close()\n",
    "# Display dataframe\n",
    "df"
   ]
  },
  {
   "cell_type": "markdown",
   "metadata": {},
   "source": [
    "### Array containing all HILUCS levels"
   ]
  },
  {
   "cell_type": "markdown",
   "metadata": {},
   "source": [
    "The order of element in all_hilucs array will be as follow:\n",
    "- nat_lu_maj column\n",
    "- all elements of the array in dbris_rank column\n",
    "- all other columns, in the same order as in the previous table 'tmp_table_hilucs'"
   ]
  },
  {
   "cell_type": "code",
   "execution_count": null,
   "metadata": {},
   "outputs": [],
   "source": [
    "# Time at starting\n",
    "begintime = time.time()  \n",
    "# Get a list of column name\n",
    "con = create_pg_connexion(config_parameters)\n",
    "cursor = con.cursor()\n",
    "cursor.execute(\"SELECT column_name FROM information_schema.columns WHERE table_schema = 'results' AND table_name = '%s'\"%tmp_table_hilucs.lower())\n",
    "list_of_string_columns = list(list(zip(*cursor.fetchall()))[0])\n",
    "list_of_string_columns.remove('capakey')\n",
    "list_of_string_columns.remove('nat_lu_maj')\n",
    "list_of_string_columns.remove('dbris_rank')\n",
    "# Drop table if exits\n",
    "cursor.execute(\"DROP TABLE IF EXISTS results.%s\"%tmp_table_all_hilucs)\n",
    "# Main query\n",
    "mainquery = \"SELECT capakey,\\\n",
    "array_remove(array_prepend(nat_lu_maj,array_cat(dbris_rank,array_remove(ARRAY[%s], null))),null) as all_hilucs FROM results.%s \"%(','.join(list_of_string_columns),tmp_table_hilucs)\n",
    "# Create table query\n",
    "cursor.execute(\"CREATE TABLE results.%s AS (%s);\"%(tmp_table_all_hilucs,mainquery))\n",
    "# Delete records with empty array\n",
    "cursor.execute(\"DELETE FROM results.%s WHERE cardinality(all_hilucs)=0;\"%tmp_table_all_hilucs)\n",
    "# Make the changes to the database persistent\n",
    "con.commit()\n",
    "# Close connection with database\n",
    "cursor.close()\n",
    "# Close connexion to postgres database\n",
    "con.close()\n",
    "## Print processing time\n",
    "print(print_processing_time(begintime, \"Processing achieved in \"))"
   ]
  },
  {
   "cell_type": "code",
   "execution_count": null,
   "metadata": {},
   "outputs": [],
   "source": [
    "# Add index on 'capakey'\n",
    "con = create_pg_connexion(config_parameters)\n",
    "create_index(con, 'results', tmp_table_all_hilucs, 'capakey')\n",
    "con.close()"
   ]
  },
  {
   "cell_type": "markdown",
   "metadata": {},
   "source": [
    "### Array containing HILUCS level 3 and column with agreement"
   ]
  },
  {
   "cell_type": "code",
   "execution_count": null,
   "metadata": {
    "scrolled": true
   },
   "outputs": [],
   "source": [
    "# Time at starting\n",
    "begintime = time.time()  \n",
    "# Get a list of column name for picc_surface and picc_symbology\n",
    "con = create_pg_connexion(config_parameters)\n",
    "cursor = con.cursor()\n",
    "# Drop table if exits\n",
    "cursor.execute(\"DROP TABLE IF EXISTS results.%s\"%tmp_table_l3_hilucs)\n",
    "# Subquery\n",
    "subquery = \"SELECT capakey, unnest(all_hilucs) FROM results.%s\"%tmp_table_all_hilucs\n",
    "# Main query\n",
    "mainquery = \"SELECT capakey, array_agg(left(unnest,5)) as l3_hilucs FROM (%s) AS a \"%subquery\n",
    "mainquery += \"WHERE length(unnest) >= 5 GROUP BY capakey\"\n",
    "# Create table query\n",
    "cursor.execute(\"CREATE TABLE results.%s AS (%s);\"%(tmp_table_l3_hilucs,mainquery))\n",
    "# Delete records with empty array\n",
    "cursor.execute(\"DELETE FROM results.%s WHERE cardinality(l3_hilucs)=0;\"%tmp_table_l3_hilucs)\n",
    "# Make the changes to the database persistent\n",
    "con.commit()\n",
    "# Close connection with database\n",
    "cursor.close()\n",
    "# Close connexion to postgres database\n",
    "con.close()\n",
    "## Print processing time\n",
    "print(print_processing_time(begintime, \"Processing achieved in \"))"
   ]
  },
  {
   "cell_type": "code",
   "execution_count": null,
   "metadata": {},
   "outputs": [],
   "source": [
    "# Add index on 'capakey'\n",
    "con = create_pg_connexion(config_parameters)\n",
    "create_index(con, 'results', tmp_table_l3_hilucs, 'capakey')\n",
    "con.close()"
   ]
  },
  {
   "cell_type": "code",
   "execution_count": null,
   "metadata": {
    "scrolled": true
   },
   "outputs": [],
   "source": [
    "# Create connexion to postgres database\n",
    "con = create_pg_connexion(config_parameters)\n",
    "# Display header\n",
    "df = display_header(con, 'results', tmp_table_l3_hilucs, row_num=5)\n",
    "# Close connexion to postgres database\n",
    "con.close()\n",
    "# Display dataframe\n",
    "df"
   ]
  },
  {
   "cell_type": "markdown",
   "metadata": {},
   "source": [
    "### Array containing HILUCS level 2 and column with agreement"
   ]
  },
  {
   "cell_type": "code",
   "execution_count": null,
   "metadata": {
    "scrolled": true
   },
   "outputs": [],
   "source": [
    "# Time at starting\n",
    "begintime = time.time()  \n",
    "# Get a list of column name for picc_surface and picc_symbology\n",
    "con = create_pg_connexion(config_parameters)\n",
    "cursor = con.cursor()\n",
    "# Drop table if exits\n",
    "cursor.execute(\"DROP TABLE IF EXISTS results.%s\"%tmp_table_l2_hilucs)\n",
    "# Subquery\n",
    "subquery = \"SELECT capakey, unnest(all_hilucs) FROM results.%s\"%tmp_table_all_hilucs\n",
    "# Main query\n",
    "mainquery = \"SELECT capakey, array_agg(left(unnest,3)) as l2_hilucs FROM (%s) AS a \"%subquery\n",
    "mainquery += \"WHERE length(unnest) >= 3 GROUP BY capakey\"\n",
    "# Create table query\n",
    "cursor.execute(\"CREATE TABLE results.%s AS (%s);\"%(tmp_table_l2_hilucs,mainquery))\n",
    "# Delete records with empty array\n",
    "cursor.execute(\"DELETE FROM results.%s WHERE cardinality(l2_hilucs)=0;\"%tmp_table_l2_hilucs)\n",
    "# Make the changes to the database persistent\n",
    "con.commit()\n",
    "# Close connection with database\n",
    "cursor.close()\n",
    "# Close connexion to postgres database\n",
    "con.close()\n",
    "## Print processing time\n",
    "print(print_processing_time(begintime, \"Processing achieved in \"))"
   ]
  },
  {
   "cell_type": "code",
   "execution_count": null,
   "metadata": {},
   "outputs": [],
   "source": [
    "# Add index on 'capakey'\n",
    "con = create_pg_connexion(config_parameters)\n",
    "create_index(con, 'results', tmp_table_l2_hilucs, 'capakey')\n",
    "con.close()"
   ]
  },
  {
   "cell_type": "code",
   "execution_count": null,
   "metadata": {
    "scrolled": true
   },
   "outputs": [],
   "source": [
    "# Create connexion to postgres database\n",
    "con = create_pg_connexion(config_parameters)\n",
    "# Display header\n",
    "df = display_header(con, 'results', tmp_table_l2_hilucs, row_num=5)\n",
    "# Close connexion to postgres database\n",
    "con.close()\n",
    "# Display dataframe\n",
    "df"
   ]
  },
  {
   "cell_type": "markdown",
   "metadata": {},
   "source": [
    "### Array containing HILUCS level 1 and column with agreement"
   ]
  },
  {
   "cell_type": "code",
   "execution_count": null,
   "metadata": {
    "scrolled": false
   },
   "outputs": [],
   "source": [
    "# Time at starting\n",
    "begintime = time.time()  \n",
    "# Get a list of column name for picc_surface and picc_symbology\n",
    "con = create_pg_connexion(config_parameters)\n",
    "cursor = con.cursor()\n",
    "# Drop table if exits\n",
    "cursor.execute(\"DROP TABLE IF EXISTS results.%s\"%tmp_table_l1_hilucs)\n",
    "# Subquery\n",
    "subquery = \"SELECT capakey, unnest(all_hilucs) FROM results.%s\"%tmp_table_all_hilucs\n",
    "# Main query\n",
    "mainquery = \"SELECT capakey, array_agg(left(unnest,1)) as l1_hilucs FROM (%s) AS a \"%subquery\n",
    "mainquery += \"WHERE length(unnest) >= 1 GROUP BY capakey\"\n",
    "# Create table query\n",
    "cursor.execute(\"CREATE TABLE results.%s AS (%s);\"%(tmp_table_l1_hilucs,mainquery))\n",
    "# Delete records with empty array\n",
    "cursor.execute(\"DELETE FROM results.%s WHERE cardinality(l1_hilucs)=0;\"%tmp_table_l1_hilucs)\n",
    "# Make the changes to the database persistent\n",
    "con.commit()\n",
    "# Close connection with database\n",
    "cursor.close()\n",
    "# Close connexion to postgres database\n",
    "con.close()\n",
    "## Print processing time\n",
    "print(print_processing_time(begintime, \"Processing achieved in \"))"
   ]
  },
  {
   "cell_type": "code",
   "execution_count": null,
   "metadata": {},
   "outputs": [],
   "source": [
    "# Add index on 'capakey'\n",
    "con = create_pg_connexion(config_parameters)\n",
    "create_index(con, 'results', tmp_table_l1_hilucs, 'capakey')\n",
    "con.close()"
   ]
  },
  {
   "cell_type": "code",
   "execution_count": null,
   "metadata": {
    "scrolled": true
   },
   "outputs": [],
   "source": [
    "# Create connexion to postgres database\n",
    "con = create_pg_connexion(config_parameters)\n",
    "# Display header\n",
    "df = display_header(con, 'results', tmp_table_l1_hilucs, row_num=10)\n",
    "# Close connexion to postgres database\n",
    "con.close()\n",
    "# Display dataframe\n",
    "df"
   ]
  },
  {
   "cell_type": "markdown",
   "metadata": {},
   "source": [
    "## Add new columns to the main table"
   ]
  },
  {
   "cell_type": "code",
   "execution_count": null,
   "metadata": {
    "scrolled": true
   },
   "outputs": [],
   "source": [
    "# List of columns to join\n",
    "list_join_columns = []\n",
    "list_join_columns.append((tmp_table_all_hilucs, \"all_hilucs\"))\n",
    "list_join_columns.append((tmp_table_l3_hilucs, \"l3_hilucs\"))\n",
    "list_join_columns.append((tmp_table_l2_hilucs, \"l2_hilucs\"))\n",
    "list_join_columns.append((tmp_table_l1_hilucs, \"l1_hilucs\"))"
   ]
  },
  {
   "cell_type": "markdown",
   "metadata": {},
   "source": [
    "**Define LIMIT and OFFSET for batch queries**"
   ]
  },
  {
   "cell_type": "code",
   "execution_count": null,
   "metadata": {},
   "outputs": [],
   "source": [
    "# Set the number of batch desired\n",
    "batch_num = 15"
   ]
  },
  {
   "cell_type": "code",
   "execution_count": null,
   "metadata": {},
   "outputs": [],
   "source": [
    "# Create list with LIMIT and OFFSET value to perform the update query in batch mode\n",
    "con = create_pg_connexion(config_parameters)\n",
    "cursor = con.cursor()\n",
    "cursor.execute(\"SELECT count(*) FROM results.{maintable}\".format(maintable=create_table))\n",
    "total_rows = int(cursor.fetchone()[0])\n",
    "cursor.close()\n",
    "con.close()\n",
    "x = list(np.linspace(1,total_rows,batch_num+1))\n",
    "x = [int(i) for i in x]\n",
    "batch_list = [[x[i+1]-x[i],x[i]-1] for i in range(batch_num)]\n",
    "batch_list[-1][0] = total_rows-batch_list[-1][1] # Change last value to be sure to include all records (because of the rounding of linspace() output)\n",
    "# Print \n",
    "for i,x in enumerate(batch_list,1):\n",
    "    print(\"Batch %s: LIMIT %s OFFSET %s\"%(i,x[0],x[1]))"
   ]
  },
  {
   "cell_type": "markdown",
   "metadata": {},
   "source": [
    "**Add columns**"
   ]
  },
  {
   "cell_type": "code",
   "execution_count": null,
   "metadata": {
    "scrolled": false
   },
   "outputs": [],
   "source": [
    "# Time at starting\n",
    "begintime = time.time()  \n",
    "con = create_pg_connexion(config_parameters)\n",
    "cursor = con.cursor()\n",
    "for jointable, col in list_join_columns:\n",
    "    # Add column query\n",
    "    cursor.execute(\"ALTER TABLE results.{maintable} ADD COLUMN IF NOT EXISTS {col} text[]\".format(maintable=create_table,col=col))\n",
    "    cursor.execute(\"ALTER TABLE results.{maintable} ADD COLUMN IF NOT EXISTS agreement_{col} BOOLEAN\".format(maintable=create_table,col=col))\n",
    "    con.commit()\n",
    "# Close connection with database\n",
    "cursor.close()\n",
    "# Close connexion to postgres database\n",
    "con.close()\n",
    "## Print processing time\n",
    "print(print_processing_time(begintime, \"Processing achieved in \"))"
   ]
  },
  {
   "cell_type": "markdown",
   "metadata": {},
   "source": [
    "**Join array from temporary table**"
   ]
  },
  {
   "cell_type": "code",
   "execution_count": null,
   "metadata": {},
   "outputs": [],
   "source": [
    "print(\"Starting batch processing...\")\n",
    "begintime = time.time()  \n",
    "for jointable, col in list_join_columns:\n",
    "    print(\"--- Processing column '%s' ---\"%col)\n",
    "    for i,batch in enumerate(batch_list,1): \n",
    "        begintime_batch = time.time() \n",
    "        con = create_pg_connexion(config_parameters)\n",
    "        cursor = con.cursor()\n",
    "        from_subquery = \"SELECT * FROM results.{jointable} ORDER BY capakey LIMIT {limit} OFFSET {offset}\"\n",
    "        from_subquery = from_subquery.format(jointable=jointable,limit=batch[0],offset=batch[1])\n",
    "        query = \"UPDATE results.{maintable} SET {col}=a.{col} FROM ({from_subquery}) AS a WHERE {maintable}.capakey=a.capakey\"\n",
    "        query = query.format(maintable=create_table,jointable=jointable,from_subquery=from_subquery,col=col)\n",
    "        cursor.execute(query)\n",
    "        con.commit()\n",
    "        cursor.close()\n",
    "        con.close()\n",
    "        print(print_processing_time(begintime_batch, \"Batch n°%s achieved in \"%i))\n",
    "print(print_processing_time(begintime, \"All processing achieved in \"))"
   ]
  },
  {
   "cell_type": "markdown",
   "metadata": {},
   "source": [
    "**Update agreement column**"
   ]
  },
  {
   "cell_type": "code",
   "execution_count": null,
   "metadata": {},
   "outputs": [],
   "source": [
    "print(\"Starting batch processing...\")\n",
    "begintime = time.time()  \n",
    "for jointable, col in list_join_columns:\n",
    "    print(\"--- Processing column '%s' ---\"%col)\n",
    "    for i,batch in enumerate(batch_list,1): \n",
    "        begintime_batch = time.time() \n",
    "        con = create_pg_connexion(config_parameters)\n",
    "        cursor = con.cursor()\n",
    "        where_subquery = \"capakey in (SELECT capakey FROM results.{maintable} ORDER BY capakey LIMIT {limit} OFFSET {offset})\"\n",
    "        where_subquery = where_subquery.format(maintable=create_table,limit=batch[0],offset=batch[1])\n",
    "        case_condition = \"CASE WHEN cardinality({col}) > 1 THEN CASE WHEN {col}[1] = ALL({col}) THEN TRUE ELSE FALSE END END\".format(col=col)\n",
    "        update_query = \"UPDATE results.{maintable} SET agreement_{col} = (%s) WHERE %s\"%(case_condition,where_subquery)\n",
    "        cursor.execute(update_query.format(maintable=create_table,col=col))\n",
    "        con.commit()\n",
    "        cursor.close()\n",
    "        con.close()\n",
    "        print(print_processing_time(begintime_batch, \"Batch n°%s achieved in \"%i))\n",
    "print(print_processing_time(begintime, \"All processing achieved in \"))"
   ]
  },
  {
   "cell_type": "markdown",
   "metadata": {},
   "source": [
    "**Display table**"
   ]
  },
  {
   "cell_type": "code",
   "execution_count": null,
   "metadata": {
    "scrolled": true
   },
   "outputs": [],
   "source": [
    "# Create connexion to postgres database\n",
    "con = create_pg_connexion(config_parameters)\n",
    "# Display header\n",
    "whereconditions = []\n",
    "# whereconditions.append(\"nat_lu_maj IS NOT NULL\")\n",
    "# whereconditions.append(\"dbris_maj IS NOT NULL\")\n",
    "# whereconditions.append(\"ms_populat_tot IS NOT NULL\")\n",
    "# whereconditions.append(\"lc_prop_11 IS NOT NULL\")\n",
    "whereconditions.append(\"sapin_noel_prop_1_1_1_c IS NOT NULL\")\n",
    "df = display_header(con, 'results', create_table, where=' AND '.join(whereconditions), row_num=15)\n",
    "# Close connexion to postgres database\n",
    "con.close()\n",
    "# Display dataframe\n",
    "df"
   ]
  },
  {
   "cell_type": "markdown",
   "metadata": {},
   "source": [
    "### Drop all intermediate tables"
   ]
  },
  {
   "cell_type": "code",
   "execution_count": null,
   "metadata": {},
   "outputs": [],
   "source": [
    "# Create connexion to postgres database\n",
    "con = create_pg_connexion(config_parameters)\n",
    "# Create cursor\n",
    "cursor = con.cursor()\n",
    "# Drop table if exits\n",
    "cursor.execute(\"DROP TABLE IF EXISTS results.%s\"%tmp_table_hilucs)\n",
    "cursor.execute(\"DROP TABLE IF EXISTS results.%s\"%tmp_table_all_hilucs)\n",
    "cursor.execute(\"DROP TABLE IF EXISTS results.%s\"%tmp_table_l3_hilucs)\n",
    "cursor.execute(\"DROP TABLE IF EXISTS results.%s\"%tmp_table_l2_hilucs)\n",
    "cursor.execute(\"DROP TABLE IF EXISTS results.%s\"%tmp_table_l1_hilucs)\n",
    "# Make the changes to the database persistent\n",
    "con.commit()\n",
    "# Close connection with database\n",
    "cursor.close()\n",
    "# Close connexion to postgres database\n",
    "con.close()"
   ]
  },
  {
   "cell_type": "markdown",
   "metadata": {},
   "source": [
    "## Backup of Postgresql data"
   ]
  },
  {
   "cell_type": "markdown",
   "metadata": {},
   "source": [
    "**Backup of final table with all statistics**"
   ]
  },
  {
   "cell_type": "code",
   "execution_count": null,
   "metadata": {},
   "outputs": [],
   "source": [
    "# Create a specific table\n",
    "dump_table(config_parameters['pg_host'],config_parameters['pg_dbname'],config_parameters['pg_user'],\n",
    "           config_parameters['pg_password'], 'results', create_table, data['backup_final_table'])"
   ]
  },
  {
   "cell_type": "markdown",
   "metadata": {},
   "source": [
    "**Backup of the whole database**"
   ]
  },
  {
   "cell_type": "code",
   "execution_count": null,
   "metadata": {
    "scrolled": true
   },
   "outputs": [],
   "source": [
    "# Create a back-up of the whole database\n",
    "dump_db(config_parameters['pg_host'],config_parameters['pg_dbname'],config_parameters['pg_user'],\n",
    "           config_parameters['pg_password'], data['backup_db'])"
   ]
  },
  {
   "cell_type": "code",
   "execution_count": null,
   "metadata": {},
   "outputs": [],
   "source": []
  }
 ],
 "metadata": {
  "kernelspec": {
   "display_name": "Python 3",
   "language": "python",
   "name": "python3"
  },
  "language_info": {
   "codemirror_mode": {
    "name": "ipython",
    "version": 3
   },
   "file_extension": ".py",
   "mimetype": "text/x-python",
   "name": "python",
   "nbconvert_exporter": "python",
   "pygments_lexer": "ipython3",
   "version": "3.6.10"
  }
 },
 "nbformat": 4,
 "nbformat_minor": 2
}
