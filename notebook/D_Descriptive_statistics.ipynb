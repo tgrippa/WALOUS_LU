{
 "cells": [
  {
   "cell_type": "markdown",
   "metadata": {},
   "source": [
    "<p><strong><font size=\"6\">WALOUS</font></strong></p>"
   ]
  },
  {
   "cell_type": "markdown",
   "metadata": {},
   "source": [
    "<p><strong><font size=\"6\">D_Descriptive_statistics</font></strong></p>"
   ]
  },
  {
   "cell_type": "markdown",
   "metadata": {},
   "source": [
    "WALOUS_UTS - Copyright (C) <2020> <Service Public de Wallonie (SWP), Belgique,\n",
    "\t\t\t\t\t          \t\tInstitut Scientifique de Service Public (ISSeP), Belgique,\n",
    "\t\t\t\t\t\t\t\t\tUniversité catholique de Louvain (UCLouvain), Belgique,\n",
    "\t\t\t\t\t\t\t\t\tUniversité Libre de Bruxelles (ULB), Belgique>\t\t\t\t\t\t \t\t\n",
    "\t\n",
    "List of the contributors to the development of WALOUS_UTS: see LICENSE file.\n",
    "\n",
    "\n",
    "Description and complete License: see LICENSE file.\n",
    "\t\n",
    "This program (WALOUS_UTS) is free software:\n",
    "you can redistribute it and/or modify it under the terms of the\n",
    "GNU General Public License as published by the Free Software\n",
    "Foundation, either version 3 of the License, or (at your option)\n",
    "any later version.\n",
    "\n",
    "This program is distributed in the hope that it will be useful,\n",
    "but WITHOUT ANY WARRANTY; without even the implied warranty of\n",
    "MERCHANTABILITY or FITNESS FOR A PARTICULAR PURPOSE.  See the\n",
    "GNU General Public License for more details.\n",
    "\n",
    "You should have received a copy of the GNU General Public License\n",
    "along with this program (see COPYING file).  If not,\n",
    "see <http://www.gnu.org/licenses/>."
   ]
  },
  {
   "cell_type": "markdown",
   "metadata": {},
   "source": [
    "---------\n",
    "Jupyter Notebook containing the preprocessing steps consisting of: \n",
    "- Computing some descriptive statistics about the coherence of information in the input dataset"
   ]
  },
  {
   "cell_type": "markdown",
   "metadata": {},
   "source": [
    "# Table of Contents"
   ]
  },
  {
   "cell_type": "markdown",
   "metadata": {},
   "source": [
    "<div id=\"toc\"></div>"
   ]
  },
  {
   "cell_type": "markdown",
   "metadata": {},
   "source": [
    "The following cell is a Javascript section of code for building the Jupyter notebook's table of content."
   ]
  },
  {
   "cell_type": "code",
   "execution_count": null,
   "metadata": {},
   "outputs": [],
   "source": [
    "%%javascript\n",
    "$.getScript('https://kmahelona.github.io/ipython_notebook_goodies/ipython_notebook_toc.js')"
   ]
  },
  {
   "cell_type": "markdown",
   "metadata": {},
   "source": [
    "# Define working environment"
   ]
  },
  {
   "cell_type": "markdown",
   "metadata": {},
   "source": [
    "**Import libraries**"
   ]
  },
  {
   "cell_type": "code",
   "execution_count": null,
   "metadata": {},
   "outputs": [],
   "source": [
    "# Import libraries needed for setting parameters of operating system \n",
    "import os\n",
    "import sys\n",
    "import csv\n",
    "import tempfile\n",
    "import glob"
   ]
  },
  {
   "cell_type": "code",
   "execution_count": null,
   "metadata": {},
   "outputs": [],
   "source": [
    "## Import Psycopg2 library (interection with postgres database)\n",
    "import psycopg2\n",
    "## Import Subprocess\n",
    "import subprocess"
   ]
  },
  {
   "cell_type": "code",
   "execution_count": null,
   "metadata": {},
   "outputs": [],
   "source": [
    "## Import Pandas library (View and manipulaiton of tables)\n",
    "import pandas as pd\n",
    "pd.set_option('display.max_columns', 100)"
   ]
  },
  {
   "cell_type": "code",
   "execution_count": null,
   "metadata": {},
   "outputs": [],
   "source": [
    "## Import multiprocessing and functools libraries\n",
    "import multiprocessing\n",
    "from multiprocessing import Pool\n",
    "from functools import partial"
   ]
  },
  {
   "cell_type": "markdown",
   "metadata": {},
   "source": [
    "**Add folder with SCR provided belong to this notebook**"
   ]
  },
  {
   "cell_type": "code",
   "execution_count": null,
   "metadata": {},
   "outputs": [],
   "source": [
    "# Add local module to the path\n",
    "src = os.path.abspath('../SRC')\n",
    "if src not in sys.path:\n",
    "    sys.path.append(src)"
   ]
  },
  {
   "cell_type": "markdown",
   "metadata": {},
   "source": [
    "**Setup environment variables**"
   ]
  },
  {
   "cell_type": "markdown",
   "metadata": {},
   "source": [
    "Please edit the file in `../SRC/config.py`, containing the configuration parameters, according to your own computer setup. The following cell is used to run this file.\n",
    "\n"
   ]
  },
  {
   "cell_type": "code",
   "execution_count": null,
   "metadata": {
    "scrolled": true
   },
   "outputs": [],
   "source": [
    "run ../SRC/config.py"
   ]
  },
  {
   "cell_type": "code",
   "execution_count": null,
   "metadata": {
    "scrolled": true
   },
   "outputs": [],
   "source": [
    "print(config_parameters)"
   ]
  },
  {
   "cell_type": "code",
   "execution_count": null,
   "metadata": {},
   "outputs": [],
   "source": [
    "# Import functions that setup the environmental variables\n",
    "import environ_variables as envi"
   ]
  },
  {
   "cell_type": "raw",
   "metadata": {
    "collapsed": true
   },
   "source": [
    "# Import functions that setup the environmental variables\n",
    "reload (envi)"
   ]
  },
  {
   "cell_type": "code",
   "execution_count": null,
   "metadata": {
    "scrolled": true
   },
   "outputs": [],
   "source": [
    "# Set environmental variables\n",
    "envi.setup_environmental_variables() \n",
    "# Display current environment variables of your computer\n",
    "envi.print_environmental_variables()"
   ]
  },
  {
   "cell_type": "markdown",
   "metadata": {},
   "source": [
    "**Other functions**"
   ]
  },
  {
   "cell_type": "code",
   "execution_count": null,
   "metadata": {},
   "outputs": [],
   "source": [
    "# Import functions for processing time information\n",
    "import time\n",
    "from processing_time import start_processing, print_processing_time"
   ]
  },
  {
   "cell_type": "markdown",
   "metadata": {},
   "source": [
    "**psycopg2 + Postgresql functions**"
   ]
  },
  {
   "cell_type": "code",
   "execution_count": null,
   "metadata": {},
   "outputs": [],
   "source": [
    "# Import function that display postgresql's table header\n",
    "from display_header import display_header\n",
    "# Import function to creation connection to Postgresql database \n",
    "from postgres_functions import create_pg_connexion"
   ]
  },
  {
   "cell_type": "code",
   "execution_count": null,
   "metadata": {
    "scrolled": true
   },
   "outputs": [],
   "source": [
    "# Import function for computation of descriptive statistics\n",
    "from descript_stats import get_count_area, descript_stats_proportion"
   ]
  },
  {
   "cell_type": "markdown",
   "metadata": {},
   "source": [
    "# Compute descriptive statistics"
   ]
  },
  {
   "cell_type": "code",
   "execution_count": null,
   "metadata": {},
   "outputs": [],
   "source": [
    "# Name of the table containing all the informations\n",
    "final_table = \"capa_statistics_wall_a\""
   ]
  },
  {
   "cell_type": "markdown",
   "metadata": {},
   "source": [
    "**Get values of total count and total area of cadastred spaces in Wallonia**"
   ]
  },
  {
   "cell_type": "code",
   "execution_count": null,
   "metadata": {},
   "outputs": [],
   "source": [
    "# Get values\n",
    "total, total_area = get_count_area(config_parameters, 'results', final_table)"
   ]
  },
  {
   "cell_type": "markdown",
   "metadata": {},
   "source": [
    "## Completeness of informations in the database"
   ]
  },
  {
   "cell_type": "markdown",
   "metadata": {},
   "source": [
    "**Records having not any information**"
   ]
  },
  {
   "cell_type": "code",
   "execution_count": null,
   "metadata": {
    "scrolled": true
   },
   "outputs": [],
   "source": [
    "# Print proportions\n",
    "descript_stats_proportion(config_parameters, 'results', final_table, total, total_area, \n",
    "                          where=\"WHERE all_hilucs is null\")"
   ]
  },
  {
   "cell_type": "markdown",
   "metadata": {},
   "source": [
    "**Records having not cadastral information**"
   ]
  },
  {
   "cell_type": "code",
   "execution_count": null,
   "metadata": {},
   "outputs": [],
   "source": [
    "# Print proportions\n",
    "descript_stats_proportion(config_parameters, 'results', final_table, total, total_area, \n",
    "                          where=\"WHERE nat_lu_maj is null\")"
   ]
  },
  {
   "cell_type": "markdown",
   "metadata": {},
   "source": [
    "**Records having only 1 information**"
   ]
  },
  {
   "cell_type": "code",
   "execution_count": null,
   "metadata": {
    "scrolled": true
   },
   "outputs": [],
   "source": [
    "# Print proportions\n",
    "descript_stats_proportion(config_parameters, 'results', final_table, total, total_area, \n",
    "                          where=\"WHERE cardinality(all_hilucs) = 1\")"
   ]
  },
  {
   "cell_type": "markdown",
   "metadata": {},
   "source": [
    "**Records having only unknown class (8_8)**"
   ]
  },
  {
   "cell_type": "code",
   "execution_count": null,
   "metadata": {
    "scrolled": true
   },
   "outputs": [],
   "source": [
    "# Print proportions\n",
    "descript_stats_proportion(config_parameters, 'results', final_table, total, total_area, \n",
    "                          where=\"WHERE '8_8' = ALL(all_hilucs)\")"
   ]
  },
  {
   "cell_type": "markdown",
   "metadata": {},
   "source": [
    "**Records having only 1 uncertain cadastral information (corresponding to 8_8)**"
   ]
  },
  {
   "cell_type": "code",
   "execution_count": null,
   "metadata": {},
   "outputs": [],
   "source": [
    "# Print proportions\n",
    "descript_stats_proportion(config_parameters, 'results', final_table, total, total_area, \n",
    "                          where=\"WHERE nat_lu_maj = '8_8' AND nat_nb_dist_lu = 1\")"
   ]
  },
  {
   "cell_type": "markdown",
   "metadata": {},
   "source": [
    "**Records having 2 informations**"
   ]
  },
  {
   "cell_type": "code",
   "execution_count": null,
   "metadata": {
    "scrolled": true
   },
   "outputs": [],
   "source": [
    "# Print proportions\n",
    "descript_stats_proportion(config_parameters, 'results', final_table, total, total_area, \n",
    "                          where=\"WHERE cardinality(all_hilucs) = 2\")"
   ]
  },
  {
   "cell_type": "markdown",
   "metadata": {},
   "source": [
    "**Records having 3 informations**"
   ]
  },
  {
   "cell_type": "code",
   "execution_count": null,
   "metadata": {
    "scrolled": true
   },
   "outputs": [],
   "source": [
    "# Print proportions\n",
    "descript_stats_proportion(config_parameters, 'results', final_table, total, total_area, \n",
    "                          where=\"WHERE cardinality(all_hilucs) = 3\")"
   ]
  },
  {
   "cell_type": "markdown",
   "metadata": {},
   "source": [
    "**Records having more than 3 informations**"
   ]
  },
  {
   "cell_type": "code",
   "execution_count": null,
   "metadata": {
    "scrolled": false
   },
   "outputs": [],
   "source": [
    "# Print proportions\n",
    "descript_stats_proportion(config_parameters, 'results', final_table, total, total_area, \n",
    "                          where=\"WHERE cardinality(all_hilucs) > 3\")"
   ]
  },
  {
   "cell_type": "markdown",
   "metadata": {},
   "source": [
    "**Mean number of information per parcel**"
   ]
  },
  {
   "cell_type": "code",
   "execution_count": null,
   "metadata": {
    "scrolled": true
   },
   "outputs": [],
   "source": [
    "con = create_pg_connexion(config_parameters) # Create connexion\n",
    "cursor = con.cursor() # Create cursor\n",
    "# SQL query\n",
    "query = \"SELECT AVG(Cardinality(all_hilucs)) FROM {schema}.{table}\"\n",
    "cursor.execute(query.format(schema='results',table=final_table))\n",
    "i = cursor.fetchone()[0] # fetch the first row\n",
    "# Close connection with database\n",
    "cursor.close()\n",
    "# Close connexion to postgres database\n",
    "con.close()\n",
    "print(i)"
   ]
  },
  {
   "cell_type": "markdown",
   "metadata": {},
   "source": [
    "**Maximum number of information for a parcel**"
   ]
  },
  {
   "cell_type": "code",
   "execution_count": null,
   "metadata": {
    "scrolled": true
   },
   "outputs": [],
   "source": [
    "con = create_pg_connexion(config_parameters) # Create connexion\n",
    "cursor = con.cursor() # Create cursor\n",
    "# SQL query\n",
    "query = \"SELECT MAX(Cardinality(all_hilucs)) FROM {schema}.{table}\"\n",
    "cursor.execute(query.format(schema='results',table=final_table))\n",
    "i = int(cursor.fetchone()[0]) # fetch the first row\n",
    "# Close connection with database\n",
    "cursor.close()\n",
    "# Close connexion to postgres database\n",
    "con.close()\n",
    "print(i)"
   ]
  },
  {
   "cell_type": "markdown",
   "metadata": {},
   "source": [
    "**Records having an uncertain cadastral information but have other information available**"
   ]
  },
  {
   "cell_type": "code",
   "execution_count": null,
   "metadata": {},
   "outputs": [],
   "source": [
    "# Print proportions\n",
    "descript_stats_proportion(config_parameters, 'results', final_table, total, total_area, \n",
    "                          where=\"WHERE nat_lu_maj = '8_8' AND Cardinality(all_hilucs) > 1\")"
   ]
  },
  {
   "cell_type": "markdown",
   "metadata": {},
   "source": [
    "## Agreement of DBs informations"
   ]
  },
  {
   "cell_type": "markdown",
   "metadata": {},
   "source": [
    "### HILUCS agreement for all levels (all hilucs correspondences agree)"
   ]
  },
  {
   "cell_type": "code",
   "execution_count": null,
   "metadata": {
    "scrolled": true
   },
   "outputs": [],
   "source": [
    "# Print proportions\n",
    "descript_stats_proportion(config_parameters, 'results', final_table, total, total_area, \n",
    "                          where=\"WHERE agreement_all_hilucs is TRUE\")"
   ]
  },
  {
   "cell_type": "markdown",
   "metadata": {},
   "source": [
    "### HILUCS Level 3 agreement"
   ]
  },
  {
   "cell_type": "markdown",
   "metadata": {},
   "source": [
    "**Records for which all informations agree at HILUCS level 3**"
   ]
  },
  {
   "cell_type": "code",
   "execution_count": null,
   "metadata": {
    "scrolled": true
   },
   "outputs": [],
   "source": [
    "# Print proportions\n",
    "descript_stats_proportion(config_parameters, 'results', final_table, total, total_area, \n",
    "                          where=\"WHERE agreement_l3_hilucs is TRUE\")"
   ]
  },
  {
   "cell_type": "markdown",
   "metadata": {},
   "source": [
    "### HILUCS Level 2 agreement"
   ]
  },
  {
   "cell_type": "markdown",
   "metadata": {},
   "source": [
    "**Records for which all informations agree at HILUCS level 2**"
   ]
  },
  {
   "cell_type": "code",
   "execution_count": null,
   "metadata": {
    "scrolled": true
   },
   "outputs": [],
   "source": [
    "# Print proportions\n",
    "descript_stats_proportion(config_parameters, 'results', final_table, total, total_area, \n",
    "                          where=\"WHERE agreement_l2_hilucs is TRUE\")"
   ]
  },
  {
   "cell_type": "markdown",
   "metadata": {},
   "source": [
    "**Records having only multiple informations at level 2 and for which all informations agree**"
   ]
  },
  {
   "cell_type": "code",
   "execution_count": null,
   "metadata": {
    "scrolled": true
   },
   "outputs": [],
   "source": [
    "# Print proportions\n",
    "descript_stats_proportion(config_parameters, 'results', final_table, total, total_area, \n",
    "                          where=\"WHERE agreement_l2_hilucs is TRUE AND agreement_l3_hilucs is NULL\")"
   ]
  },
  {
   "cell_type": "markdown",
   "metadata": {},
   "source": [
    "**Records for which all informations agree at HILUCS level 2 but not at level 3**"
   ]
  },
  {
   "cell_type": "code",
   "execution_count": null,
   "metadata": {
    "scrolled": true
   },
   "outputs": [],
   "source": [
    "# Print proportions\n",
    "descript_stats_proportion(config_parameters, 'results', final_table, total, total_area, \n",
    "                          where=\"WHERE agreement_l2_hilucs is TRUE AND agreement_l3_hilucs is FALSE\")"
   ]
  },
  {
   "cell_type": "markdown",
   "metadata": {},
   "source": [
    "### HILUCS Level 1 agreement"
   ]
  },
  {
   "cell_type": "markdown",
   "metadata": {},
   "source": [
    "**Records for which all informations agree at HILUCS level 1**"
   ]
  },
  {
   "cell_type": "code",
   "execution_count": null,
   "metadata": {
    "scrolled": true
   },
   "outputs": [],
   "source": [
    "# Print proportions\n",
    "descript_stats_proportion(config_parameters, 'results', final_table, total, total_area, \n",
    "                          where=\"WHERE agreement_l1_hilucs is TRUE\")"
   ]
  },
  {
   "cell_type": "markdown",
   "metadata": {},
   "source": [
    "**Records having only multiple informations at level 1 and for which all informations agree**"
   ]
  },
  {
   "cell_type": "code",
   "execution_count": null,
   "metadata": {
    "scrolled": true
   },
   "outputs": [],
   "source": [
    "# Print proportions\n",
    "descript_stats_proportion(config_parameters, 'results', final_table, total, total_area, \n",
    "                          where=\"WHERE agreement_l1_hilucs is TRUE AND agreement_l2_hilucs is NULL\")"
   ]
  },
  {
   "cell_type": "markdown",
   "metadata": {},
   "source": [
    "**Records for which all informations agree at HILUCS level 1 but not at level 2**"
   ]
  },
  {
   "cell_type": "code",
   "execution_count": null,
   "metadata": {
    "scrolled": false
   },
   "outputs": [],
   "source": [
    "# Print proportions\n",
    "descript_stats_proportion(config_parameters, 'results', final_table, total, total_area, \n",
    "                          where=\"WHERE agreement_l1_hilucs is TRUE AND agreement_l2_hilucs is FALSE\")"
   ]
  },
  {
   "cell_type": "code",
   "execution_count": null,
   "metadata": {},
   "outputs": [],
   "source": []
  },
  {
   "cell_type": "code",
   "execution_count": null,
   "metadata": {},
   "outputs": [],
   "source": []
  }
 ],
 "metadata": {
  "kernelspec": {
   "display_name": "Python 3",
   "language": "python",
   "name": "python3"
  },
  "language_info": {
   "codemirror_mode": {
    "name": "ipython",
    "version": 3
   },
   "file_extension": ".py",
   "mimetype": "text/x-python",
   "name": "python",
   "nbconvert_exporter": "python",
   "pygments_lexer": "ipython3",
   "version": "3.6.10"
  }
 },
 "nbformat": 4,
 "nbformat_minor": 2
}
