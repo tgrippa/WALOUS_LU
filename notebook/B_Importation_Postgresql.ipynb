{
 "cells": [
  {
   "cell_type": "markdown",
   "metadata": {},
   "source": [
    "<p><strong><font size=\"6\">WalOUS project</font></strong></p>\n",
    "\n",
    "<p><strong><font size=\"6\">B_Importation_Postgresql</font></strong></p>"
   ]
  },
  {
   "cell_type": "markdown",
   "metadata": {},
   "source": [
    "WALOUS_LU - Copyright (C) <2020> <Université catholique de Louvain (UCLouvain), Belgique\n",
    "\t\t\t\t\t Université Libre de Bruxelles (ULB), Belgique\n",
    "\t\t\t\t\t Institut Scientifique de Service Public (ISSeP), Belgique\n",
    "\t\t\t\t\t Service Public de Wallonie (SWP), Belgique >\n",
    "\t\t\t\t\t\t \t\t\t\t\t\t\t\n",
    "\t\n",
    "List of the contributors to the development of WALOUS_LU: see LICENSE file.\n",
    "Description and complete License: see LICENSE file.\n",
    "\t\n",
    "This program (WALOUS_LU) is free software:\n",
    "you can redistribute it and/or modify it under the terms of the\n",
    "GNU General Public License as published by the Free Software\n",
    "Foundation, either version 3 of the License, or (at your option)\n",
    "any later version.\n",
    "\n",
    "This program is distributed in the hope that it will be useful,\n",
    "but WITHOUT ANY WARRANTY; without even the implied warranty of\n",
    "MERCHANTABILITY or FITNESS FOR A PARTICULAR PURPOSE.  See the\n",
    "GNU General Public License for more details.\n",
    "\n",
    "You should have received a copy of the GNU General Public License\n",
    "along with this program (see COPYING file).  If not,\n",
    "see <http://www.gnu.org/licenses/>."
   ]
  },
  {
   "cell_type": "markdown",
   "metadata": {},
   "source": [
    "------- \n",
    "Jupyter Notebook containing the preprocessing steps consisting of: \n",
    "- Importation of source data in the PostgreSQL database.\n",
    "- Cleaning some data. \n",
    "- When needed, transforming the actual input data labels to a HILUCS compatible label by using lookup tables. "
   ]
  },
  {
   "cell_type": "markdown",
   "metadata": {},
   "source": [
    "# Table of Contents"
   ]
  },
  {
   "cell_type": "markdown",
   "metadata": {},
   "source": [
    "<div id=\"toc\"></div>"
   ]
  },
  {
   "cell_type": "markdown",
   "metadata": {},
   "source": [
    "The following cell is a Javascript section of code for building the Jupyter notebook's table of content."
   ]
  },
  {
   "cell_type": "code",
   "execution_count": null,
   "metadata": {
    "scrolled": false
   },
   "outputs": [],
   "source": [
    "%%javascript\n",
    "$.getScript('https://kmahelona.github.io/ipython_notebook_goodies/ipython_notebook_toc.js')"
   ]
  },
  {
   "cell_type": "markdown",
   "metadata": {},
   "source": [
    "# Define working environment"
   ]
  },
  {
   "cell_type": "markdown",
   "metadata": {},
   "source": [
    "**Import libraries**"
   ]
  },
  {
   "cell_type": "code",
   "execution_count": null,
   "metadata": {},
   "outputs": [],
   "source": [
    "# Import libraries needed for setting parameters of operating system \n",
    "import os\n",
    "import sys"
   ]
  },
  {
   "cell_type": "markdown",
   "metadata": {},
   "source": [
    "**Add folder with SCR provided belong to this notebook**"
   ]
  },
  {
   "cell_type": "code",
   "execution_count": null,
   "metadata": {},
   "outputs": [],
   "source": [
    "# Add local module to the path\n",
    "src = os.path.abspath('../SRC')\n",
    "if src not in sys.path:\n",
    "    sys.path.append(src)"
   ]
  },
  {
   "cell_type": "markdown",
   "metadata": {},
   "source": [
    "**Setup environment variables**"
   ]
  },
  {
   "cell_type": "markdown",
   "metadata": {},
   "source": [
    "Please edit the file in `../SRC/config.py`, containing the configuration parameters, according to your own computer setup. The following cell is used to run this file.\n",
    "\n"
   ]
  },
  {
   "cell_type": "code",
   "execution_count": null,
   "metadata": {
    "scrolled": true
   },
   "outputs": [],
   "source": [
    "run ../SRC/config.py"
   ]
  },
  {
   "cell_type": "code",
   "execution_count": null,
   "metadata": {},
   "outputs": [],
   "source": [
    "# Import functions that setup the environmental variables\n",
    "import environ_variables as envi"
   ]
  },
  {
   "cell_type": "code",
   "execution_count": null,
   "metadata": {
    "scrolled": true
   },
   "outputs": [],
   "source": [
    "# Set environmental variables\n",
    "envi.setup_environmental_variables() \n",
    "# Display current environment variables of your computer\n",
    "envi.print_environmental_variables()"
   ]
  },
  {
   "cell_type": "markdown",
   "metadata": {},
   "source": [
    "**Custom functions: Psycopg2 and Postgresql functions**"
   ]
  },
  {
   "cell_type": "code",
   "execution_count": null,
   "metadata": {},
   "outputs": [],
   "source": [
    "# Import function that display postgresql's table header\n",
    "from display_header import display_header\n",
    "# Import function to creation connection to Postgresql database \n",
    "from postgres_functions import create_pg_connexion\n",
    "# Import function to creation of Postgresql schema \n",
    "from postgres_functions import create_pg_schema\n",
    "# Import function to give rights to user on a specific schema\n",
    "from postgres_functions import grant_user"
   ]
  },
  {
   "cell_type": "code",
   "execution_count": null,
   "metadata": {
    "scrolled": true
   },
   "outputs": [],
   "source": [
    "# Import function that manage importation of a Shapefile into postgresql database\n",
    "from postgres_import import shp2pgsql\n",
    "from postgres_import import ogr2ogr_import\n",
    "# Import a function that manage importation of a CSV file\n",
    "from postgres_import import import_csv"
   ]
  },
  {
   "cell_type": "code",
   "execution_count": null,
   "metadata": {},
   "outputs": [],
   "source": [
    "# Import function to create index\n",
    "from postgres_functions import create_index\n",
    "# Import function that fix not valid geometries\n",
    "from postgres_geom import make_valid\n",
    "# Import function that split multi-part polygon in single part polgons\n",
    "from postgres_geom import split_multipolygon_to_singlepolygon"
   ]
  },
  {
   "cell_type": "markdown",
   "metadata": {},
   "source": [
    "**Custom functions: others**"
   ]
  },
  {
   "cell_type": "code",
   "execution_count": null,
   "metadata": {},
   "outputs": [],
   "source": [
    "# Import functions for processing time information\n",
    "import time\n",
    "from processing_time import start_processing, print_processing_time"
   ]
  },
  {
   "cell_type": "markdown",
   "metadata": {},
   "source": [
    "# Cadastral informations"
   ]
  },
  {
   "cell_type": "markdown",
   "metadata": {},
   "source": [
    "## Create new schema"
   ]
  },
  {
   "cell_type": "code",
   "execution_count": null,
   "metadata": {
    "scrolled": false
   },
   "outputs": [],
   "source": [
    "# Create connexion to postgres database\n",
    "con = create_pg_connexion(config_parameters)\n",
    "# Create new schema\n",
    "create_pg_schema(con, 'agdp', overwrite=False)\n",
    "grant_user(con, 'agdp', 'bbeaumont')\n",
    "# Close connexion to postgres database\n",
    "con.close()"
   ]
  },
  {
   "cell_type": "markdown",
   "metadata": {},
   "source": [
    "## Import cadastral parcels"
   ]
  },
  {
   "cell_type": "code",
   "execution_count": null,
   "metadata": {
    "scrolled": false
   },
   "outputs": [],
   "source": [
    "# Import shapefile into postgis database\n",
    "ogr2ogr_import(data['capa'][1], config_parameters, \n",
    "               schema='agdp', table=data['capa'][0],\n",
    "               to_srid='31370', create_opt='-overwrite') "
   ]
  },
  {
   "cell_type": "code",
   "execution_count": null,
   "metadata": {},
   "outputs": [],
   "source": [
    "# Create connexion to postgres database\n",
    "con = create_pg_connexion(config_parameters)\n",
    "# Update geometry column to ensure its a valid geometry\n",
    "make_valid(con, 'agdp', data['capa'][0], 'geom', geometry_type=3)\n",
    "# Close connexion to postgres database\n",
    "con.close()"
   ]
  },
  {
   "cell_type": "code",
   "execution_count": null,
   "metadata": {},
   "outputs": [],
   "source": [
    "# Add index on 'geom'\n",
    "con = create_pg_connexion(config_parameters)\n",
    "create_index(con, 'agdp', data['capa'][0], 'geom', is_geom=True)\n",
    "con.close()"
   ]
  },
  {
   "cell_type": "code",
   "execution_count": null,
   "metadata": {
    "scrolled": false
   },
   "outputs": [],
   "source": [
    "# Create connexion to postgres database\n",
    "con = create_pg_connexion(config_parameters)\n",
    "# Display header\n",
    "df = display_header(con, 'agdp', data['capa'][0], row_num=5)\n",
    "# Close connexion to postgres database\n",
    "con.close()\n",
    "# Display dataframe\n",
    "df"
   ]
  },
  {
   "cell_type": "markdown",
   "metadata": {},
   "source": [
    "### Remove rows where capakey = 'DP'"
   ]
  },
  {
   "cell_type": "markdown",
   "metadata": {},
   "source": [
    "Cause issues because the capakey is not unique and could not be used as primary key in joins"
   ]
  },
  {
   "cell_type": "code",
   "execution_count": null,
   "metadata": {},
   "outputs": [],
   "source": [
    "# Create connexion to postgres database\n",
    "con = create_pg_connexion(config_parameters)\n",
    "# Create cursor\n",
    "cursor = con.cursor()\n",
    "# Find how many rows will be removed\n",
    "query=\"SELECT count(*) FROM %s.%s WHERE capakey = 'DP' GROUP BY capakey;\"%('agdp', data['capa'][0])\n",
    "cursor.execute(query)\n",
    "count = cursor.fetchone()\n",
    "if count:\n",
    "    print ('%s row(s) will be removed from the table...'%count[0])\n",
    "    # Delete from query\n",
    "    query=\"DELETE FROM %s.%s WHERE capakey = 'DP';\"%('agdp', data['capa'][0])\n",
    "    cursor.execute(query)\n",
    "    # Make the changes to the database persistent\n",
    "    con.commit()\n",
    "else:\n",
    "    print ('Nothing to remove!')\n",
    "# Close connexion to postgres database\n",
    "con.close()"
   ]
  },
  {
   "cell_type": "markdown",
   "metadata": {},
   "source": [
    "## Import cadastral matrix"
   ]
  },
  {
   "cell_type": "code",
   "execution_count": null,
   "metadata": {
    "scrolled": true
   },
   "outputs": [],
   "source": [
    "# Create connexion to postgres database\n",
    "con = create_pg_connexion(config_parameters)\n",
    "# Import CSV file\n",
    "import_csv(con, data['cama'][1], data['cama_type'], 'agdp', data['cama'][0], delimiter=';', overwrite=False)\n",
    "# Close connexion to postgres database\n",
    "con.close()"
   ]
  },
  {
   "cell_type": "code",
   "execution_count": null,
   "metadata": {
    "scrolled": false
   },
   "outputs": [],
   "source": [
    "# Create connexion to postgres database\n",
    "con = create_pg_connexion(config_parameters)\n",
    "# Display header\n",
    "df = display_header(con, 'agdp',data['cama'][0], row_num=5)\n",
    "# Close connexion to postgres database\n",
    "con.close()\n",
    "# Display dataframe\n",
    "df"
   ]
  },
  {
   "cell_type": "markdown",
   "metadata": {},
   "source": [
    "## Import correspondance between 'nature cadastrale' and HILUCS LU legend"
   ]
  },
  {
   "cell_type": "code",
   "execution_count": null,
   "metadata": {
    "scrolled": true
   },
   "outputs": [],
   "source": [
    "# Create connexion to postgres database\n",
    "con = create_pg_connexion(config_parameters)\n",
    "# Column declaration\n",
    "columns_declaration = [('nature','integer'),('hilucs','text')]\n",
    "# Import CSV file\n",
    "import_csv(con, data['leg_capa'][1], columns_declaration, 'agdp', data['leg_capa'][0], delimiter=';', overwrite=False)\n",
    "# Close connexion to postgres database\n",
    "con.close()"
   ]
  },
  {
   "cell_type": "code",
   "execution_count": null,
   "metadata": {
    "scrolled": true
   },
   "outputs": [],
   "source": [
    "# Create connexion to postgres database\n",
    "con = create_pg_connexion(config_parameters)\n",
    "# Display header\n",
    "df = display_header(con, 'agdp', data['leg_capa'][0], row_num=8)\n",
    "# Close connexion to postgres database\n",
    "con.close()\n",
    "# Display dataframe\n",
    "df"
   ]
  },
  {
   "cell_type": "markdown",
   "metadata": {},
   "source": [
    "## Create a table with all HILUCS legends associated with each capakey"
   ]
  },
  {
   "cell_type": "markdown",
   "metadata": {},
   "source": [
    "One capakey can have multiple \"nature\". Here, all the natures are converted into HILUCS classes and then aggregated in an array sorted from the most frequent to the last frequent HILUCS class in the parcel. This information is stored in column 'nat_lu_rank'. The column 'nat_nb_dist_lu' indicate of many distinct HILUCS classes appear in the cadastral parcel. The column 'nat_lu_maj' contains the HILUCS class that appear most frequently in the cadastral parcel and the frequence is given in column 'nat_lu_maj_count'."
   ]
  },
  {
   "cell_type": "code",
   "execution_count": null,
   "metadata": {},
   "outputs": [],
   "source": [
    "## Saving current time for processing time management\n",
    "begintime_copy=time.time()"
   ]
  },
  {
   "cell_type": "code",
   "execution_count": null,
   "metadata": {},
   "outputs": [],
   "source": [
    "# Create connexion to postgres database\n",
    "con = create_pg_connexion(config_parameters)\n",
    "# Create cursor\n",
    "cursor = con.cursor()\n",
    "# Drop table if exits\n",
    "cursor.execute(\"DROP TABLE IF EXISTS agdp.cama_hilucs_count;\")\n",
    "# Query \n",
    "mainquery = \"SELECT a.capakey, b.hilucs, count(*) AS nb, rank() OVER (PARTITION BY capakey ORDER BY count(*) DESC) \\\n",
    "FROM agdp.cama AS a \\\n",
    "LEFT JOIN agdp.leg_capa AS b ON a.nature=b.nature \\\n",
    "GROUP BY capakey, hilucs\"\n",
    "# Create table query\n",
    "cursor.execute(\"CREATE TABLE agdp.cama_hilucs_count AS (%s);\"%mainquery)\n",
    "# Make the changes to the database persistent\n",
    "con.commit()\n",
    "# Close connection with database\n",
    "cursor.close()\n",
    "# Close connexion to postgres database\n",
    "con.close()"
   ]
  },
  {
   "cell_type": "code",
   "execution_count": null,
   "metadata": {},
   "outputs": [],
   "source": [
    "# Create connexion to postgres database\n",
    "con = create_pg_connexion(config_parameters)\n",
    "# Create cursor\n",
    "cursor = con.cursor()\n",
    "# Query \n",
    "cursor.execute(\"CREATE INDEX IF NOT EXISTS capakey_idx ON agdp.cama_hilucs_count (capakey);\")\n",
    "cursor.execute(\"CREATE INDEX IF NOT EXISTS hilucs_idx ON agdp.cama_hilucs_count (hilucs);\")\n",
    "cursor.execute(\"CREATE INDEX IF NOT EXISTS capakeyhilucs_idx ON agdp.cama_hilucs_count (capakey,hilucs);\")\n",
    "# Make the changes to the database persistent\n",
    "con.commit()\n",
    "# Close connection with database\n",
    "cursor.close()\n",
    "# Close connexion to postgres database\n",
    "con.close()"
   ]
  },
  {
   "cell_type": "code",
   "execution_count": null,
   "metadata": {},
   "outputs": [],
   "source": [
    "# Create connexion to postgres database\n",
    "con = create_pg_connexion(config_parameters)\n",
    "# Create cursor\n",
    "cursor = con.cursor()\n",
    "# Drop table if exits\n",
    "cursor.execute(\"DROP TABLE IF EXISTS agdp.cama_hilucs_array;\")\n",
    "# Query \n",
    "mainquery = \"SELECT capakey AS capakey_cama, \\\n",
    "(SELECT hilucs FROM agdp.cama_hilucs_count b WHERE b.capakey=a.capakey ORDER BY rank LIMIT 1) AS nat_lu_maj, \\\n",
    "(SELECT nb FROM agdp.cama_hilucs_count b WHERE b.capakey=a.capakey ORDER BY rank LIMIT 1) AS nat_lu_maj_count, \\\n",
    "array_length(array_agg(a.hilucs),1) AS nat_nb_dist_lu, \\\n",
    "array_agg(a.hilucs ORDER BY a.rank) AS nat_lu_rank \\\n",
    "FROM agdp.cama_hilucs_count AS a \\\n",
    "GROUP BY capakey\"\n",
    "# Create table query\n",
    "cursor.execute(\"CREATE TABLE agdp.cama_hilucs_array AS (%s);\"%mainquery)\n",
    "# Make the changes to the database persistent\n",
    "con.commit()\n",
    "# Close connection with database\n",
    "cursor.close()\n",
    "# Close connexion to postgres database\n",
    "con.close()"
   ]
  },
  {
   "cell_type": "code",
   "execution_count": null,
   "metadata": {},
   "outputs": [],
   "source": [
    "## Compute processing time and print it\n",
    "print(print_processing_time(begintime_copy, \"Process achieved in \"))"
   ]
  },
  {
   "cell_type": "code",
   "execution_count": null,
   "metadata": {
    "scrolled": false
   },
   "outputs": [],
   "source": [
    "# Create connexion to postgres database\n",
    "con = create_pg_connexion(config_parameters)\n",
    "# Display header\n",
    "df = display_header(con, 'agdp', 'cama_hilucs_array', where='nat_nb_dist_lu > 1', row_num=15)\n",
    "# Close connexion to postgres database\n",
    "con.close()\n",
    "# Display dataframe\n",
    "df"
   ]
  },
  {
   "cell_type": "markdown",
   "metadata": {},
   "source": [
    "# DBRIS - Economic activites"
   ]
  },
  {
   "cell_type": "markdown",
   "metadata": {},
   "source": [
    "## Create new schema"
   ]
  },
  {
   "cell_type": "code",
   "execution_count": null,
   "metadata": {
    "scrolled": true
   },
   "outputs": [],
   "source": [
    "# Create connexion to postgres database\n",
    "con = create_pg_connexion(config_parameters)\n",
    "# Create new schema\n",
    "create_pg_schema(con, 'dbris', overwrite=False)\n",
    "grant_user(con, 'dbris', 'bbeaumont')\n",
    "# Close connexion to postgres database\n",
    "con.close()"
   ]
  },
  {
   "cell_type": "markdown",
   "metadata": {},
   "source": [
    "## Import table of correspondance between NACE code and HILUCS LU legend"
   ]
  },
  {
   "cell_type": "code",
   "execution_count": null,
   "metadata": {
    "scrolled": false
   },
   "outputs": [],
   "source": [
    "# Create connexion to postgres database\n",
    "con = create_pg_connexion(config_parameters)\n",
    "# Column declaration\n",
    "columns_declaration = [('nace','text'),('nace_label','text'),('hilucs_l2','text'),\n",
    "                       ('hilucs_l2_label','text'),('hilucs_mix','text'),('hilucs_mix_label','text'), \n",
    "                       ('hilucs_walous','text'),('hilucs_walous_label','text')]\n",
    "# Import CSV file\n",
    "import_csv(con, data['leg_nace'][1], columns_declaration, 'dbris', data['leg_nace'][0], \n",
    "           delimiter='|', overwrite=False)\n",
    "# Close connexion to postgres database\n",
    "con.close()"
   ]
  },
  {
   "cell_type": "code",
   "execution_count": null,
   "metadata": {
    "scrolled": true
   },
   "outputs": [],
   "source": [
    "# Create connexion to postgres database\n",
    "con = create_pg_connexion(config_parameters)\n",
    "# Display header\n",
    "df = display_header(con, 'dbris', data['leg_nace'][0], row_num=500)\n",
    "# Close connexion to postgres database\n",
    "con.close()\n",
    "# Display dataframe\n",
    "df"
   ]
  },
  {
   "cell_type": "markdown",
   "metadata": {},
   "source": [
    "## DBRIS Table 1 (main nace per capakey and number of establishments)"
   ]
  },
  {
   "cell_type": "markdown",
   "metadata": {},
   "source": [
    "### Import table (csv)"
   ]
  },
  {
   "cell_type": "code",
   "execution_count": null,
   "metadata": {
    "scrolled": true
   },
   "outputs": [],
   "source": [
    "# Create connexion to postgres database\n",
    "con = create_pg_connexion(config_parameters)\n",
    "# Import CSV file\n",
    "import_csv(con, data['dbris1'][1], data['dbris1_type'], 'dbris', data['dbris1'][0], delimiter=',', overwrite=False)\n",
    "# Close connexion to postgres database\n",
    "con.close()"
   ]
  },
  {
   "cell_type": "code",
   "execution_count": null,
   "metadata": {
    "scrolled": true
   },
   "outputs": [],
   "source": [
    "# Create connexion to postgres database\n",
    "con = create_pg_connexion(config_parameters)\n",
    "# Display header\n",
    "df = display_header(con, 'dbris',data['dbris1'][0], row_num=5)\n",
    "# Close connexion to postgres database\n",
    "con.close()\n",
    "# Display dataframe\n",
    "df"
   ]
  },
  {
   "cell_type": "markdown",
   "metadata": {},
   "source": [
    "### Transform nace 3 digits to nace 2 digits"
   ]
  },
  {
   "cell_type": "code",
   "execution_count": null,
   "metadata": {},
   "outputs": [],
   "source": [
    "# Create connexion to postgres database\n",
    "con = create_pg_connexion(config_parameters)\n",
    "# Create cursor\n",
    "cursor = con.cursor()\n",
    "# Update table to have proper 2-digits nace code for code not starting with a 01 \n",
    "# i.e., nace 015 remains 015, but nace 024 become 02 and nace 823 become 82\n",
    "query = \"UPDATE %s.%s SET nace_main = left(nace_main,2) WHERE left(nace_main,2) != '01';\"%('dbris', data['dbris1'][0])\n",
    "cursor.execute(query)\n",
    "# Make the changes to the database persistent\n",
    "con.commit()\n",
    "# Close connection with database\n",
    "cursor.close()\n",
    "# Close connexion to postgres database\n",
    "con.close()"
   ]
  },
  {
   "cell_type": "code",
   "execution_count": null,
   "metadata": {
    "scrolled": false
   },
   "outputs": [],
   "source": [
    "# Create connexion to postgres database\n",
    "con = create_pg_connexion(config_parameters)\n",
    "# Display header\n",
    "df = display_header(con, 'dbris',data['dbris1'][0], row_num=5)\n",
    "# Close connexion to postgres database\n",
    "con.close()\n",
    "# Display dataframe\n",
    "df"
   ]
  },
  {
   "cell_type": "markdown",
   "metadata": {},
   "source": [
    "### Create a table NACE code translated into the WalOUS HILUCS legends"
   ]
  },
  {
   "cell_type": "code",
   "execution_count": null,
   "metadata": {},
   "outputs": [],
   "source": [
    "## Saving current time for processing time management\n",
    "begintime_copy=time.time()\n",
    "# Create connexion to postgres database\n",
    "con = create_pg_connexion(config_parameters)\n",
    "# Create cursor\n",
    "cursor = con.cursor()\n",
    "# Drop table if exits\n",
    "cursor.execute(\"DROP TABLE IF EXISTS %s.%s_hilucs;\"%('dbris', data['dbris1'][0]))\n",
    "# Query \n",
    "mainquery = \"SELECT a.capakey AS capakey_%s, \\\n",
    "b.hilucs_walous as dbris_maj, a.nace_main_share as dbris_maj_share, \\\n",
    "a.count_etab as dbris_count_etab \"%data['dbris1'][0]\n",
    "mainquery += \"FROM %s.%s AS a \"%('dbris', data['dbris1'][0])\n",
    "mainquery += \"LEFT JOIN %s.%s AS b ON a.nace_main=b.nace \"%('dbris', data['leg_nace'][0])\n",
    "\n",
    "# Create table query\n",
    "cursor.execute(\"CREATE TABLE %s.%s_hilucs AS (%s);\"%('dbris', data['dbris1'][0],mainquery))\n",
    "\n",
    "# Make the changes to the database persistent\n",
    "con.commit()\n",
    "# Close connection with database\n",
    "cursor.close()\n",
    "# Close connexion to postgres database\n",
    "con.close()\n",
    "## Compute processing time and print it\n",
    "print(print_processing_time(begintime_copy, \"Process achieved in \"))"
   ]
  },
  {
   "cell_type": "code",
   "execution_count": null,
   "metadata": {
    "scrolled": false
   },
   "outputs": [],
   "source": [
    "# Create connexion to postgres database\n",
    "con = create_pg_connexion(config_parameters)\n",
    "# Display header\n",
    "df = display_header(con, 'dbris', '%s_hilucs'%data['dbris1'][0], row_num=5)\n",
    "# Close connexion to postgres database\n",
    "con.close()\n",
    "# Display dataframe\n",
    "df"
   ]
  },
  {
   "cell_type": "markdown",
   "metadata": {},
   "source": [
    "## DBRIS Table 2 (ranking of nace per capakey and number of establishments per quality of geocoding)"
   ]
  },
  {
   "cell_type": "markdown",
   "metadata": {},
   "source": [
    "### Import table (csv)"
   ]
  },
  {
   "cell_type": "code",
   "execution_count": null,
   "metadata": {
    "scrolled": false
   },
   "outputs": [],
   "source": [
    "# Create connexion to postgres database\n",
    "con = create_pg_connexion(config_parameters)\n",
    "# Import CSV file\n",
    "import_csv(con, data['dbris2'][1], data['dbris2_type'], 'dbris', data['dbris2'][0], \n",
    "          delimiter=',', add_serial_primary_key=True, overwrite=False)\n",
    "# Close connexion to postgres database\n",
    "con.close()"
   ]
  },
  {
   "cell_type": "code",
   "execution_count": null,
   "metadata": {
    "scrolled": false
   },
   "outputs": [],
   "source": [
    "# Create connexion to postgres database\n",
    "con = create_pg_connexion(config_parameters)\n",
    "# Display header\n",
    "df = display_header(con, 'dbris',data['dbris2'][0], row_num=5)\n",
    "# Close connexion to postgres database\n",
    "con.close()\n",
    "# Display dataframe\n",
    "df"
   ]
  },
  {
   "cell_type": "markdown",
   "metadata": {},
   "source": [
    "### Transform 3-digits \"nace\" to nace 2-digits \"nace\""
   ]
  },
  {
   "cell_type": "code",
   "execution_count": null,
   "metadata": {},
   "outputs": [],
   "source": [
    "# Create connexion to postgres database\n",
    "con = create_pg_connexion(config_parameters)\n",
    "# Create cursor\n",
    "cursor = con.cursor()\n",
    "# Update table to have proper 2-digits nace code for code not starting with a 01 \n",
    "# i.e., nace 015 remains 015, but nace 024 become 02 and nace 823 become 82\n",
    "query = \"UPDATE %s.%s SET cd_nace = left(cd_nace,2) WHERE left(cd_nace,2) != '01';\"%('dbris', data['dbris2'][0])\n",
    "cursor.execute(query)\n",
    "# Make the changes to the database persistent\n",
    "con.commit()\n",
    "# Close connection with database\n",
    "cursor.close()\n",
    "# Close connexion to postgres database\n",
    "con.close()"
   ]
  },
  {
   "cell_type": "code",
   "execution_count": null,
   "metadata": {
    "scrolled": true
   },
   "outputs": [],
   "source": [
    "# Create connexion to postgres database\n",
    "con = create_pg_connexion(config_parameters)\n",
    "# Display header\n",
    "df = display_header(con, 'dbris',data['dbris2'][0], row_num=5)\n",
    "# Close connexion to postgres database\n",
    "con.close()\n",
    "# Display dataframe\n",
    "df"
   ]
  },
  {
   "cell_type": "markdown",
   "metadata": {},
   "source": [
    "### Create a table with array containing distinct ordered HILUCS classes from DBRIS database and quality of geocoding"
   ]
  },
  {
   "cell_type": "markdown",
   "metadata": {},
   "source": [
    "\"dbris_rank\" will contain distinct hilucs activities in the corresponding cadastral plot, ranked according to the relative importance of employees per 3-digits \"nace\" activity. \n",
    "\n",
    "\"dbris_accur_geocod\" takes value True only if the all establishment got an accurate geocoding and the assigned coordinates felt within a cadastral parcel.  "
   ]
  },
  {
   "cell_type": "code",
   "execution_count": null,
   "metadata": {},
   "outputs": [],
   "source": [
    "## Saving current time for processing time management\n",
    "begintime_copy=time.time()\n",
    "# Create connexion to postgres database\n",
    "con = create_pg_connexion(config_parameters)\n",
    "# Create cursor\n",
    "cursor = con.cursor()\n",
    "# Drop table if exits\n",
    "cursor.execute(\"DROP TABLE IF EXISTS %s.%s_hilucs;\"%('dbris', data['dbris2'][0]))\n",
    "# With query \n",
    "withquery = \"WITH a AS (\"\n",
    "withquery += \"SELECT a.capakey AS capakey_%s, \\\n",
    "b.hilucs_walous as dbris_hilucs, a.ms_rank as dbris_hilucs_rank, \\\n",
    "CASE WHEN a.ms_cnt_etab_accurate = a.ms_cnt_etab AND a.ms_cnt_etab_pip = a.ms_cnt_etab \\\n",
    "THEN True ELSE False END as dbris_accur_geocod \"%data['dbris2'][0]\n",
    "withquery += \"FROM %s.%s AS a \"%('dbris', data['dbris2'][0])\n",
    "withquery += \"LEFT JOIN %s.%s AS b ON a.cd_nace=b.nace), \"%('dbris', data['leg_nace'][0])\n",
    "withquery += \"b AS (SELECT DISTINCT capakey_dbris2, dbris_hilucs, \\\n",
    "min(dbris_hilucs_rank) AS dbris_hilucs_rank, bool_and(dbris_accur_geocod) as dbris_accur_geocod \\\n",
    "FROM a GROUP BY capakey_dbris2, dbris_hilucs ORDER BY min(dbris_hilucs_rank))\"\n",
    "# Main query \n",
    "mainquery = withquery\n",
    "mainquery += \"SELECT capakey_dbris2, ARRAY_AGG(dbris_hilucs) as dbris_rank, \\\n",
    "bool_and(dbris_accur_geocod) as dbris_accur_geocod FROM b GROUP BY capakey_dbris2\"\n",
    "# Create table query\n",
    "cursor.execute(\"CREATE TABLE %s.%s_hilucs AS (%s);\"%('dbris', data['dbris2'][0],mainquery))\n",
    "# Make the changes to the database persistent\n",
    "con.commit()\n",
    "# Close connection with database\n",
    "cursor.close()\n",
    "# Close connexion to postgres database\n",
    "con.close()\n",
    "## Compute processing time and print it\n",
    "print(print_processing_time(begintime_copy, \"Process achieved in \"))"
   ]
  },
  {
   "cell_type": "code",
   "execution_count": null,
   "metadata": {
    "scrolled": true
   },
   "outputs": [],
   "source": [
    "# Create connexion to postgres database\n",
    "con = create_pg_connexion(config_parameters)\n",
    "# Display header\n",
    "df = display_header(con, 'dbris', '%s_hilucs'%data['dbris2'][0], row_num=15)\n",
    "# Close connexion to postgres database\n",
    "con.close()\n",
    "# Display dataframe\n",
    "df"
   ]
  },
  {
   "cell_type": "markdown",
   "metadata": {},
   "source": [
    "# Percentage of LC class in cadastral blocs"
   ]
  },
  {
   "cell_type": "markdown",
   "metadata": {},
   "source": [
    "## Import csv output from r.zonal.classes"
   ]
  },
  {
   "cell_type": "code",
   "execution_count": null,
   "metadata": {},
   "outputs": [],
   "source": [
    "# Create a list for the column declaration of the CREATE table statement\n",
    "with open(data['lc_capa'][1], 'r') as f:\n",
    "    header = next(f).split(\"\\n\")[0]\n",
    "colum_declaration = [(\"capakey_lc_prop\",'varchar') if col == \"CaPaKey\" else (\"lc_mode\",'integer') if col == \"lc_mode\" else (col,'double precision') for col in header.split(\"|\")]# Create connexion to postgres database\n",
    "con = create_pg_connexion(config_parameters)\n",
    "# Import CSV file\n",
    "import_csv(con, data['lc_capa'][1], colum_declaration, 'agdp', data['lc_capa'][0], delimiter=\"|\", overwrite=False)\n",
    "# Close connexion to postgres database\n",
    "con.close()"
   ]
  },
  {
   "cell_type": "code",
   "execution_count": null,
   "metadata": {},
   "outputs": [],
   "source": [
    "# Remove 'cat' column\n",
    "con = create_pg_connexion(config_parameters)\n",
    "cursor = con.cursor()\n",
    "cursor.execute(\"ALTER TABLE agdp.%s DROP COLUMN IF EXISTS cat;\"%data['lc_capa'][0])\n",
    "con.commit()\n",
    "cursor.close()\n",
    "con.close()"
   ]
  },
  {
   "cell_type": "code",
   "execution_count": null,
   "metadata": {},
   "outputs": [],
   "source": [
    "# Add index on 'capakey'\n",
    "con = create_pg_connexion(config_parameters)\n",
    "create_index(con, 'agdp', data['lc_capa'][0], 'capakey_lc_prop', is_geom=False)\n",
    "con.close()"
   ]
  },
  {
   "cell_type": "code",
   "execution_count": null,
   "metadata": {
    "scrolled": false
   },
   "outputs": [],
   "source": [
    "# Create connexion to postgres database\n",
    "con = create_pg_connexion(config_parameters)\n",
    "# Display header\n",
    "df = display_header(con, 'agdp', data['lc_capa'][0], row_num=5)\n",
    "# Close connexion to postgres database\n",
    "con.close()\n",
    "# Display dataframe\n",
    "df"
   ]
  },
  {
   "cell_type": "markdown",
   "metadata": {},
   "source": [
    "# Population data"
   ]
  },
  {
   "cell_type": "markdown",
   "metadata": {},
   "source": [
    "**Create new schema**"
   ]
  },
  {
   "cell_type": "code",
   "execution_count": null,
   "metadata": {
    "scrolled": false
   },
   "outputs": [],
   "source": [
    "# Create connexion to postgres database\n",
    "con = create_pg_connexion(config_parameters)\n",
    "# Create new schema\n",
    "create_pg_schema(con, 'rnpp', overwrite=False)\n",
    "grant_user(con, 'sar', 'bbeaumont')\n",
    "# Close connexion to postgres database\n",
    "con.close()"
   ]
  },
  {
   "cell_type": "markdown",
   "metadata": {},
   "source": [
    "## Point data"
   ]
  },
  {
   "cell_type": "markdown",
   "metadata": {},
   "source": [
    "**Import layer**"
   ]
  },
  {
   "cell_type": "code",
   "execution_count": null,
   "metadata": {
    "scrolled": true
   },
   "outputs": [],
   "source": [
    "# Import shapefile into postgis database\n",
    "ogr2ogr_import(data['rnpp'][1], config_parameters, \n",
    "               schema='rnpp', table=data['rnpp'][0],\n",
    "               to_srid='31370', create_opt='-overwrite') "
   ]
  },
  {
   "cell_type": "code",
   "execution_count": null,
   "metadata": {
    "scrolled": true
   },
   "outputs": [],
   "source": [
    "# Create connexion to postgres database\n",
    "con = create_pg_connexion(config_parameters)\n",
    "# Update geometry column to ensure its a valid geometry\n",
    "make_valid(con, 'rnpp', data['rnpp'][0], 'geom', geometry_type=1)\n",
    "# Close connexion to postgres database\n",
    "con.close()"
   ]
  },
  {
   "cell_type": "code",
   "execution_count": null,
   "metadata": {},
   "outputs": [],
   "source": [
    "# Add index on 'geom'\n",
    "con = create_pg_connexion(config_parameters)\n",
    "create_index(con, 'rnpp', data['rnpp'][0], 'geom', is_geom=True)\n",
    "con.close()"
   ]
  },
  {
   "cell_type": "code",
   "execution_count": null,
   "metadata": {
    "scrolled": false
   },
   "outputs": [],
   "source": [
    "# Create connexion to postgres database\n",
    "con = create_pg_connexion(config_parameters)\n",
    "# Display header\n",
    "df = display_header(con, 'rnpp', data['rnpp'][0], row_num=5)\n",
    "# Close connexion to postgres database\n",
    "con.close()\n",
    "# Display dataframe\n",
    "df"
   ]
  },
  {
   "cell_type": "markdown",
   "metadata": {},
   "source": [
    "## Neighborhood density data"
   ]
  },
  {
   "cell_type": "markdown",
   "metadata": {},
   "source": [
    "**Import csv output from r.zonal.classes**"
   ]
  },
  {
   "cell_type": "code",
   "execution_count": null,
   "metadata": {},
   "outputs": [],
   "source": [
    "# Create a list for the column declaration of the CREATE table statement\n",
    "with open(data['rnpp_neighbor'][1], 'r') as f:\n",
    "    header = next(f).split(\"\\n\")[0]\n",
    "colum_declaration = [(\"capakey_%s\"%data['rnpp_neighbor'][0],'varchar') if col == \"CaPaKey\" else (col,'integer') for col in header.split(\"|\")]\n",
    "# Create connexion to postgres database\n",
    "con = create_pg_connexion(config_parameters)\n",
    "# Import CSV file\n",
    "import_csv(con, data['rnpp_neighbor'][1], colum_declaration, 'rnpp', data['rnpp_neighbor'][0], delimiter=\"|\", overwrite=False)\n",
    "# Close connexion to postgres database\n",
    "con.close()"
   ]
  },
  {
   "cell_type": "code",
   "execution_count": null,
   "metadata": {},
   "outputs": [],
   "source": [
    "# Remove 'cat' column\n",
    "con = create_pg_connexion(config_parameters)\n",
    "cursor = con.cursor()\n",
    "cursor.execute(\"ALTER TABLE rnpp.%s DROP COLUMN IF EXISTS cat;\"%data['rnpp_neighbor'][0])\n",
    "con.commit()\n",
    "cursor.close()\n",
    "con.close()"
   ]
  },
  {
   "cell_type": "code",
   "execution_count": null,
   "metadata": {},
   "outputs": [],
   "source": [
    "# Add index on 'geom'\n",
    "con = create_pg_connexion(config_parameters)\n",
    "create_index(con, 'rnpp', data['rnpp_neighbor'][0], \"capakey_%s\"%data['rnpp_neighbor'][0], is_geom=False)\n",
    "con.close()"
   ]
  },
  {
   "cell_type": "code",
   "execution_count": null,
   "metadata": {
    "scrolled": false
   },
   "outputs": [],
   "source": [
    "# Create connexion to postgres database\n",
    "con = create_pg_connexion(config_parameters)\n",
    "# Display header\n",
    "df = display_header(con, 'rnpp', data['rnpp_neighbor'][0], row_num=5)\n",
    "# Close connexion to postgres database\n",
    "con.close()\n",
    "# Display dataframe\n",
    "df"
   ]
  },
  {
   "cell_type": "markdown",
   "metadata": {},
   "source": [
    "# Agricultural lands (sigec)"
   ]
  },
  {
   "cell_type": "markdown",
   "metadata": {},
   "source": [
    "**Create new schema**"
   ]
  },
  {
   "cell_type": "code",
   "execution_count": null,
   "metadata": {
    "scrolled": true
   },
   "outputs": [],
   "source": [
    "# Create connexion to postgres database\n",
    "con = create_pg_connexion(config_parameters)\n",
    "# Create new schema\n",
    "create_pg_schema(con, 'sigec', overwrite=False)\n",
    "grant_user(con, 'sar', 'bbeaumont')\n",
    "# Close connexion to postgres database\n",
    "con.close()"
   ]
  },
  {
   "cell_type": "markdown",
   "metadata": {},
   "source": [
    "## Grasslands (1_1_1_A)"
   ]
  },
  {
   "cell_type": "markdown",
   "metadata": {},
   "source": [
    "**Import layer**"
   ]
  },
  {
   "cell_type": "code",
   "execution_count": null,
   "metadata": {
    "scrolled": false
   },
   "outputs": [],
   "source": [
    "# Import shapefile into postgis database\n",
    "ogr2ogr_import(data['sigec_p'][1], config_parameters, \n",
    "               schema='sigec', table=data['sigec_p'][0],\n",
    "               to_srid='31370', create_opt='-overwrite') "
   ]
  },
  {
   "cell_type": "code",
   "execution_count": null,
   "metadata": {
    "scrolled": true
   },
   "outputs": [],
   "source": [
    "# Create connexion to postgres database\n",
    "con = create_pg_connexion(config_parameters)\n",
    "# Update geometry column to ensure its a valid geometry\n",
    "make_valid(con, 'sigec', data['sigec_p'][0], 'geom', geometry_type=3)\n",
    "# Close connexion to postgres database\n",
    "con.close()"
   ]
  },
  {
   "cell_type": "code",
   "execution_count": null,
   "metadata": {},
   "outputs": [],
   "source": [
    "# Add index on 'geom'\n",
    "con = create_pg_connexion(config_parameters)\n",
    "create_index(con, 'sigec', data['sigec_p'][0], 'geom', is_geom=True)\n",
    "con.close()"
   ]
  },
  {
   "cell_type": "code",
   "execution_count": null,
   "metadata": {
    "scrolled": false
   },
   "outputs": [],
   "source": [
    "# Create connexion to postgres database\n",
    "con = create_pg_connexion(config_parameters)\n",
    "# Display header\n",
    "df = display_header(con, 'sigec', data['sigec_p'][0], row_num=5)\n",
    "# Close connexion to postgres database\n",
    "con.close()\n",
    "# Display dataframe\n",
    "df"
   ]
  },
  {
   "cell_type": "markdown",
   "metadata": {},
   "source": [
    "## Arable lands (1_1_1_B)"
   ]
  },
  {
   "cell_type": "markdown",
   "metadata": {},
   "source": [
    "**Import layer**"
   ]
  },
  {
   "cell_type": "code",
   "execution_count": null,
   "metadata": {
    "scrolled": false
   },
   "outputs": [],
   "source": [
    "# Import shapefile into postgis database\n",
    "ogr2ogr_import(data['sigec_ta'][1], config_parameters, \n",
    "               schema='sigec', table=data['sigec_ta'][0],\n",
    "               to_srid='31370', create_opt='-overwrite') "
   ]
  },
  {
   "cell_type": "code",
   "execution_count": null,
   "metadata": {
    "scrolled": true
   },
   "outputs": [],
   "source": [
    "# Create connexion to postgres database\n",
    "con = create_pg_connexion(config_parameters)\n",
    "# Update geometry column to ensure its a valid geometry\n",
    "make_valid(con, 'sigec', data['sigec_ta'][0], 'geom', geometry_type=3)\n",
    "# Close connexion to postgres database\n",
    "con.close()"
   ]
  },
  {
   "cell_type": "code",
   "execution_count": null,
   "metadata": {},
   "outputs": [],
   "source": [
    "# Add index on 'geom'\n",
    "con = create_pg_connexion(config_parameters)\n",
    "create_index(con, 'sigec', data['sigec_ta'][0], 'geom', is_geom=True)\n",
    "con.close()"
   ]
  },
  {
   "cell_type": "code",
   "execution_count": null,
   "metadata": {
    "scrolled": false
   },
   "outputs": [],
   "source": [
    "# Create connexion to postgres database\n",
    "con = create_pg_connexion(config_parameters)\n",
    "# Display header\n",
    "df = display_header(con, 'sigec', data['sigec_ta'][0], row_num=5)\n",
    "# Close connexion to postgres database\n",
    "con.close()\n",
    "# Display dataframe\n",
    "df"
   ]
  },
  {
   "cell_type": "markdown",
   "metadata": {},
   "source": [
    "# Brown fields (Former industrial area - SAR)"
   ]
  },
  {
   "cell_type": "markdown",
   "metadata": {},
   "source": [
    "**Create new schema**"
   ]
  },
  {
   "cell_type": "code",
   "execution_count": null,
   "metadata": {
    "scrolled": false
   },
   "outputs": [],
   "source": [
    "# Create connexion to postgres database\n",
    "con = create_pg_connexion(config_parameters)\n",
    "# Create new schema\n",
    "create_pg_schema(con, 'sar', overwrite=False)\n",
    "grant_user(con, 'sar', 'bbeaumont')\n",
    "# Close connexion to postgres database\n",
    "con.close()"
   ]
  },
  {
   "cell_type": "markdown",
   "metadata": {},
   "source": [
    "**Import layer**"
   ]
  },
  {
   "cell_type": "code",
   "execution_count": null,
   "metadata": {
    "scrolled": true
   },
   "outputs": [],
   "source": [
    "# Import shapefile into postgis database\n",
    "ogr2ogr_import(data['sar'][1], config_parameters, \n",
    "               schema='sar', table=data['sar'][0],\n",
    "               to_srid='31370', create_opt='-overwrite') "
   ]
  },
  {
   "cell_type": "code",
   "execution_count": null,
   "metadata": {
    "scrolled": true
   },
   "outputs": [],
   "source": [
    "# Create connexion to postgres database\n",
    "con = create_pg_connexion(config_parameters)\n",
    "# Update geometry column to ensure its a valid geometry\n",
    "make_valid(con, 'sar', data['sar'][0], 'geom', geometry_type=3)\n",
    "# Close connexion to postgres database\n",
    "con.close()"
   ]
  },
  {
   "cell_type": "code",
   "execution_count": null,
   "metadata": {},
   "outputs": [],
   "source": [
    "# Add index on 'geom'\n",
    "con = create_pg_connexion(config_parameters)\n",
    "create_index(con, 'sar', data['sar'][0], 'geom', is_geom=True)\n",
    "con.close()"
   ]
  },
  {
   "cell_type": "code",
   "execution_count": null,
   "metadata": {
    "scrolled": true
   },
   "outputs": [],
   "source": [
    "# Create connexion to postgres database\n",
    "con = create_pg_connexion(config_parameters)\n",
    "# Display header\n",
    "df = display_header(con, 'sar', data['sar'][0], row_num=5)\n",
    "# Close connexion to postgres database\n",
    "con.close()\n",
    "# Display dataframe\n",
    "df"
   ]
  },
  {
   "cell_type": "markdown",
   "metadata": {},
   "source": [
    "# Public forestry"
   ]
  },
  {
   "cell_type": "markdown",
   "metadata": {},
   "source": [
    "**Create new schema**"
   ]
  },
  {
   "cell_type": "code",
   "execution_count": null,
   "metadata": {
    "scrolled": false
   },
   "outputs": [],
   "source": [
    "# Create connexion to postgres database\n",
    "con = create_pg_connexion(config_parameters)\n",
    "# Create new schema\n",
    "create_pg_schema(con, 'forest', overwrite=False)\n",
    "grant_user(con, 'forest', 'bbeaumont')\n",
    "# Close connexion to postgres database\n",
    "con.close()"
   ]
  },
  {
   "cell_type": "markdown",
   "metadata": {},
   "source": [
    "**Import layer**"
   ]
  },
  {
   "cell_type": "code",
   "execution_count": null,
   "metadata": {
    "scrolled": false
   },
   "outputs": [],
   "source": [
    "# Import shapefile into postgis database\n",
    "ogr2ogr_import(data['forestry_public'][1], config_parameters, \n",
    "               schema='forest', table=data['forestry_public'][0],\n",
    "               to_srid='31370', create_opt='-overwrite') "
   ]
  },
  {
   "cell_type": "code",
   "execution_count": null,
   "metadata": {
    "scrolled": true
   },
   "outputs": [],
   "source": [
    "# Create connexion to postgres database\n",
    "con = create_pg_connexion(config_parameters)\n",
    "# Update geometry column to ensure its a valid geometry\n",
    "make_valid(con, 'forest', data['forestry_public'][0], 'geom', geometry_type=3)\n",
    "# Close connexion to postgres database\n",
    "con.close()"
   ]
  },
  {
   "cell_type": "code",
   "execution_count": null,
   "metadata": {},
   "outputs": [],
   "source": [
    "# Add index on 'geom'\n",
    "con = create_pg_connexion(config_parameters)\n",
    "create_index(con, 'forest', data['forestry_public'][0], 'geom', is_geom=True)\n",
    "con.close()"
   ]
  },
  {
   "cell_type": "code",
   "execution_count": null,
   "metadata": {
    "scrolled": true
   },
   "outputs": [],
   "source": [
    "# Create connexion to postgres database\n",
    "con = create_pg_connexion(config_parameters)\n",
    "# Display header\n",
    "df = display_header(con, 'forest', data['forestry_public'][0], row_num=5)\n",
    "# Close connexion to postgres database\n",
    "con.close()\n",
    "# Display dataframe\n",
    "df"
   ]
  },
  {
   "cell_type": "markdown",
   "metadata": {},
   "source": [
    "# Nature conservation"
   ]
  },
  {
   "cell_type": "markdown",
   "metadata": {},
   "source": [
    "**Create new schema**"
   ]
  },
  {
   "cell_type": "code",
   "execution_count": null,
   "metadata": {
    "scrolled": false
   },
   "outputs": [],
   "source": [
    "# Create connexion to postgres database\n",
    "con = create_pg_connexion(config_parameters)\n",
    "# Create new schema\n",
    "create_pg_schema(con, 'nat_conser', overwrite=False)\n",
    "grant_user(con, 'nat_conser', 'bbeaumont')\n",
    "# Close connexion to postgres database\n",
    "con.close()"
   ]
  },
  {
   "cell_type": "markdown",
   "metadata": {},
   "source": [
    "## Natura 2000"
   ]
  },
  {
   "cell_type": "code",
   "execution_count": null,
   "metadata": {
    "scrolled": true
   },
   "outputs": [],
   "source": [
    "# Import shapefile into postgis database\n",
    "ogr2ogr_import(data['nature_conservation_n2000'][1], config_parameters, \n",
    "               schema='nat_conser', table=data['nature_conservation_n2000'][0],\n",
    "               to_srid='31370', create_opt='-overwrite') "
   ]
  },
  {
   "cell_type": "code",
   "execution_count": null,
   "metadata": {
    "scrolled": false
   },
   "outputs": [],
   "source": [
    "# Create connexion to postgres database\n",
    "con = create_pg_connexion(config_parameters)\n",
    "# Update geometry column to ensure its a valid geometry\n",
    "make_valid(con, 'nat_conser', data['nature_conservation_n2000'][0], 'geom', geometry_type=3)\n",
    "# Close connexion to postgres database\n",
    "con.close()"
   ]
  },
  {
   "cell_type": "code",
   "execution_count": null,
   "metadata": {
    "scrolled": true
   },
   "outputs": [],
   "source": [
    "# Create connexion to postgres database\n",
    "con = create_pg_connexion(config_parameters)\n",
    "# Split multipolygons into single part polygons\n",
    "split_multipolygon_to_singlepolygon(con, 'nat_conser', data['nature_conservation_n2000'][0], 'ogc_fid', 'geom')\n",
    "# Update geometry column to ensure its a valid geometry\n",
    "make_valid(con, 'nat_conser', data['nature_conservation_n2000'][0], 'geom', geometry_type=3)\n",
    "# Close connexion to postgres database\n",
    "con.close()"
   ]
  },
  {
   "cell_type": "code",
   "execution_count": null,
   "metadata": {},
   "outputs": [],
   "source": [
    "# Add index on 'geom'\n",
    "con = create_pg_connexion(config_parameters)\n",
    "create_index(con, 'nat_conser', data['nature_conservation_n2000'][0], 'geom', is_geom=True)\n",
    "con.close()"
   ]
  },
  {
   "cell_type": "code",
   "execution_count": null,
   "metadata": {
    "scrolled": true
   },
   "outputs": [],
   "source": [
    "# Create connexion to postgres database\n",
    "con = create_pg_connexion(config_parameters)\n",
    "# Display header\n",
    "df = display_header(con, 'nat_conser', data['nature_conservation_n2000'][0], row_num=5)\n",
    "# Close connexion to postgres database\n",
    "con.close()\n",
    "# Display dataframe\n",
    "df"
   ]
  },
  {
   "cell_type": "markdown",
   "metadata": {},
   "source": [
    "## Nature conservation class 7"
   ]
  },
  {
   "cell_type": "markdown",
   "metadata": {},
   "source": [
    "The layer imported here has been created as a preprocessing step by merging shapefiles of \"réserve naturelle agréée\" and \"réserve naturelle domaniale\" and \"Zones militaires (Camp Roi Albert, Camp Elsenborn Lager, Camp Lagland)."
   ]
  },
  {
   "cell_type": "code",
   "execution_count": null,
   "metadata": {
    "scrolled": false
   },
   "outputs": [],
   "source": [
    "# Import shapefile into postgis database\n",
    "ogr2ogr_import(data['nature_conservation_7'][1], config_parameters, \n",
    "               schema='nat_conser', table=data['nature_conservation_7'][0],\n",
    "               to_srid='31370', create_opt='-overwrite') "
   ]
  },
  {
   "cell_type": "code",
   "execution_count": null,
   "metadata": {
    "scrolled": false
   },
   "outputs": [],
   "source": [
    "# Create connexion to postgres database\n",
    "con = create_pg_connexion(config_parameters)\n",
    "# Update geometry column to ensure its a valid geometry\n",
    "make_valid(con, 'nat_conser', data['nature_conservation_7'][0], 'geom', geometry_type=3)\n",
    "# Close connexion to postgres database\n",
    "con.close()"
   ]
  },
  {
   "cell_type": "code",
   "execution_count": null,
   "metadata": {
    "scrolled": true
   },
   "outputs": [],
   "source": [
    "# Create connexion to postgres database\n",
    "con = create_pg_connexion(config_parameters)\n",
    "# Split multipolygons into single part polygons\n",
    "split_multipolygon_to_singlepolygon(con, 'nat_conser', data['nature_conservation_7'][0], 'ogc_fid', 'geom')\n",
    "# Update geometry column to ensure its a valid geometry\n",
    "make_valid(con, 'nat_conser', data['nature_conservation_7'][0], 'geom', geometry_type=3)\n",
    "# Close connexion to postgres database\n",
    "con.close()"
   ]
  },
  {
   "cell_type": "code",
   "execution_count": null,
   "metadata": {},
   "outputs": [],
   "source": [
    "# Add index on 'geom'\n",
    "con = create_pg_connexion(config_parameters)\n",
    "create_index(con, 'nat_conser', data['nature_conservation_7'][0], 'geom', is_geom=True)\n",
    "con.close()"
   ]
  },
  {
   "cell_type": "code",
   "execution_count": null,
   "metadata": {
    "scrolled": false
   },
   "outputs": [],
   "source": [
    "# Create connexion to postgres database\n",
    "con = create_pg_connexion(config_parameters)\n",
    "# Display header\n",
    "df = display_header(con, 'nat_conser', data['nature_conservation_7'][0], row_num=5)\n",
    "# Close connexion to postgres database\n",
    "con.close()\n",
    "# Display dataframe\n",
    "df"
   ]
  },
  {
   "cell_type": "markdown",
   "metadata": {},
   "source": [
    "## Nature conservation class 7_1"
   ]
  },
  {
   "cell_type": "markdown",
   "metadata": {},
   "source": [
    "The layer imported here has been created as a preprocessing step by merging shapefiles of \"zone humide d'intérêt biologique (ZHIB)\" and \"réserve forestière\". "
   ]
  },
  {
   "cell_type": "code",
   "execution_count": null,
   "metadata": {
    "scrolled": false
   },
   "outputs": [],
   "source": [
    "# Import shapefile into postgis database\n",
    "ogr2ogr_import(data['nature_conservation_71'][1], config_parameters, \n",
    "               schema='nat_conser', table=data['nature_conservation_71'][0],\n",
    "               to_srid='31370', create_opt='-overwrite') "
   ]
  },
  {
   "cell_type": "code",
   "execution_count": null,
   "metadata": {
    "scrolled": false
   },
   "outputs": [],
   "source": [
    "# Create connexion to postgres database\n",
    "con = create_pg_connexion(config_parameters)\n",
    "# Update geometry column to ensure its a valid geometry\n",
    "make_valid(con, 'nat_conser', data['nature_conservation_71'][0], 'geom', geometry_type=3)\n",
    "# Close connexion to postgres database\n",
    "con.close()"
   ]
  },
  {
   "cell_type": "code",
   "execution_count": null,
   "metadata": {
    "scrolled": true
   },
   "outputs": [],
   "source": [
    "# Create connexion to postgres database\n",
    "con = create_pg_connexion(config_parameters)\n",
    "# Split multipolygons into single part polygons\n",
    "split_multipolygon_to_singlepolygon(con, 'nat_conser', data['nature_conservation_7'][0], 'ogc_fid', 'geom')\n",
    "# Update geometry column to ensure its a valid geometry\n",
    "make_valid(con, 'nat_conser', data['nature_conservation_71'][0], 'geom', geometry_type=3)\n",
    "# Close connexion to postgres database\n",
    "con.close()"
   ]
  },
  {
   "cell_type": "code",
   "execution_count": null,
   "metadata": {},
   "outputs": [],
   "source": [
    "# Add index on 'geom'\n",
    "con = create_pg_connexion(config_parameters)\n",
    "create_index(con, 'nat_conser', data['nature_conservation_71'][0], 'geom', is_geom=True)\n",
    "con.close()"
   ]
  },
  {
   "cell_type": "code",
   "execution_count": null,
   "metadata": {
    "scrolled": true
   },
   "outputs": [],
   "source": [
    "# Create connexion to postgres database\n",
    "con = create_pg_connexion(config_parameters)\n",
    "# Display header\n",
    "df = display_header(con, 'nat_conser', data['nature_conservation_71'][0], row_num=5)\n",
    "# Close connexion to postgres database\n",
    "con.close()\n",
    "# Display dataframe\n",
    "df"
   ]
  },
  {
   "cell_type": "markdown",
   "metadata": {},
   "source": [
    "# Schools"
   ]
  },
  {
   "cell_type": "markdown",
   "metadata": {},
   "source": [
    "**Create new schema**"
   ]
  },
  {
   "cell_type": "code",
   "execution_count": null,
   "metadata": {
    "scrolled": false
   },
   "outputs": [],
   "source": [
    "# Create connexion to postgres database\n",
    "con = create_pg_connexion(config_parameters)\n",
    "# Create new schema\n",
    "create_pg_schema(con, 'schools', overwrite=False)\n",
    "grant_user(con, 'schools', 'bbeaumont')\n",
    "# Close connexion to postgres database\n",
    "con.close()"
   ]
  },
  {
   "cell_type": "markdown",
   "metadata": {},
   "source": [
    "**Import layer**"
   ]
  },
  {
   "cell_type": "code",
   "execution_count": null,
   "metadata": {
    "scrolled": true
   },
   "outputs": [],
   "source": [
    "# Import shapefile into postgis database\n",
    "ogr2ogr_import(data['schools'][1], config_parameters, \n",
    "               schema='schools', table=data['schools'][0],\n",
    "               to_srid='31370', create_opt='-overwrite') "
   ]
  },
  {
   "cell_type": "code",
   "execution_count": null,
   "metadata": {
    "scrolled": true
   },
   "outputs": [],
   "source": [
    "# Create connexion to postgres database\n",
    "con = create_pg_connexion(config_parameters)\n",
    "# Update geometry column to ensure its a valid geometry\n",
    "make_valid(con, 'schools', data['schools'][0], 'geom', geometry_type=3)\n",
    "# Close connexion to postgres database\n",
    "con.close()"
   ]
  },
  {
   "cell_type": "code",
   "execution_count": null,
   "metadata": {},
   "outputs": [],
   "source": [
    "# Add index on 'geom'\n",
    "con = create_pg_connexion(config_parameters)\n",
    "create_index(con, 'schools', data['schools'][0], 'geom', is_geom=True)\n",
    "con.close()"
   ]
  },
  {
   "cell_type": "code",
   "execution_count": null,
   "metadata": {
    "scrolled": false
   },
   "outputs": [],
   "source": [
    "# Create connexion to postgres database\n",
    "con = create_pg_connexion(config_parameters)\n",
    "# Display header\n",
    "df = display_header(con, 'schools', data['schools'][0], row_num=5)\n",
    "# Close connexion to postgres database\n",
    "con.close()\n",
    "# Display dataframe\n",
    "df"
   ]
  },
  {
   "cell_type": "markdown",
   "metadata": {},
   "source": [
    "# PICC surface polygons"
   ]
  },
  {
   "cell_type": "markdown",
   "metadata": {},
   "source": [
    "**Create new schema**"
   ]
  },
  {
   "cell_type": "code",
   "execution_count": null,
   "metadata": {
    "scrolled": false
   },
   "outputs": [],
   "source": [
    "# Create connexion to postgres database\n",
    "con = create_pg_connexion(config_parameters)\n",
    "# Create new schema\n",
    "create_pg_schema(con, 'picc', overwrite=False)\n",
    "grant_user(con, 'picc', 'bbeaumont')\n",
    "# Close connexion to postgres database\n",
    "con.close()"
   ]
  },
  {
   "cell_type": "markdown",
   "metadata": {},
   "source": [
    "**Import layer**"
   ]
  },
  {
   "cell_type": "code",
   "execution_count": null,
   "metadata": {
    "scrolled": false
   },
   "outputs": [],
   "source": [
    "# Import shapefile into postgis database\n",
    "ogr2ogr_import(data['picc_surface'][1], config_parameters, \n",
    "               schema='picc', table=data['picc_surface'][0],\n",
    "               to_srid='31370', create_opt='-overwrite') "
   ]
  },
  {
   "cell_type": "code",
   "execution_count": null,
   "metadata": {
    "scrolled": true
   },
   "outputs": [],
   "source": [
    "# Create connexion to postgres database\n",
    "con = create_pg_connexion(config_parameters)\n",
    "# Update geometry column to ensure its a valid geometry\n",
    "make_valid(con, 'picc', data['picc_surface'][0], 'geom', geometry_type=3)\n",
    "# Close connexion to postgres database\n",
    "con.close()"
   ]
  },
  {
   "cell_type": "code",
   "execution_count": null,
   "metadata": {},
   "outputs": [],
   "source": [
    "# Add index on 'geom'\n",
    "con = create_pg_connexion(config_parameters)\n",
    "create_index(con, 'picc', data['picc_surface'][0], 'geom', is_geom=True)\n",
    "con.close()"
   ]
  },
  {
   "cell_type": "code",
   "execution_count": null,
   "metadata": {
    "scrolled": false
   },
   "outputs": [],
   "source": [
    "# Create connexion to postgres database\n",
    "con = create_pg_connexion(config_parameters)\n",
    "# Display header\n",
    "df = display_header(con, 'picc', data['picc_surface'][0], row_num=5)\n",
    "# Close connexion to postgres database\n",
    "con.close()\n",
    "# Display dataframe\n",
    "df"
   ]
  },
  {
   "cell_type": "raw",
   "metadata": {},
   "source": [
    "# Create connexion to postgres database\n",
    "con = create_pg_connexion(config_parameters)\n",
    "# Query\n",
    "query = \"SELECT DISTINCT hilucs, natur_desc FROM %s.%s ORDER by hilucs\"%('picc', data['picc_surface'][0])\n",
    "# Execute query through panda\n",
    "df = pd.read_sql(query, con)\n",
    "# Close connexion to postgres database\n",
    "con.close()\n",
    "# Display dataframe\n",
    "df"
   ]
  },
  {
   "cell_type": "markdown",
   "metadata": {},
   "source": [
    "# PICC symbology"
   ]
  },
  {
   "cell_type": "markdown",
   "metadata": {},
   "source": [
    "**Create new schema**"
   ]
  },
  {
   "cell_type": "code",
   "execution_count": null,
   "metadata": {
    "scrolled": false
   },
   "outputs": [],
   "source": [
    "# Create connexion to postgres database\n",
    "con = create_pg_connexion(config_parameters)\n",
    "# Create new schema\n",
    "create_pg_schema(con, 'picc', overwrite=False)\n",
    "grant_user(con, 'picc', 'bbeaumont')\n",
    "# Close connexion to postgres database\n",
    "con.close()"
   ]
  },
  {
   "cell_type": "markdown",
   "metadata": {},
   "source": [
    "**Import layer**"
   ]
  },
  {
   "cell_type": "code",
   "execution_count": null,
   "metadata": {
    "scrolled": false
   },
   "outputs": [],
   "source": [
    "# Import shapefile into postgis database\n",
    "ogr2ogr_import(data['picc_symbology'][1], config_parameters, \n",
    "               schema='picc', table=data['picc_symbology'][0],\n",
    "               to_srid='31370', create_opt='-overwrite') "
   ]
  },
  {
   "cell_type": "code",
   "execution_count": null,
   "metadata": {
    "scrolled": true
   },
   "outputs": [],
   "source": [
    "# Create connexion to postgres database\n",
    "con = create_pg_connexion(config_parameters)\n",
    "# Update geometry column to ensure its a valid geometry\n",
    "make_valid(con, 'picc', data['picc_symbology'][0], 'geom', geometry_type=1)\n",
    "# Close connexion to postgres database\n",
    "con.close()"
   ]
  },
  {
   "cell_type": "code",
   "execution_count": null,
   "metadata": {},
   "outputs": [],
   "source": [
    "# Add index on 'geom'\n",
    "con = create_pg_connexion(config_parameters)\n",
    "create_index(con, 'picc', data['picc_symbology'][0], 'geom', is_geom=True)\n",
    "con.close()"
   ]
  },
  {
   "cell_type": "code",
   "execution_count": null,
   "metadata": {
    "scrolled": true
   },
   "outputs": [],
   "source": [
    "# Create connexion to postgres database\n",
    "con = create_pg_connexion(config_parameters)\n",
    "# Display header\n",
    "df = display_header(con, 'picc', data['picc_symbology'][0], row_num=5)\n",
    "# Close connexion to postgres database\n",
    "con.close()\n",
    "# Display dataframe\n",
    "df"
   ]
  },
  {
   "cell_type": "raw",
   "metadata": {},
   "source": [
    "# Create connexion to postgres database\n",
    "con = create_pg_connexion(config_parameters)\n",
    "# Query\n",
    "query = \"SELECT DISTINCT hilucs, natur_desc FROM %s.%s ORDER by hilucs\"%('picc', data['picc_symbology'][0])\n",
    "# Execute query through panda\n",
    "df = pd.read_sql(query, con)\n",
    "# Close connexion to postgres database\n",
    "con.close()\n",
    "# Display dataframe\n",
    "df"
   ]
  },
  {
   "cell_type": "markdown",
   "metadata": {},
   "source": [
    "# Eoliennes"
   ]
  },
  {
   "cell_type": "markdown",
   "metadata": {},
   "source": [
    "**Create new schema**"
   ]
  },
  {
   "cell_type": "code",
   "execution_count": null,
   "metadata": {
    "scrolled": false
   },
   "outputs": [],
   "source": [
    "# Create connexion to postgres database\n",
    "con = create_pg_connexion(config_parameters)\n",
    "# Create new schema\n",
    "create_pg_schema(con, 'eoliennes', overwrite=False)\n",
    "grant_user(con, 'eoliennes', 'bbeaumont')\n",
    "# Close connexion to postgres database\n",
    "con.close()"
   ]
  },
  {
   "cell_type": "markdown",
   "metadata": {},
   "source": [
    "**Import layer**"
   ]
  },
  {
   "cell_type": "code",
   "execution_count": null,
   "metadata": {
    "scrolled": true
   },
   "outputs": [],
   "source": [
    "# Import shapefile into postgis database\n",
    "ogr2ogr_import(data['eoliennes'][1], config_parameters, \n",
    "               schema='eoliennes', table=data['eoliennes'][0],\n",
    "               to_srid='31370', create_opt='-overwrite') "
   ]
  },
  {
   "cell_type": "code",
   "execution_count": null,
   "metadata": {
    "scrolled": true
   },
   "outputs": [],
   "source": [
    "# Create connexion to postgres database\n",
    "con = create_pg_connexion(config_parameters)\n",
    "# Update geometry column to ensure its a valid geometry\n",
    "make_valid(con, 'eoliennes', data['eoliennes'][0], 'geom', geometry_type=1)\n",
    "# Close connexion to postgres database\n",
    "con.close()"
   ]
  },
  {
   "cell_type": "code",
   "execution_count": null,
   "metadata": {},
   "outputs": [],
   "source": [
    "# Add index on 'geom'\n",
    "con = create_pg_connexion(config_parameters)\n",
    "create_index(con, 'eoliennes', data['eoliennes'][0], 'geom', is_geom=True)\n",
    "con.close()"
   ]
  },
  {
   "cell_type": "code",
   "execution_count": null,
   "metadata": {
    "scrolled": false
   },
   "outputs": [],
   "source": [
    "# Create connexion to postgres database\n",
    "con = create_pg_connexion(config_parameters)\n",
    "# Display header\n",
    "df = display_header(con, 'eoliennes', data['eoliennes'][0], row_num=5)\n",
    "# Close connexion to postgres database\n",
    "con.close()\n",
    "# Display dataframe\n",
    "df"
   ]
  },
  {
   "cell_type": "markdown",
   "metadata": {},
   "source": [
    "# Recypark"
   ]
  },
  {
   "cell_type": "markdown",
   "metadata": {},
   "source": [
    "**Create new schema**"
   ]
  },
  {
   "cell_type": "code",
   "execution_count": null,
   "metadata": {
    "scrolled": false
   },
   "outputs": [],
   "source": [
    "# Create connexion to postgres database\n",
    "con = create_pg_connexion(config_parameters)\n",
    "# Create new schema\n",
    "create_pg_schema(con, 'recypark', overwrite=False)\n",
    "grant_user(con, 'recypark', 'bbeaumont')\n",
    "# Close connexion to postgres database\n",
    "con.close()"
   ]
  },
  {
   "cell_type": "markdown",
   "metadata": {},
   "source": [
    "**Import layer**"
   ]
  },
  {
   "cell_type": "code",
   "execution_count": null,
   "metadata": {
    "scrolled": false
   },
   "outputs": [],
   "source": [
    "# Import shapefile into postgis database\n",
    "ogr2ogr_import(data['recypark'][1], config_parameters, \n",
    "               schema='recypark', table=data['recypark'][0],\n",
    "               to_srid='31370', create_opt='-overwrite') "
   ]
  },
  {
   "cell_type": "code",
   "execution_count": null,
   "metadata": {
    "scrolled": true
   },
   "outputs": [],
   "source": [
    "# Create connexion to postgres database\n",
    "con = create_pg_connexion(config_parameters)\n",
    "# Update geometry column to ensure its a valid geometry\n",
    "make_valid(con, 'recypark', data['recypark'][0], 'geom', geometry_type=1)\n",
    "# Close connexion to postgres database\n",
    "con.close()"
   ]
  },
  {
   "cell_type": "code",
   "execution_count": null,
   "metadata": {},
   "outputs": [],
   "source": [
    "# Add index on 'geom'\n",
    "con = create_pg_connexion(config_parameters)\n",
    "create_index(con, 'recypark', data['recypark'][0], 'geom', is_geom=True)\n",
    "con.close()"
   ]
  },
  {
   "cell_type": "code",
   "execution_count": null,
   "metadata": {
    "scrolled": false
   },
   "outputs": [],
   "source": [
    "# Create connexion to postgres database\n",
    "con = create_pg_connexion(config_parameters)\n",
    "# Display header\n",
    "df = display_header(con, 'recypark', data['recypark'][0], row_num=5)\n",
    "# Close connexion to postgres database\n",
    "con.close()\n",
    "# Display dataframe\n",
    "df"
   ]
  },
  {
   "cell_type": "markdown",
   "metadata": {},
   "source": [
    "# Etablissements pour ainés"
   ]
  },
  {
   "cell_type": "markdown",
   "metadata": {},
   "source": [
    "**Create new schema**"
   ]
  },
  {
   "cell_type": "code",
   "execution_count": null,
   "metadata": {
    "scrolled": false
   },
   "outputs": [],
   "source": [
    "# Create connexion to postgres database\n",
    "con = create_pg_connexion(config_parameters)\n",
    "# Create new schema\n",
    "create_pg_schema(con, 'etab_aines', overwrite=False)\n",
    "grant_user(con, 'etab_aines', 'bbeaumont')\n",
    "# Close connexion to postgres database\n",
    "con.close()"
   ]
  },
  {
   "cell_type": "markdown",
   "metadata": {},
   "source": [
    "**Import layer**"
   ]
  },
  {
   "cell_type": "code",
   "execution_count": null,
   "metadata": {
    "scrolled": false
   },
   "outputs": [],
   "source": [
    "# Import shapefile into postgis database\n",
    "ogr2ogr_import(data['etab_aines'][1], config_parameters, \n",
    "               schema='etab_aines', table=data['etab_aines'][0],\n",
    "               to_srid='31370', create_opt='-overwrite') "
   ]
  },
  {
   "cell_type": "code",
   "execution_count": null,
   "metadata": {
    "scrolled": true
   },
   "outputs": [],
   "source": [
    "# Create connexion to postgres database\n",
    "con = create_pg_connexion(config_parameters)\n",
    "# Update geometry column to ensure its a valid geometry\n",
    "make_valid(con, 'etab_aines', data['etab_aines'][0], 'geom', geometry_type=1)\n",
    "# Close connexion to postgres database\n",
    "con.close()"
   ]
  },
  {
   "cell_type": "code",
   "execution_count": null,
   "metadata": {},
   "outputs": [],
   "source": [
    "# Add index on 'geom'\n",
    "con = create_pg_connexion(config_parameters)\n",
    "create_index(con, 'etab_aines', data['etab_aines'][0], 'geom', is_geom=True)\n",
    "con.close()"
   ]
  },
  {
   "cell_type": "code",
   "execution_count": null,
   "metadata": {
    "scrolled": false
   },
   "outputs": [],
   "source": [
    "# Create connexion to postgres database\n",
    "con = create_pg_connexion(config_parameters)\n",
    "# Display header\n",
    "df = display_header(con, 'etab_aines', data['etab_aines'][0], row_num=5)\n",
    "# Close connexion to postgres database\n",
    "con.close()\n",
    "# Display dataframe\n",
    "df"
   ]
  },
  {
   "cell_type": "markdown",
   "metadata": {},
   "source": [
    "# SEVESO"
   ]
  },
  {
   "cell_type": "markdown",
   "metadata": {},
   "source": [
    "**Create new schema**"
   ]
  },
  {
   "cell_type": "code",
   "execution_count": null,
   "metadata": {
    "scrolled": false
   },
   "outputs": [],
   "source": [
    "# Create connexion to postgres database\n",
    "con = create_pg_connexion(config_parameters)\n",
    "# Create new schema\n",
    "create_pg_schema(con, 'seveso', overwrite=False)\n",
    "grant_user(con, 'seveso', 'bbeaumont')\n",
    "# Close connexion to postgres database\n",
    "con.close()"
   ]
  },
  {
   "cell_type": "markdown",
   "metadata": {},
   "source": [
    "**Import layer**"
   ]
  },
  {
   "cell_type": "code",
   "execution_count": null,
   "metadata": {
    "scrolled": false
   },
   "outputs": [],
   "source": [
    "# Import shapefile into postgis database\n",
    "ogr2ogr_import(data['seveso'][1], config_parameters, \n",
    "               schema='seveso', table=data['seveso'][0],\n",
    "               to_srid='31370', create_opt='-overwrite') "
   ]
  },
  {
   "cell_type": "code",
   "execution_count": null,
   "metadata": {
    "scrolled": true
   },
   "outputs": [],
   "source": [
    "# Create connexion to postgres database\n",
    "con = create_pg_connexion(config_parameters)\n",
    "# Update geometry column to ensure its a valid geometry\n",
    "make_valid(con, 'seveso', data['seveso'][0], 'geom', geometry_type=1)\n",
    "# Close connexion to postgres database\n",
    "con.close()"
   ]
  },
  {
   "cell_type": "code",
   "execution_count": null,
   "metadata": {},
   "outputs": [],
   "source": [
    "# Add index on 'geom'\n",
    "con = create_pg_connexion(config_parameters)\n",
    "create_index(con, 'seveso', data['seveso'][0], 'geom', is_geom=True)\n",
    "con.close()"
   ]
  },
  {
   "cell_type": "code",
   "execution_count": null,
   "metadata": {
    "scrolled": true
   },
   "outputs": [],
   "source": [
    "# Create connexion to postgres database\n",
    "con = create_pg_connexion(config_parameters)\n",
    "# Display header\n",
    "df = display_header(con, 'seveso', data['seveso'][0], row_num=5)\n",
    "# Close connexion to postgres database\n",
    "con.close()\n",
    "# Display dataframe\n",
    "df"
   ]
  },
  {
   "cell_type": "markdown",
   "metadata": {},
   "source": [
    "# Campings"
   ]
  },
  {
   "cell_type": "markdown",
   "metadata": {},
   "source": [
    "**Create new schema**"
   ]
  },
  {
   "cell_type": "code",
   "execution_count": null,
   "metadata": {
    "scrolled": false
   },
   "outputs": [],
   "source": [
    "# Create connexion to postgres database\n",
    "con = create_pg_connexion(config_parameters)\n",
    "# Create new schema\n",
    "create_pg_schema(con, 'camping', overwrite=False)\n",
    "grant_user(con, 'camping', 'bbeaumont')\n",
    "# Close connexion to postgres database\n",
    "con.close()"
   ]
  },
  {
   "cell_type": "markdown",
   "metadata": {},
   "source": [
    "**Import layer**"
   ]
  },
  {
   "cell_type": "code",
   "execution_count": null,
   "metadata": {
    "scrolled": false
   },
   "outputs": [],
   "source": [
    "# Import shapefile into postgis database\n",
    "ogr2ogr_import(data['camping'][1], config_parameters, \n",
    "               schema='camping', table=data['camping'][0],\n",
    "               to_srid='31370', create_opt='-overwrite') "
   ]
  },
  {
   "cell_type": "code",
   "execution_count": null,
   "metadata": {
    "scrolled": true
   },
   "outputs": [],
   "source": [
    "# Create connexion to postgres database\n",
    "con = create_pg_connexion(config_parameters)\n",
    "# Update geometry column to ensure its a valid geometry\n",
    "make_valid(con, 'camping', data['camping'][0], 'geom', geometry_type=1)\n",
    "# Close connexion to postgres database\n",
    "con.close()"
   ]
  },
  {
   "cell_type": "code",
   "execution_count": null,
   "metadata": {},
   "outputs": [],
   "source": [
    "# Add index on 'geom'\n",
    "con = create_pg_connexion(config_parameters)\n",
    "create_index(con, 'camping', data['camping'][0], 'geom', is_geom=True)\n",
    "con.close()"
   ]
  },
  {
   "cell_type": "code",
   "execution_count": null,
   "metadata": {
    "scrolled": false
   },
   "outputs": [],
   "source": [
    "# Create connexion to postgres database\n",
    "con = create_pg_connexion(config_parameters)\n",
    "# Display header\n",
    "df = display_header(con, 'camping', data['camping'][0], row_num=5)\n",
    "# Close connexion to postgres database\n",
    "con.close()\n",
    "# Display dataframe\n",
    "df"
   ]
  },
  {
   "cell_type": "markdown",
   "metadata": {},
   "source": [
    "# IGN data - Airports, AmusementParks, AnimalParks, Carry, Sports"
   ]
  },
  {
   "cell_type": "markdown",
   "metadata": {},
   "source": [
    "**Create new schema**"
   ]
  },
  {
   "cell_type": "code",
   "execution_count": null,
   "metadata": {
    "scrolled": false
   },
   "outputs": [],
   "source": [
    "# Create connexion to postgres database\n",
    "con = create_pg_connexion(config_parameters)\n",
    "# Create new schema\n",
    "create_pg_schema(con, 'ign', overwrite=False)\n",
    "grant_user(con, 'ign', 'bbeaumont')\n",
    "# Close connexion to postgres database\n",
    "con.close()"
   ]
  },
  {
   "cell_type": "markdown",
   "metadata": {},
   "source": [
    "## Airports"
   ]
  },
  {
   "cell_type": "code",
   "execution_count": null,
   "metadata": {
    "scrolled": false
   },
   "outputs": [],
   "source": [
    "# Import shapefile into postgis database\n",
    "ogr2ogr_import(data['aeroport'][1], config_parameters, \n",
    "               schema='ign', table=data['aeroport'][0],\n",
    "               to_srid='31370', create_opt='-overwrite') "
   ]
  },
  {
   "cell_type": "code",
   "execution_count": null,
   "metadata": {
    "scrolled": true
   },
   "outputs": [],
   "source": [
    "# Create connexion to postgres database\n",
    "con = create_pg_connexion(config_parameters)\n",
    "# Update geometry column to ensure its a valid geometry\n",
    "make_valid(con, 'ign', data['aeroport'][0], 'geom', geometry_type=1)\n",
    "# Close connexion to postgres database\n",
    "con.close()"
   ]
  },
  {
   "cell_type": "code",
   "execution_count": null,
   "metadata": {},
   "outputs": [],
   "source": [
    "# Add index on 'geom'\n",
    "con = create_pg_connexion(config_parameters)\n",
    "create_index(con, 'ign', data['aeroport'][0], 'geom', is_geom=True)\n",
    "con.close()"
   ]
  },
  {
   "cell_type": "code",
   "execution_count": null,
   "metadata": {
    "scrolled": false
   },
   "outputs": [],
   "source": [
    "# Create connexion to postgres database\n",
    "con = create_pg_connexion(config_parameters)\n",
    "# Display header\n",
    "df = display_header(con, 'ign', data['aeroport'][0], row_num=5)\n",
    "# Close connexion to postgres database\n",
    "con.close()\n",
    "# Display dataframe\n",
    "df"
   ]
  },
  {
   "cell_type": "markdown",
   "metadata": {},
   "source": [
    "## AmusementParks"
   ]
  },
  {
   "cell_type": "code",
   "execution_count": null,
   "metadata": {
    "scrolled": false
   },
   "outputs": [],
   "source": [
    "# Import shapefile into postgis database\n",
    "ogr2ogr_import(data['parc_lois'][1], config_parameters, \n",
    "               schema='ign', table=data['parc_lois'][0],\n",
    "               to_srid='31370', create_opt='-overwrite') "
   ]
  },
  {
   "cell_type": "code",
   "execution_count": null,
   "metadata": {
    "scrolled": true
   },
   "outputs": [],
   "source": [
    "# Create connexion to postgres database\n",
    "con = create_pg_connexion(config_parameters)\n",
    "# Update geometry column to ensure its a valid geometry\n",
    "make_valid(con, 'ign', data['parc_lois'][0], 'geom', geometry_type=1)\n",
    "# Close connexion to postgres database\n",
    "con.close()"
   ]
  },
  {
   "cell_type": "code",
   "execution_count": null,
   "metadata": {},
   "outputs": [],
   "source": [
    "# Add index on 'geom'\n",
    "con = create_pg_connexion(config_parameters)\n",
    "create_index(con, 'ign', data['parc_lois'][0], 'geom', is_geom=True)\n",
    "con.close()"
   ]
  },
  {
   "cell_type": "code",
   "execution_count": null,
   "metadata": {
    "scrolled": false
   },
   "outputs": [],
   "source": [
    "# Create connexion to postgres database\n",
    "con = create_pg_connexion(config_parameters)\n",
    "# Display header\n",
    "df = display_header(con, 'ign', data['parc_lois'][0], row_num=5)\n",
    "# Close connexion to postgres database\n",
    "con.close()\n",
    "# Display dataframe\n",
    "df"
   ]
  },
  {
   "cell_type": "markdown",
   "metadata": {},
   "source": [
    "## AnimalParks"
   ]
  },
  {
   "cell_type": "code",
   "execution_count": null,
   "metadata": {
    "scrolled": false
   },
   "outputs": [],
   "source": [
    "# Import shapefile into postgis database\n",
    "ogr2ogr_import(data['parc_anim'][1], config_parameters, \n",
    "               schema='ign', table=data['parc_anim'][0],\n",
    "               to_srid='31370', create_opt='-overwrite') "
   ]
  },
  {
   "cell_type": "code",
   "execution_count": null,
   "metadata": {
    "scrolled": true
   },
   "outputs": [],
   "source": [
    "# Create connexion to postgres database\n",
    "con = create_pg_connexion(config_parameters)\n",
    "# Update geometry column to ensure its a valid geometry\n",
    "make_valid(con, 'ign', data['parc_anim'][0], 'geom', geometry_type=1)\n",
    "# Close connexion to postgres database\n",
    "con.close()"
   ]
  },
  {
   "cell_type": "code",
   "execution_count": null,
   "metadata": {},
   "outputs": [],
   "source": [
    "# Add index on 'geom'\n",
    "con = create_pg_connexion(config_parameters)\n",
    "create_index(con, 'ign', data['parc_anim'][0], 'geom', is_geom=True)\n",
    "con.close()"
   ]
  },
  {
   "cell_type": "code",
   "execution_count": null,
   "metadata": {
    "scrolled": false
   },
   "outputs": [],
   "source": [
    "# Create connexion to postgres database\n",
    "con = create_pg_connexion(config_parameters)\n",
    "# Display header\n",
    "df = display_header(con, 'ign', data['parc_anim'][0], row_num=5)\n",
    "# Close connexion to postgres database\n",
    "con.close()\n",
    "# Display dataframe\n",
    "df"
   ]
  },
  {
   "cell_type": "markdown",
   "metadata": {},
   "source": [
    "## Carry"
   ]
  },
  {
   "cell_type": "code",
   "execution_count": null,
   "metadata": {
    "scrolled": false
   },
   "outputs": [],
   "source": [
    "# Import shapefile into postgis database\n",
    "ogr2ogr_import(data['carrier_ign'][1], config_parameters, \n",
    "               schema='ign', table=data['carrier_ign'][0],\n",
    "               to_srid='31370', create_opt='-overwrite') "
   ]
  },
  {
   "cell_type": "code",
   "execution_count": null,
   "metadata": {
    "scrolled": true
   },
   "outputs": [],
   "source": [
    "# Create connexion to postgres database\n",
    "con = create_pg_connexion(config_parameters)\n",
    "# Update geometry column to ensure its a valid geometry\n",
    "make_valid(con, 'ign', data['carrier_ign'][0], 'geom', geometry_type=1)\n",
    "# Close connexion to postgres database\n",
    "con.close()"
   ]
  },
  {
   "cell_type": "code",
   "execution_count": null,
   "metadata": {},
   "outputs": [],
   "source": [
    "# Add index on 'geom'\n",
    "con = create_pg_connexion(config_parameters)\n",
    "create_index(con, 'ign', data['carrier_ign'][0], 'geom', is_geom=True)\n",
    "con.close()"
   ]
  },
  {
   "cell_type": "code",
   "execution_count": null,
   "metadata": {
    "scrolled": false
   },
   "outputs": [],
   "source": [
    "# Create connexion to postgres database\n",
    "con = create_pg_connexion(config_parameters)\n",
    "# Display header\n",
    "df = display_header(con, 'ign', data['carrier_ign'][0], row_num=5)\n",
    "# Close connexion to postgres database\n",
    "con.close()\n",
    "# Display dataframe\n",
    "df"
   ]
  },
  {
   "cell_type": "markdown",
   "metadata": {},
   "source": [
    "## Sports"
   ]
  },
  {
   "cell_type": "code",
   "execution_count": null,
   "metadata": {
    "scrolled": false
   },
   "outputs": [],
   "source": [
    "# Import shapefile into postgis database\n",
    "ogr2ogr_import(data['ter_sport'][1], config_parameters, \n",
    "               schema='ign', table=data['ter_sport'][0],\n",
    "               to_srid='31370', create_opt='-overwrite') "
   ]
  },
  {
   "cell_type": "code",
   "execution_count": null,
   "metadata": {
    "scrolled": true
   },
   "outputs": [],
   "source": [
    "# Create connexion to postgres database\n",
    "con = create_pg_connexion(config_parameters)\n",
    "# Update geometry column to ensure its a valid geometry\n",
    "make_valid(con, 'ign', data['ter_sport'][0], 'geom', geometry_type=1)\n",
    "# Close connexion to postgres database\n",
    "con.close()"
   ]
  },
  {
   "cell_type": "code",
   "execution_count": null,
   "metadata": {},
   "outputs": [],
   "source": [
    "# Add index on 'geom'\n",
    "con = create_pg_connexion(config_parameters)\n",
    "create_index(con, 'ign', data['ter_sport'][0], 'geom', is_geom=True)\n",
    "con.close()"
   ]
  },
  {
   "cell_type": "code",
   "execution_count": null,
   "metadata": {
    "scrolled": false
   },
   "outputs": [],
   "source": [
    "# Create connexion to postgres database\n",
    "con = create_pg_connexion(config_parameters)\n",
    "# Display header\n",
    "df = display_header(con, 'ign', data['ter_sport'][0], row_num=5)\n",
    "# Close connexion to postgres database\n",
    "con.close()\n",
    "# Display dataframe\n",
    "df"
   ]
  },
  {
   "cell_type": "markdown",
   "metadata": {},
   "source": [
    "# Other data from SPW"
   ]
  },
  {
   "cell_type": "markdown",
   "metadata": {},
   "source": [
    "**Create new schema**"
   ]
  },
  {
   "cell_type": "code",
   "execution_count": null,
   "metadata": {
    "scrolled": false
   },
   "outputs": [],
   "source": [
    "# Create connexion to postgres database\n",
    "con = create_pg_connexion(config_parameters)\n",
    "# Create new schema\n",
    "create_pg_schema(con, 'spw', overwrite=False)\n",
    "grant_user(con, 'spw', 'bbeaumont')\n",
    "# Close connexion to postgres database\n",
    "con.close()"
   ]
  },
  {
   "cell_type": "markdown",
   "metadata": {},
   "source": [
    "## Carry"
   ]
  },
  {
   "cell_type": "code",
   "execution_count": null,
   "metadata": {
    "scrolled": false
   },
   "outputs": [],
   "source": [
    "# Import shapefile into postgis database\n",
    "ogr2ogr_import(data['carrier_spw'][1], config_parameters, \n",
    "               schema='spw', table=data['carrier_spw'][0],\n",
    "               to_srid='31370', create_opt='-overwrite') "
   ]
  },
  {
   "cell_type": "code",
   "execution_count": null,
   "metadata": {
    "scrolled": true
   },
   "outputs": [],
   "source": [
    "# Create connexion to postgres database\n",
    "con = create_pg_connexion(config_parameters)\n",
    "# Update geometry column to ensure its a valid geometry\n",
    "make_valid(con, 'spw', data['carrier_spw'][0], 'geom', geometry_type=1)\n",
    "# Close connexion to postgres database\n",
    "con.close()"
   ]
  },
  {
   "cell_type": "code",
   "execution_count": null,
   "metadata": {},
   "outputs": [],
   "source": [
    "# Add index on 'geom'\n",
    "con = create_pg_connexion(config_parameters)\n",
    "create_index(con, 'spw', data['carrier_spw'][0], 'geom', is_geom=True)\n",
    "con.close()"
   ]
  },
  {
   "cell_type": "code",
   "execution_count": null,
   "metadata": {
    "scrolled": false
   },
   "outputs": [],
   "source": [
    "# Create connexion to postgres database\n",
    "con = create_pg_connexion(config_parameters)\n",
    "# Display header\n",
    "df = display_header(con, 'spw', data['carrier_spw'][0], row_num=5)\n",
    "# Close connexion to postgres database\n",
    "con.close()\n",
    "# Display dataframe\n",
    "df"
   ]
  },
  {
   "cell_type": "markdown",
   "metadata": {},
   "source": [
    "## Christmas Trees"
   ]
  },
  {
   "cell_type": "code",
   "execution_count": null,
   "metadata": {
    "scrolled": false
   },
   "outputs": [],
   "source": [
    "# Import shapefile into postgis database\n",
    "ogr2ogr_import(data['sapin_noel'][1], config_parameters, \n",
    "               schema='spw', table=data['sapin_noel'][0],\n",
    "               to_srid='31370', create_opt='-overwrite') "
   ]
  },
  {
   "cell_type": "code",
   "execution_count": null,
   "metadata": {
    "scrolled": true
   },
   "outputs": [],
   "source": [
    "# Create connexion to postgres database\n",
    "con = create_pg_connexion(config_parameters)\n",
    "# Update geometry column to ensure its a valid geometry\n",
    "make_valid(con, 'spw', data['sapin_noel'][0], 'geom', geometry_type=3)\n",
    "# Close connexion to postgres database\n",
    "con.close()"
   ]
  },
  {
   "cell_type": "code",
   "execution_count": null,
   "metadata": {},
   "outputs": [],
   "source": [
    "# Add index on 'geom'\n",
    "con = create_pg_connexion(config_parameters)\n",
    "create_index(con, 'spw', data['sapin_noel'][0], 'geom', is_geom=True)\n",
    "con.close()"
   ]
  },
  {
   "cell_type": "code",
   "execution_count": null,
   "metadata": {
    "scrolled": false
   },
   "outputs": [],
   "source": [
    "# Create connexion to postgres database\n",
    "con = create_pg_connexion(config_parameters)\n",
    "# Display header\n",
    "df = display_header(con, 'spw', data['sapin_noel'][0], row_num=5)\n",
    "# Close connexion to postgres database\n",
    "con.close()\n",
    "# Display dataframe\n",
    "df"
   ]
  },
  {
   "cell_type": "code",
   "execution_count": null,
   "metadata": {},
   "outputs": [],
   "source": []
  }
 ],
 "metadata": {
  "kernelspec": {
   "display_name": "Python 3",
   "language": "python",
   "name": "python3"
  },
  "language_info": {
   "codemirror_mode": {
    "name": "ipython",
    "version": 3
   },
   "file_extension": ".py",
   "mimetype": "text/x-python",
   "name": "python",
   "nbconvert_exporter": "python",
   "pygments_lexer": "ipython3",
   "version": "3.6.10"
  }
 },
 "nbformat": 4,
 "nbformat_minor": 2
}
