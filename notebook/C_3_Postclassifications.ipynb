{
 "cells": [
  {
   "cell_type": "markdown",
   "metadata": {},
   "source": [
    "<p><strong><font size=\"6\">WalOUS project</font></strong></p>\n",
    "\n",
    "<p><strong><font size=\"6\">C_3_Postclassifications</font></strong></p>\n",
    "\n",
    "Jupyter Notebook containing the preprocessing steps consisting of: \n",
    "- Perform automated correction of \"garden parcels\" and add columns for tracking postclassification rules\n",
    "- Sudbivide the residential classes into different levels of density.\n",
    "- Create a new table for dissemination of results to end users and add attributes with all individual levels all attribute 'walousmaj' as well as two attributes 'hilucslanduse' compatible with two scenarios of HILUCS INSPIRE. "
   ]
  },
  {
   "cell_type": "markdown",
   "metadata": {},
   "source": [
    "# Table of Contents"
   ]
  },
  {
   "cell_type": "markdown",
   "metadata": {},
   "source": [
    "<div id=\"toc\"></div>"
   ]
  },
  {
   "cell_type": "markdown",
   "metadata": {},
   "source": [
    "The following cell is a Javascript section of code for building the Jupyter notebook's table of content."
   ]
  },
  {
   "cell_type": "code",
   "execution_count": null,
   "metadata": {},
   "outputs": [],
   "source": [
    "%%javascript\n",
    "$.getScript('https://kmahelona.github.io/ipython_notebook_goodies/ipython_notebook_toc.js')"
   ]
  },
  {
   "cell_type": "markdown",
   "metadata": {},
   "source": [
    "# Define working environment"
   ]
  },
  {
   "cell_type": "markdown",
   "metadata": {},
   "source": [
    "**Import libraries**"
   ]
  },
  {
   "cell_type": "code",
   "execution_count": null,
   "metadata": {},
   "outputs": [],
   "source": [
    "# Import libraries needed for setting parameters of operating system \n",
    "import os\n",
    "import sys"
   ]
  },
  {
   "cell_type": "code",
   "execution_count": null,
   "metadata": {},
   "outputs": [],
   "source": [
    "## Import Psycopg2 library (interection with postgres database)\n",
    "import psycopg2"
   ]
  },
  {
   "cell_type": "markdown",
   "metadata": {},
   "source": [
    "**Add folder with SCR provided belong to this notebook**"
   ]
  },
  {
   "cell_type": "code",
   "execution_count": null,
   "metadata": {},
   "outputs": [],
   "source": [
    "# Add local module to the path\n",
    "src = os.path.abspath('../SRC')\n",
    "if src not in sys.path:\n",
    "    sys.path.append(src)"
   ]
  },
  {
   "cell_type": "markdown",
   "metadata": {},
   "source": [
    "**Setup environment variables**"
   ]
  },
  {
   "cell_type": "markdown",
   "metadata": {},
   "source": [
    "Please edit the file in `../SRC/config.py`, containing the configuration parameters, according to your own computer setup. The following cell is used to run this file.\n",
    "\n"
   ]
  },
  {
   "cell_type": "code",
   "execution_count": null,
   "metadata": {
    "scrolled": true
   },
   "outputs": [],
   "source": [
    "run ../SRC/config.py"
   ]
  },
  {
   "cell_type": "code",
   "execution_count": null,
   "metadata": {},
   "outputs": [],
   "source": [
    "# Import functions that setup the environmental variables\n",
    "import environ_variables as envi"
   ]
  },
  {
   "cell_type": "code",
   "execution_count": null,
   "metadata": {
    "scrolled": true
   },
   "outputs": [],
   "source": [
    "# Set environmental variables\n",
    "envi.setup_environmental_variables() \n",
    "# Display current environment variables of your computer\n",
    "envi.print_environmental_variables()"
   ]
  },
  {
   "cell_type": "markdown",
   "metadata": {},
   "source": [
    "**Other functions**"
   ]
  },
  {
   "cell_type": "code",
   "execution_count": null,
   "metadata": {},
   "outputs": [],
   "source": [
    "# Import functions for processing time information\n",
    "import time\n",
    "from processing_time import start_processing, print_processing_time\n",
    "# Import function that check and create folder\n",
    "from mkdir import check_create_dir"
   ]
  },
  {
   "cell_type": "markdown",
   "metadata": {},
   "source": [
    "**Custom functions: Psycopg2 and Postgresql functions**"
   ]
  },
  {
   "cell_type": "code",
   "execution_count": null,
   "metadata": {},
   "outputs": [],
   "source": [
    "# Import function that display postgresql's table header\n",
    "from display_header import display_header\n",
    "# Import function to creation connection to Postgresql database \n",
    "from postgres_functions import create_pg_connexion\n",
    "# Import function to create index\n",
    "from postgres_functions import create_index"
   ]
  },
  {
   "cell_type": "code",
   "execution_count": null,
   "metadata": {
    "scrolled": true
   },
   "outputs": [],
   "source": [
    "# Import function to export postgis table as shapefile or geopackage\n",
    "from postgres_export import ogr2ogr_export\n",
    "# Import functions for creation of postgresql back-up and restoration\n",
    "from dump_functions import dump_table, dump_db, restore_psql"
   ]
  },
  {
   "cell_type": "code",
   "execution_count": null,
   "metadata": {
    "scrolled": true
   },
   "outputs": [],
   "source": [
    "# Import function to add columns for postclassification rule tracking\n",
    "from postgres_postclassification import add_column_postclass_rulenumber\n",
    "# Import function for fixing error of classification on residential garden\n",
    "from postgres_postclassification import postclassif_residentialgardens_1\n",
    "from postgres_postclassification import postclassif_residentialgardens_2\n",
    "# Import function to subdivide residential classes into several level of neighborhood density\n",
    "from postgres_postclassification import subdivide_residential_density\n",
    "# Import function to create table CUSW with all columns for diffusion of result to end-users\n",
    "from postgres_postclassification import create_cusw_table\n",
    "# Import function to create columns with walousmaj at each level \n",
    "from postgres_postclassification import create_walousmaj_levels\n",
    "# Import function to create column 'hilucslanduse_1' corresponding to scenario 1 of INSPIRE HILUCS \n",
    "from postgres_postclassification import create_hilucs_landuse_1\n",
    "# Import function to create column 'hilucslanduse_1' corresponding to scenario 1 of INSPIRE HILUCS \n",
    "from postgres_postclassification import create_hilucs_landuse_2"
   ]
  },
  {
   "cell_type": "markdown",
   "metadata": {},
   "source": [
    "# Add column for tracking postclassification rules"
   ]
  },
  {
   "cell_type": "code",
   "execution_count": null,
   "metadata": {},
   "outputs": [],
   "source": [
    "# Name of table with classification results\n",
    "classif_table = 'classification_results'"
   ]
  },
  {
   "cell_type": "code",
   "execution_count": null,
   "metadata": {
    "scrolled": true
   },
   "outputs": [],
   "source": [
    "# Create connexion to postgres database\n",
    "con = create_pg_connexion(config_parameters)\n",
    "# Add column for \n",
    "add_column_postclass_rulenumber(con, result_table_schema='results', result_table_name=classif_table)\n",
    "# Close connexion to postgres database\n",
    "con.close()"
   ]
  },
  {
   "cell_type": "markdown",
   "metadata": {},
   "source": [
    "# Postclassification of \"garden parcels\""
   ]
  },
  {
   "cell_type": "code",
   "execution_count": null,
   "metadata": {
    "scrolled": true
   },
   "outputs": [],
   "source": [
    "# Create connexion to postgres database\n",
    "con = create_pg_connexion(config_parameters)\n",
    "# Fix error of classification on residential garden - step 1 \n",
    "postclassif_residentialgardens_1(con, result_table_schema='results', result_table_name=classif_table,\n",
    "                               postclassif_rule=1, colum_label=\"walousmaj\")\n",
    "# Close connexion to postgres database\n",
    "con.close()"
   ]
  },
  {
   "cell_type": "code",
   "execution_count": null,
   "metadata": {
    "scrolled": true
   },
   "outputs": [],
   "source": [
    "# Create connexion to postgres database\n",
    "con = create_pg_connexion(config_parameters)\n",
    "# Fix error of classification on residential garden - step 2\n",
    "postclassif_residentialgardens_2(con, result_table_schema='results', result_table_name=classif_table,\n",
    "                               postclassif_rule=2, colum_label=\"walousmaj\")\n",
    "# Close connexion to postgres database\n",
    "con.close()"
   ]
  },
  {
   "cell_type": "markdown",
   "metadata": {},
   "source": [
    "## Display"
   ]
  },
  {
   "cell_type": "code",
   "execution_count": null,
   "metadata": {
    "scrolled": true
   },
   "outputs": [],
   "source": [
    "# Create connexion to postgres database\n",
    "con = create_pg_connexion(config_parameters)\n",
    "# Display header\n",
    "whereconditions = []\n",
    "whereconditions.append(\"postclas_rule IS NOT NULL\")\n",
    "df = display_header(con, 'results', classif_table, where=' AND '.join(whereconditions), row_num=15)\n",
    "# Close connexion to postgres database\n",
    "con.close()\n",
    "# Display dataframe\n",
    "df"
   ]
  },
  {
   "cell_type": "markdown",
   "metadata": {},
   "source": [
    "**Update index on walousmaj**"
   ]
  },
  {
   "cell_type": "code",
   "execution_count": null,
   "metadata": {},
   "outputs": [],
   "source": [
    "# Add index on 'walousmaj'\n",
    "con = create_pg_connexion(config_parameters)\n",
    "create_index(con, 'results', classif_table, 'walousmaj')\n",
    "con.close()"
   ]
  },
  {
   "cell_type": "markdown",
   "metadata": {},
   "source": [
    "## Subdivide residential classes with neighborhood density"
   ]
  },
  {
   "cell_type": "markdown",
   "metadata": {},
   "source": [
    "Subdivision of residential classes 5_1 and 5_2, based on the modal category of population density in surrounding neighborhoods computed on the RNPP points data."
   ]
  },
  {
   "cell_type": "code",
   "execution_count": null,
   "metadata": {
    "scrolled": true
   },
   "outputs": [],
   "source": [
    "# Create connexion to postgres database\n",
    "con = create_pg_connexion(config_parameters)\n",
    "# Update column with classification label to subdivide classes '5_1' and '5_2' \n",
    "# according to the population density of the surrounding neighborhood\n",
    "subdivide_residential_density(con, result_table_schema='results', result_table_name=classif_table,\n",
    "                            colum_label=\"walousmaj\")\n",
    "# Close connexion to postgres database\n",
    "con.close()"
   ]
  },
  {
   "cell_type": "code",
   "execution_count": null,
   "metadata": {
    "scrolled": true
   },
   "outputs": [],
   "source": [
    "# Create connexion to postgres database\n",
    "con = create_pg_connexion(config_parameters)\n",
    "# Display header\n",
    "whereconditions = []\n",
    "whereconditions.append(\"walousmaj IN ('5_1_D','1_1','2_1')\")\n",
    "df = display_header(con, 'results', classif_table, where=' AND '.join(whereconditions), row_num=15)\n",
    "# Close connexion to postgres database\n",
    "con.close()\n",
    "# Display dataframe\n",
    "df"
   ]
  },
  {
   "cell_type": "markdown",
   "metadata": {},
   "source": [
    "**Backup of table with classification results**"
   ]
  },
  {
   "cell_type": "code",
   "execution_count": null,
   "metadata": {
    "scrolled": true
   },
   "outputs": [],
   "source": [
    "# Create a back-up of a specific table\n",
    "dump_table(config_parameters['pg_host'],config_parameters['pg_dbname'],config_parameters['pg_user'],\n",
    "           config_parameters['pg_password'], 'results', classif_table, data['backup_classif_table'])"
   ]
  },
  {
   "cell_type": "markdown",
   "metadata": {},
   "source": [
    "## Create new table with only columns to be shared with end-users"
   ]
  },
  {
   "cell_type": "code",
   "execution_count": null,
   "metadata": {},
   "outputs": [],
   "source": [
    "# Name of table with classification results\n",
    "cusw_table = 'cusw2018'"
   ]
  },
  {
   "cell_type": "code",
   "execution_count": null,
   "metadata": {
    "scrolled": true
   },
   "outputs": [],
   "source": [
    "# Create connexion to postgres database\n",
    "con = create_pg_connexion(config_parameters)\n",
    "# Create table with all result to be difused to the end-users (all_hilucs, walousmaj, \n",
    "# hilucslanduse_1, hilucslanduse_2) \n",
    "create_cusw_table(con, schema='results', input_table_name=classif_table, cusw_table_name=cusw_table)\n",
    "# Close connexion to postgres database\n",
    "con.close()"
   ]
  },
  {
   "cell_type": "markdown",
   "metadata": {},
   "source": [
    "**Create index**"
   ]
  },
  {
   "cell_type": "code",
   "execution_count": null,
   "metadata": {},
   "outputs": [],
   "source": [
    "# Add index on specific columns\n",
    "con = create_pg_connexion(config_parameters)\n",
    "create_index(con, 'results', cusw_table, 'capakey')\n",
    "create_index(con, 'results', cusw_table, 'walousmaj')\n",
    "create_index(con, 'results', cusw_table, 'geom', is_geom=True)\n",
    "con.close()"
   ]
  },
  {
   "cell_type": "markdown",
   "metadata": {},
   "source": [
    "**Backup of table CUSW2018**"
   ]
  },
  {
   "cell_type": "code",
   "execution_count": null,
   "metadata": {},
   "outputs": [],
   "source": [
    "# Create a back-up of a specific table\n",
    "dump_table(config_parameters['pg_host'],config_parameters['pg_dbname'],config_parameters['pg_user'],\n",
    "           config_parameters['pg_password'], 'results', cusw_table, data['backup_cusw_table'])"
   ]
  },
  {
   "cell_type": "markdown",
   "metadata": {},
   "source": [
    "## Create columns for all levels of \"walousmaj\""
   ]
  },
  {
   "cell_type": "code",
   "execution_count": null,
   "metadata": {
    "scrolled": true
   },
   "outputs": [],
   "source": [
    "# Create connexion to postgres database\n",
    "con = create_pg_connexion(config_parameters)\n",
    "# Create columns for each level of the legend \n",
    "create_walousmaj_levels(con, result_table_schema='results', result_table_name=cusw_table,\n",
    "                      colum_label=\"walousmaj\")\n",
    "# Close connexion to postgres database\n",
    "con.close()"
   ]
  },
  {
   "cell_type": "code",
   "execution_count": null,
   "metadata": {
    "scrolled": true
   },
   "outputs": [],
   "source": [
    "# Create connexion to postgres database\n",
    "con = create_pg_connexion(config_parameters)\n",
    "# Display header\n",
    "whereconditions = []\n",
    "whereconditions.append(\"walousmaj_l4 is not null\")\n",
    "df = display_header(con, 'results', cusw_table, where=' AND '.join(whereconditions), row_num=20)\n",
    "# Close connexion to postgres database\n",
    "con.close()\n",
    "# Display dataframe\n",
    "df"
   ]
  },
  {
   "cell_type": "markdown",
   "metadata": {},
   "source": [
    "**Backup of table CUSW2018**"
   ]
  },
  {
   "cell_type": "code",
   "execution_count": null,
   "metadata": {},
   "outputs": [],
   "source": [
    "# Create a back-up of a specific table\n",
    "dump_table(config_parameters['pg_host'],config_parameters['pg_dbname'],config_parameters['pg_user'],\n",
    "           config_parameters['pg_password'], 'results', cusw_table, data['backup_cusw_table'])"
   ]
  },
  {
   "cell_type": "markdown",
   "metadata": {},
   "source": [
    "**Restore table CUSW2018**"
   ]
  },
  {
   "cell_type": "raw",
   "metadata": {},
   "source": [
    "# Restore a specific table\n",
    "restore_psql(config_parameters['pg_host'],config_parameters['pg_dbname'],config_parameters['pg_user'],\n",
    "           config_parameters['pg_password'], data['backup_cusw_table'], overwrite=True)"
   ]
  },
  {
   "cell_type": "markdown",
   "metadata": {},
   "source": [
    "## Create hilucslanduse column"
   ]
  },
  {
   "cell_type": "markdown",
   "metadata": {},
   "source": [
    "A new array nammed hilucslanduse is created here. It is the INSPIRE compliant terminology of the land use classification. It consists in the concatenation of walousmaj and all_hilucs array elements. The value of walousmaj always remains at the fist position in the hilucslanduse array. \n",
    "\n",
    "In addition:\n",
    "- Duplicates are removed. \n",
    "- In case an label of high level is redundant with a more precise label (of a lower level), the higher level is removed (e.g., if both '5_1' and '5' are present, only '5_1' is be kept). \n",
    "- For classes specific to walous projet and not compliant with HILUCS legend scheme, the label should be replace by the higher level, e.g., if '1_1_1_A' is present, it is replaced by 1_1_1."
   ]
  },
  {
   "cell_type": "code",
   "execution_count": null,
   "metadata": {},
   "outputs": [],
   "source": [
    "# Define a list of classes from 'walousmaj' or 'all_hilucs' that should be ignored when creating 'HilucsLandUse'\n",
    "cl_ignore = ['8_8']\n",
    "\n",
    "# Define a list of classes from 'walousmaj' that are not compliant \n",
    "# with INSPIRE and should be truncated of one level (e.g., '5_1_A' should become '5_1')\n",
    "cl_truncate = ['1_1_1_A','1_1_1_B','1_1_1_C',\n",
    "               '5_1_A','5_1_B','5_1_C','5_1_D',\n",
    "               '5_2_A','5_2_B','5_2_C','5_2_D',\n",
    "               '6_6_A','6_6_B']\n",
    "\n",
    "# Define a lookup table (list of tupples) for convertion of nature conservation labels from walousmaj \n",
    "# to INSPIRE HILUCS legend\n",
    "inspire_lookup = [('7','6_3'),('7_1','6_3_1'),('7_2','6_3_2')]\n",
    "\n",
    "# Define a list of Hilucs classes that should be removed if presence of sublevels\n",
    "# classes (more precise) classes in the array. E.g., is an array contains '4_1' and '4_1_1', the remaining \n",
    "# information will be only the most detailed classe which is '4_1_1'\n",
    "cl_remove = ['1','2','3','4','5','6','1_1','3_3','3_4','4_1','4_3','6_3']"
   ]
  },
  {
   "cell_type": "code",
   "execution_count": null,
   "metadata": {
    "scrolled": false
   },
   "outputs": [],
   "source": [
    "# Create connexion to postgres database\n",
    "con = create_pg_connexion(config_parameters)\n",
    "# Create column HilucsLanduse compliant with INSPIRE\n",
    "create_hilucs_landuse_1(con, result_table_schema='results', result_table_name=cusw_table,\n",
    "                        cl_truncate=cl_truncate, cl_lookup=inspire_lookup,\n",
    "                        colum_label=\"hilucslanduse_1\")\n",
    "# Close connexion to postgres database\n",
    "con.close()"
   ]
  },
  {
   "cell_type": "code",
   "execution_count": null,
   "metadata": {
    "scrolled": false
   },
   "outputs": [],
   "source": [
    "# Create connexion to postgres database\n",
    "con = create_pg_connexion(config_parameters)\n",
    "# Create column HilucsLanduse compliant with INSPIRE\n",
    "create_hilucs_landuse_2(con, result_table_schema='results', result_table_name=cusw_table, \n",
    "                        cl_ignore=cl_ignore, cl_truncate=cl_truncate, \n",
    "                        cl_lookup=inspire_lookup ,cl_remove=cl_remove, colum_label=\"hilucslanduse_2\")\n",
    "# Close connexion to postgres database\n",
    "con.close()"
   ]
  },
  {
   "cell_type": "code",
   "execution_count": null,
   "metadata": {},
   "outputs": [],
   "source": [
    "# Add index on specific columns\n",
    "con = create_pg_connexion(config_parameters)\n",
    "create_index(con, 'results', cusw_table, 'hilucslanduse_1')\n",
    "create_index(con, 'results', cusw_table, 'hilucslanduse_2')\n",
    "con.close()"
   ]
  },
  {
   "cell_type": "code",
   "execution_count": null,
   "metadata": {
    "scrolled": true
   },
   "outputs": [],
   "source": [
    "# Create connexion to postgres database\n",
    "con = create_pg_connexion(config_parameters)\n",
    "# Display header\n",
    "whereconditions = []\n",
    "whereconditions.append(\"Cardinality(hilucslanduse_2) >= 2\")\n",
    "df = display_header(con, 'results', cusw_table, where=' AND '.join(whereconditions), row_num=10)\n",
    "# Close connexion to postgres database\n",
    "con.close()\n",
    "# Display dataframe\n",
    "df"
   ]
  },
  {
   "cell_type": "code",
   "execution_count": null,
   "metadata": {
    "scrolled": true
   },
   "outputs": [],
   "source": [
    "# Create connexion to postgres database\n",
    "con = create_pg_connexion(config_parameters)\n",
    "# Display header\n",
    "whereconditions = []\n",
    "#whereconditions.append(\"walousmaj IN ('7','7_1','7_2')\")\n",
    "whereconditions.append(\"walousmaj is null\")\n",
    "#whereconditions.append(\"capakey IN ('85040B0191/00A000','85040B0167/00_000')\") #Parcels on which we debated during last SC about natural protected areas\n",
    "\n",
    "df = display_header(con, 'results', cusw_table, where=' AND '.join(whereconditions), row_num=10)\n",
    "# Close connexion to postgres database\n",
    "con.close()\n",
    "# Display dataframe\n",
    "df"
   ]
  },
  {
   "cell_type": "markdown",
   "metadata": {},
   "source": [
    "**Backup of table CUSW2018**"
   ]
  },
  {
   "cell_type": "code",
   "execution_count": null,
   "metadata": {
    "scrolled": true
   },
   "outputs": [],
   "source": [
    "# Create a back-up of a specific table\n",
    "dump_table(config_parameters['pg_host'],config_parameters['pg_dbname'],config_parameters['pg_user'],\n",
    "           config_parameters['pg_password'], 'results', cusw_table, data['backup_cusw_table'])"
   ]
  },
  {
   "cell_type": "markdown",
   "metadata": {},
   "source": [
    "**Backup of the whole database**"
   ]
  },
  {
   "cell_type": "code",
   "execution_count": null,
   "metadata": {},
   "outputs": [],
   "source": [
    "# Create a back-up of the whole database\n",
    "dump_db(config_parameters['pg_host'],config_parameters['pg_dbname'],config_parameters['pg_user'],\n",
    "           config_parameters['pg_password'], data['backup_db'])"
   ]
  },
  {
   "cell_type": "markdown",
   "metadata": {},
   "source": [
    "# Export from PostgreSQL"
   ]
  },
  {
   "cell_type": "markdown",
   "metadata": {},
   "source": [
    "## Export table Cusw2018 in EPSG:31370 (Belge 1972 / Belgian Lambert 72)"
   ]
  },
  {
   "cell_type": "code",
   "execution_count": null,
   "metadata": {},
   "outputs": [],
   "source": [
    "# Export the table as Shapefile\n",
    "query_export = \"SELECT geom, capakey, \\\n",
    "lc_mode, lc_prop_2, lc_prop_3, lc_prop_5, lc_prop_6, lc_prop_11, lc_prop_12, lc_prop_41, lc_prop_42, \\\n",
    "rulebased_leaf, postclas_rule, \\\n",
    "walousmaj, walousmaj_l1, walousmaj_l2, walousmaj_l3, walousmaj_l4,\\\n",
    "hilucslanduse_1, array_to_string(hilucslanduse_2,',') as hilucslanduse_2 FROM results.%s\"%cusw_table\n",
    "output_shape = \"/media/tais/data/WALOUS/Landuse/LU_Results/classif_lu/%s_31370.shp\"%cusw_table\n",
    "ogr2ogr_export(output_shape, config_parameters, query=query_export, verbose=False)"
   ]
  },
  {
   "cell_type": "code",
   "execution_count": null,
   "metadata": {},
   "outputs": [],
   "source": [
    "# Export the table as Geopackage\n",
    "query_export = \"SELECT geom, capakey, \\\n",
    "lc_mode, lc_prop_2, lc_prop_3, lc_prop_5, lc_prop_6, lc_prop_11, lc_prop_12, lc_prop_41, lc_prop_42, \\\n",
    "rulebased_leaf, postclas_rule, \\\n",
    "walousmaj, walousmaj_l1, walousmaj_l2, walousmaj_l3, walousmaj_l4,\\\n",
    "hilucslanduse_1, array_to_string(hilucslanduse_2,',') as hilucslanduse_2 FROM results.%s\"%cusw_table\n",
    "output_shape = \"/media/tais/data/WALOUS/Landuse/LU_Results/classif_lu/%s_31370.gpkg\"%cusw_table\n",
    "ogr2ogr_export(output_shape, config_parameters, query=query_export, verbose=False)"
   ]
  },
  {
   "cell_type": "markdown",
   "metadata": {},
   "source": [
    "## Export table Cusw2018 in EPSG:3812 (ETRS89 / Belgian Lambert 2008)"
   ]
  },
  {
   "cell_type": "code",
   "execution_count": null,
   "metadata": {},
   "outputs": [],
   "source": [
    "# Export the table as Shapefile\n",
    "query_export = \"SELECT ST_Transform(geom, 3812) as geom, capakey, \\\n",
    "lc_mode, lc_prop_2, lc_prop_3, lc_prop_5, lc_prop_6, lc_prop_11, lc_prop_12, lc_prop_41, lc_prop_42, \\\n",
    "rulebased_leaf, postclas_rule, \\\n",
    "walousmaj, walousmaj_l1, walousmaj_l2, walousmaj_l3, walousmaj_l4,\\\n",
    "hilucslanduse_1, array_to_string(hilucslanduse_2,',') as hilucslanduse_2 FROM results.%s\"%cusw_table\n",
    "output_shape = \"/media/tais/data/WALOUS/Landuse/LU_Results/classif_lu/%s_3812.shp\"%cusw_table\n",
    "ogr2ogr_export(output_shape, config_parameters, query=query_export, verbose=False)"
   ]
  },
  {
   "cell_type": "code",
   "execution_count": null,
   "metadata": {},
   "outputs": [],
   "source": [
    "# Export the table as Geopackage\n",
    "query_export = \"SELECT ST_Transform(geom, 3812) as geom, capakey, \\\n",
    "lc_mode,lc_prop_1,lc_prop_2,lc_prop_3,lc_prop_4,lc_prop_5,lc_prop_6,lc_prop_7,lc_prop_8,lc_prop_9,lc_prop_80,lc_prop_90, \\\n",
    "rulebased_leaf, postclas_rule, \\\n",
    "walousmaj, walousmaj_l1, walousmaj_l2, walousmaj_l3, walousmaj_l4,\\\n",
    "hilucslanduse_1, array_to_string(hilucslanduse_2,',') as hilucslanduse_2 FROM results.%s\"%cusw_table\n",
    "output_shape = \"/media/tais/data/WALOUS/Landuse/LU_Results/classif_lu/%s_3812.gpkg\"%cusw_table\n",
    "ogr2ogr_export(output_shape, config_parameters, query=query_export, verbose=False)"
   ]
  },
  {
   "cell_type": "code",
   "execution_count": null,
   "metadata": {},
   "outputs": [],
   "source": []
  }
 ],
 "metadata": {
  "kernelspec": {
   "display_name": "Python 3",
   "language": "python",
   "name": "python3"
  },
  "language_info": {
   "codemirror_mode": {
    "name": "ipython",
    "version": 3
   },
   "file_extension": ".py",
   "mimetype": "text/x-python",
   "name": "python",
   "nbconvert_exporter": "python",
   "pygments_lexer": "ipython3",
   "version": "3.6.10"
  }
 },
 "nbformat": 4,
 "nbformat_minor": 2
}
