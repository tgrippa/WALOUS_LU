{
 "cells": [
  {
   "cell_type": "markdown",
   "metadata": {},
   "source": [
    "<p><strong><font size=\"6\">WalOUS project</font></strong></p>\n",
    "\n",
    "<p><strong><font size=\"6\">C_2_Classification_Rule_based</font></strong></p>"
   ]
  },
  {
   "cell_type": "markdown",
   "metadata": {},
   "source": [
    "WALOUS_UTS - Copyright (C) <2020> <Université catholique de Louvain (UCLouvain), Belgique;\n",
    "\t\t\t\t\t Université Libre de Bruxelles (ULB), Belgique;\n",
    "\t\t\t\t\t Institut Scientifique de Service Public (ISSeP), Belgique;\n",
    "\t\t\t\t\t Service Public de Wallonie (SWP), Belgique >\n",
    "\t\t\t\t\t\t \t\t\t\t\t\t\t\n",
    "\t\n",
    "List of the contributors to the development of WALOUS_UTS: see LICENSE file.\n",
    "\n",
    "\n",
    "Description and complete License: see LICENSE file.\n",
    "\t\n",
    "This program (WALOUS_UTS) is free software:\n",
    "you can redistribute it and/or modify it under the terms of the\n",
    "GNU General Public License as published by the Free Software\n",
    "Foundation, either version 3 of the License, or (at your option)\n",
    "any later version.\n",
    "\n",
    "This program is distributed in the hope that it will be useful,\n",
    "but WITHOUT ANY WARRANTY; without even the implied warranty of\n",
    "MERCHANTABILITY or FITNESS FOR A PARTICULAR PURPOSE.  See the\n",
    "GNU General Public License for more details.\n",
    "\n",
    "You should have received a copy of the GNU General Public License\n",
    "along with this program (see COPYING file).  If not,\n",
    "see <http://www.gnu.org/licenses/>."
   ]
  },
  {
   "cell_type": "markdown",
   "metadata": {},
   "source": [
    "-------\n",
    "Jupyter Notebook containing the preprocessing steps consisting of: \n",
    "- Defining the order for the hierarchical rules for the classification.\n",
    "- Performing the rule-based classification. "
   ]
  },
  {
   "cell_type": "markdown",
   "metadata": {},
   "source": [
    "# Table of Contents"
   ]
  },
  {
   "cell_type": "markdown",
   "metadata": {},
   "source": [
    "<div id=\"toc\"></div>"
   ]
  },
  {
   "cell_type": "markdown",
   "metadata": {},
   "source": [
    "The following cell is a Javascript section of code for building the Jupyter notebook's table of content."
   ]
  },
  {
   "cell_type": "code",
   "execution_count": null,
   "metadata": {},
   "outputs": [],
   "source": [
    "%%javascript\n",
    "$.getScript('https://kmahelona.github.io/ipython_notebook_goodies/ipython_notebook_toc.js')"
   ]
  },
  {
   "cell_type": "markdown",
   "metadata": {},
   "source": [
    "# Define working environment"
   ]
  },
  {
   "cell_type": "markdown",
   "metadata": {},
   "source": [
    "**Import libraries**"
   ]
  },
  {
   "cell_type": "code",
   "execution_count": null,
   "metadata": {},
   "outputs": [],
   "source": [
    "# Import libraries needed for setting parameters of operating system \n",
    "import os\n",
    "import sys"
   ]
  },
  {
   "cell_type": "markdown",
   "metadata": {},
   "source": [
    "**Add folder with SCR provided belong to this notebook**"
   ]
  },
  {
   "cell_type": "code",
   "execution_count": null,
   "metadata": {},
   "outputs": [],
   "source": [
    "# Add local module to the path\n",
    "src = os.path.abspath('../SRC')\n",
    "if src not in sys.path:\n",
    "    sys.path.append(src)"
   ]
  },
  {
   "cell_type": "markdown",
   "metadata": {},
   "source": [
    "**Setup environment variables**"
   ]
  },
  {
   "cell_type": "markdown",
   "metadata": {},
   "source": [
    "Please edit the file in `../SRC/config.py`, containing the configuration parameters, according to your own computer setup. The following cell is used to run this file.\n",
    "\n"
   ]
  },
  {
   "cell_type": "code",
   "execution_count": null,
   "metadata": {
    "scrolled": true
   },
   "outputs": [],
   "source": [
    "run ../SRC/config.py"
   ]
  },
  {
   "cell_type": "code",
   "execution_count": null,
   "metadata": {},
   "outputs": [],
   "source": [
    "# Import functions that setup the environmental variables\n",
    "import environ_variables as envi"
   ]
  },
  {
   "cell_type": "code",
   "execution_count": null,
   "metadata": {
    "scrolled": true
   },
   "outputs": [],
   "source": [
    "# Set environmental variables\n",
    "envi.setup_environmental_variables() \n",
    "# Display current environment variables of your computer\n",
    "envi.print_environmental_variables()"
   ]
  },
  {
   "cell_type": "markdown",
   "metadata": {},
   "source": [
    "**Other functions**"
   ]
  },
  {
   "cell_type": "code",
   "execution_count": null,
   "metadata": {},
   "outputs": [],
   "source": [
    "# Import functions for processing time information\n",
    "from processing_time import start_processing, print_processing_time\n",
    "# Import function that check and create folder\n",
    "from mkdir import check_create_dir"
   ]
  },
  {
   "cell_type": "markdown",
   "metadata": {},
   "source": [
    "**Custom functions: Psycopg2 and Postgresql functions**"
   ]
  },
  {
   "cell_type": "code",
   "execution_count": null,
   "metadata": {},
   "outputs": [],
   "source": [
    "# Import function that display postgresql's table header\n",
    "from display_header import display_header\n",
    "# Import function to creation connection to Postgresql database \n",
    "from postgres_functions import create_pg_connexion\n",
    "# Import function to create index\n",
    "from postgres_functions import create_index"
   ]
  },
  {
   "cell_type": "code",
   "execution_count": null,
   "metadata": {
    "scrolled": true
   },
   "outputs": [],
   "source": [
    "# Import function to create generate decision-tree query and produce result table\n",
    "from postgres_classification import decision_tree_classification"
   ]
  },
  {
   "cell_type": "code",
   "execution_count": null,
   "metadata": {
    "scrolled": true
   },
   "outputs": [],
   "source": [
    "# Import function to export postgis table as shapefile or geopackage\n",
    "from postgres_export import ogr2ogr_export"
   ]
  },
  {
   "cell_type": "code",
   "execution_count": null,
   "metadata": {},
   "outputs": [],
   "source": [
    "# Import functions for creation of postgresql back-up and restoration\n",
    "from dump_functions import dump_table, dump_db, restore_psql"
   ]
  },
  {
   "cell_type": "markdown",
   "metadata": {},
   "source": [
    "# Classification of land use using decision-tree"
   ]
  },
  {
   "cell_type": "markdown",
   "metadata": {},
   "source": [
    "## Define list of nested rules for walous_maj"
   ]
  },
  {
   "cell_type": "code",
   "execution_count": null,
   "metadata": {},
   "outputs": [],
   "source": [
    "# L'ensemble des règles de classification sont appliqués de haut en bas. Si la condition d'une règle \n",
    "# supérieure est rencontrée pour une parcelle donnée, elle se voit attribuer sa classe par cette règle. \n",
    "# Exemple 1 : Une parcelle cadastrale classée à la règle 1 ne sera plus impactée par les règles sous-jacentes. \n",
    "# Exemple 2 : Une parcelle classée à la règle 18 n'aura remplis aucune des conditions des règles précédentes.\n",
    "list_rules = []\n",
    "\n",
    "# 1 - Si la parcelle cadastrale n'est caractérisée par aucune base de données, \n",
    "# attribuer la classe \"usage inconnu cadastré\"\n",
    "list_rules.append((\"all_hilucs is NULL\",\"'6_6_A'\"))\n",
    "\n",
    "# 2 - Si la parcelle cadastrale est caractérisée par un et un seul élément de valeur '8_8', indiquant que \n",
    "# l'utilisation est incertaine selon la table de correspondance de la 'Nature cadastrale' vers HILUCS, \n",
    "# attribuer la classe \"usage inconnu cadastré\"\n",
    "list_rules.append((\"Cardinality(all_hilucs) = 1 AND all_hilucs[1] = '8_8'\",\"'6_6_A'\"))\n",
    "\n",
    "# 3 - Si la parcelle cadastrale est caractérisée par un et un seul élément, attribuer la classe correspondante\n",
    "list_rules.append((\"Cardinality(all_hilucs) = 1\",\"all_hilucs[1]\"))\n",
    "\n",
    "# 4 - Si la parcelle cadastrale est caractérisée par au moins deux bases de données fournissant toutes \n",
    "# la même classe, attribuer la classe correspondante\n",
    "list_rules.append((\"agreement_all_hilucs = True\",\"all_hilucs[1]\"))\n",
    "\n",
    "# 5 - Si la parcelle cadastrale est caractérisée par exactement deux bases de données attribuant toutes \n",
    "# les deux la classe 'usage résidentiel' ('5') au niveau 1 de HILUCS, et pour laquelle le cadastre \n",
    "# précise qu'il s'agit d'un 'usage résidentiel permanent', attribuer cette classe\n",
    "list_rules.append((\"Cardinality(all_hilucs) = 2 AND agreement_l1_hilucs = True AND l2_hilucs[1] = '5_1'\",\n",
    "                   \"l2_hilucs[1]\"))\n",
    "\n",
    "# 6 - Si la parcelle cadastrale est caractérisée par plus d'une base de données, que l'ensemble des bases \n",
    "# de données sont en accord au niveau 2 de HILUCS et qu'une seule base de données fournis une \n",
    "# information au niveau 3 de HILUCS, attribuer cette classe\n",
    "list_rules.append((\"Cardinality(all_hilucs) > 1 AND agreement_l2_hilucs = True AND Cardinality(l3_hilucs) = 1\",\n",
    "                   \"l3_hilucs[1]\"))\n",
    "\n",
    "# 7 - Si la parcelle cadastrale est caractérisée par la présence d'un recypark, attribuer la classe \n",
    "# 'traitement des déchets'\n",
    "list_rules.append((\"recypark_count is NOT NULL\",\"'4_3_3'\")) \n",
    "\n",
    "# 8 - Si la parcelle cadastrale est caractérisée par un recouvrement de plus de 50% d'une activité de \n",
    "# type 'aéroportuaire' au sens de l'IGN, attribuer la classe 'transport aérien'\n",
    "list_rules.append((\"aeroport_coverage > 0.5\",\"'4_1_3'\")) \n",
    "\n",
    "# 9 à 14 - Si la parcelle cadastrale est caractérisée par un recouvrement de plus de 50% d'une activité \n",
    "# 'seveso' et qu'une des BD fourni un niveau thématique plus détaillé que 'production secondaire' (2), \n",
    "# alors attribuer ce niveau, sinon, attribuer la classe 'production secondaire'\n",
    "list_rules.append((\"seveso_coverage > 0.5 AND '2_1' = ANY(all_hilucs)\",\"'2_1'\")) \n",
    "list_rules.append((\"seveso_coverage > 0.5 AND '2_2' = ANY(all_hilucs)\",\"'2_2'\")) \n",
    "list_rules.append((\"seveso_coverage > 0.5 AND '2_3' = ANY(all_hilucs)\",\"'2_3'\")) \n",
    "list_rules.append((\"seveso_coverage > 0.5 AND '2_4' = ANY(all_hilucs)\",\"'2_4'\")) \n",
    "list_rules.append((\"seveso_coverage > 0.5 AND '2_5' = ANY(all_hilucs)\",\"'2_5'\")) \n",
    "list_rules.append((\"seveso_coverage > 0.5\",\"'2'\")) \n",
    "\n",
    "# 15 - Si la parcelle cadastrale est caractérisée par un recouvrement de plus de 50% d'une activité de \n",
    "# type 'établissements scolaires', attribuer la classe 'services d'enseignement' \n",
    "list_rules.append((\"schools_coverage > 0.5\",\"'3_3_2'\"))\n",
    "\n",
    "# 16 - Si la parcelle cadastrale est caractérisée par la présence d'un établissement pour ainés, attribuer \n",
    "# la classe 'usage résidentiel permanent'\n",
    "list_rules.append((\"etab_aines_count is NOT NULL\",\"'3_3_3'\")) \n",
    "\n",
    "# 17 - Si la parcelle cadastrale est caractérisée par un recouvrement de plus de 50% par une zone reprise dans\n",
    "# les couches \"réserve naturelle agréée\", \"réserve naturelle domaniale\" ou \"Zones militaires\"\n",
    "# (pour les zones \"Camp Roi Albert\", \"Camp Elsenborn Lager\" ou \"Camp Lagland\"), attribuer la classe\n",
    "# 'zones naturelles'\n",
    "list_rules.append((\"nature_conservation_7_coverage > 0.5\",\"'7'\")) \n",
    "\n",
    "# 18 - Si la parcelle cadastrale est caractérisée par un recouvrement de plus de 50% par une zone reprise dans\n",
    "# les couches \"zone humide d'intérêt biologique (ZHIB)\" ou \"réserve forestière\", attribuer la classe\n",
    "# 'zones naturelles terrestres'\n",
    "list_rules.append((\"nature_conservation_71_coverage > 0.5\",\"'7_1'\")) \n",
    "\n",
    "# 19 - Si la parcelle cadastrale est caractérisée par un recouvrement de plus de 50% d'une \n",
    "# activité de type 'camping', attribuer la classe 'services commerciaux'\n",
    "list_rules.append((\"camping_coverage > 0.5\",\"'3_1'\"))\n",
    "\n",
    "# 20 - Si la parcelle cadastrale est caractérisée par un recouvrement de plus de 50% \n",
    "# d'une activité de type 'parc de loisir' au sens de l'IGN, attribuer la classe 'services de loisirs' \n",
    "list_rules.append((\"parc_lois_coverage > 0.5\",\"'3_4_2'\"))\n",
    "\n",
    "# 21 - Si la parcelle cadastrale est caractérisée par un recouvrement de plus de 50% \n",
    "# d'une activité de type 'parc animalier au sens de l'IGN, attribuer la classe 'services culturels'\n",
    "list_rules.append((\"parc_anim_coverage > 0.5\",\"'3_4_1'\"))\n",
    "\n",
    "# 22 - Si la parcelle cadastrale est caractérisée par un recouvrement de plus de 50% \n",
    "# d'une activité de type 'terrain de sport' au sens de l'IGN, attribuer la classe 'infrastructures sportives'\n",
    "list_rules.append((\"ter_sport_coverage > 0.5\",\"'3_4_3'\"))\n",
    "\n",
    "# 23 - Si la parcelle cadastrale est caractérisée par une population supérieure à 0 via le RNPP, par \n",
    "# la présence d'infrastructure agricole dans n'importe quelle autre base de données, attribuer \n",
    "# la classe 'infrastructure agricole'. Correspond à la définition des logements agricoles au \n",
    "# sens de la classe '1_1_2' HILUCS. \n",
    "list_rules.append((\"ms_populat_tot > 0 AND '1_1_2' = ANY(all_hilucs)\",\"'1_1_2'\"))\n",
    "\n",
    "# 24 - Si la parcelle cadastrale est caractérisée par une population supérieure à 0 via le RNPP, par \n",
    "# la présence d'une activité  au sens de DBRIS jugée compatible avec 'usage résidentiel' (exclusion \n",
    "# des classes 'industrie des matières premières', 'industrie lourde', 'production d'énergie' \n",
    "# et 'services d'enseignement', attribuer la classe 'usage résidentiel avec d'autres usages compatibles'. \n",
    "# L'exclusion des 'services d'enseignement' au sens de DBRIS qui peuvent être jugés compatible \n",
    "# avec 'usage résidentiel' est intégrée à ce niveau afin de palier à une série d'erreurs de classification \n",
    "# observées lors du contrôle de qualité (e.g. habitation du concierge, imprécision géométrique des bases \n",
    "# de données...)\n",
    "list_rules.append((\"ms_populat_tot > 0 AND Cardinality(dbris_rank) = 1 AND dbris_maj NOT \\\n",
    "IN ('2_1', '2_2', '2_4', '3_3_2')\",\"'5_2'\"))\n",
    "\n",
    "# 25 - Si l’ensemble des activités dbris rencontrées sont compatibles avec du 'usage résidentiel', \n",
    "# attribuer la classe 'usage résidentiel avec d'autres usages compatibles'\n",
    "list_rules.append((\"ms_populat_tot > 0 AND Cardinality(dbris_rank) > 1 AND NOT '2_1' = ANY(dbris_rank) \\\n",
    "AND NOT '2_2' = ANY(dbris_rank) AND NOT '2_4' = ANY(dbris_rank) AND NOT '3_3_2' = ANY(dbris_rank)\",\"'5_2'\"))\n",
    "\n",
    "# 26 - Si la parcelle cadastrale est caractérisée par un recouvrement d'au moins 50% par la données \n",
    "# 'camping\" et que DBRIS précise la classe 'services culturels, services de loisirs et services récréatifs',\n",
    "# attribuer la valeur 'services commerciaux'. Cette règle est intégrée pour palier à la définition \n",
    "# trop large des éléments repris en classe '3_4' selon la table de correspondance DBRIS\n",
    "list_rules.append((\"camping_coverage > 0.5 AND dbris_maj = '3_4'\",\"'3_1'\"))\n",
    "\n",
    "# 27 - Si la parcelle cadastrale est caractérisée par une population nulle et possède une classe au \n",
    "# sein de DBRIS, attribuer cette classe\n",
    "list_rules.append((\"ms_populat_tot is NULL AND dbris_maj is NOT NULL\",\"dbris_maj\")) \n",
    "\n",
    "# 28 - Si la parcelle cadastrale est caractérisée par une population supérieure à 0 et que sa superficie est \n",
    "# inférieure à 5000 m², attribuer la classe 'usage résidentiel permanent'\n",
    "list_rules.append((\"ms_populat_tot > 0 AND ST_AREA(geom) < 5000\",\"'5_1'\")) \n",
    "\n",
    "# 29 - Si la parcelle cadastrale est caractérisée par la présence d'une éolienne et que sa superficie est \n",
    "# inférieure à 5000 m², attribuer la classe 'production d'énergie'. La condition sur la taille est indispensable\n",
    "# ici pour éviter de classer de grande parcelles agricoles avec une éolienne qui n'est pas cadastrée séparément.\n",
    "list_rules.append((\"eoliennes_count is NOT NULL AND ST_AREA(geom) < 5000\",\"'2_4'\")) \n",
    "\n",
    "# 30 - Si la parcelle cadastrale est caractérisée par un recouvrement de plus de 50% \n",
    "# d'une activité de type 'carrière' au sens de l'IGN, attribuer la classe 'industries extractives'\n",
    "list_rules.append((\"carrier_ign_coverage > 0.5\",\"'1_3'\")) \n",
    "\n",
    "# 31 - Si la parcelle cadastrale est caractérisée par la présence d'une 'carrière' au sens de \n",
    "# l'inventaire du SPW, attribuer la classe 'industries extractives'\n",
    "list_rules.append((\"carrier_spw_count is NOT NULL\",\"'1_3'\"))  \n",
    "\n",
    "# 32 - Si la parcelle cadastrale est caractérisée par un recouvrement de plus de 50% \n",
    "# d'une activité de type 'SAR', attribuer la classe 'zones abandonnées'\n",
    "list_rules.append((\"sar_coverage > 0.5\",\"'6_2'\")) \n",
    "\n",
    "# 33 - Si la parcelle cadastrale est caractérisée par un recouvrement de plus de 50% \n",
    "# d'une \"plantations de sapins de Noël proprement dites\" au sens de l'information du SPW, \n",
    "# attribuer la classe 'sapin de Noël'\n",
    "list_rules.append((\"sapin_noel_prop_1_1_1_C > 0.5\",\"'1_1_1_C'\")) \n",
    "\n",
    "# 34 - Si la parcelle cadastrale est caractérisée par un recouvrement de plus de 50% \n",
    "# d'une \"production de plants\" ou de \"pépinières et cultures horticoles non comestibles\" \n",
    "# au sens de l'information du SPW, attribuer la classe 'sylviculture'\n",
    "list_rules.append((\"sapin_noel_prop_1_2 > 0.5\",\"'1_2'\"))\n",
    "\n",
    "# 35 - Si la parcelle cadastrale est caractérisée par un recouvrement de plus de 50% \n",
    "# d'une activité de type 'terre arable' au sens du SIGEC, attribuer la classe 'terre arable'\n",
    "list_rules.append((\"sigec_ta_coverage > 0.5\",\"'1_1_1_B'\")) \n",
    "\n",
    "# 36 - Si la parcelle cadastrale est caractérisée par un recouvrement de plus de 50% \n",
    "# d'une activité de type 'prairie' au sens du SIGEC, attribuer la classe 'prairie'\n",
    "list_rules.append((\"sigec_p_coverage > 0.5\",\"'1_1_1_A'\")) \n",
    "\n",
    "# 37 - Si la parcelle cadastrale est caractérisée par un recouvrement de plus de 50% \n",
    "# d'une activité de type 'terre arable' + 'prairie' au sens du SIGEC, attribuer la \n",
    "# classe 'production agricole commerciale' \n",
    "list_rules.append((\"sigec_ta_coverage + sigec_p_coverage > 0.5\",\"'1_1_1'\")) \n",
    "\n",
    "# 38 - Si la parcelle cadastrale est caractérisée par un recouvrement de plus de 50% \n",
    "# d'une activité de type 'foresterie', attribuer la classe 'sylviculture'\n",
    "list_rules.append((\"forestry_public_coverage > 0.5\",\"'1_2'\"))\n",
    "\n",
    "# 39 - Si la parcelle cadastrale est caractérisée par la présence d'une éolienne, attribuer la classe \n",
    "# 'production d'énergies'. Cette règle vise les parcelles les parcelles de plus de 5000m2 avec un point éolienne, \n",
    "# mais n'ayant pas été classées comme surface agricoles dans les règles précédentes. \n",
    "list_rules.append((\"eoliennes_count is NOT NULL\",\"'2_4'\"))\n",
    "\n",
    "# 40 - Si la parcelle cadastrale est caractérisée par une population supérieure à 0, attribuer \n",
    "# la classe 'usage résidentiel permanent'\n",
    "list_rules.append((\"ms_populat_tot > 0\",\"'5_1'\")) \n",
    "\n",
    "# 41 - Si la parcelle cadastrale est caractérisée par un recouvrement de plus de 50% \n",
    "# d'une activité de type 'éolienne' au sens du PICC, attribuer la classe 'production d'énergie'\n",
    "list_rules.append((\"picc_surface_prop_2_4 > 0.5\",\"'2_4'\")) \n",
    "\n",
    "# 42 - Si la parcelle cadastrale est caractérisée par un recouvrement de plus de 50% \n",
    "# d'une activité de type 'camping' au sens du PICC, attribuer la classe 'services commerciaux' \n",
    "list_rules.append((\"picc_surface_prop_3_1 > 0.5\",\"'3_1'\")) \n",
    "\n",
    "# 43 - Si la parcelle cadastrale est caractérisée par un recouvrement de plus de 50% \n",
    "# d'une activité de type 'terrain de sport' au sens du PICC, attribuer la classe 'infrastructures sportives' \n",
    "list_rules.append((\"picc_surface_prop_3_3_5 > 0.5\",\"'3_3_5'\")) \n",
    "\n",
    "# 44 - Si la parcelle cadastrale est caractérisée par un recouvrement de plus de 50% \n",
    "# d'une activité de type 'terrain de sport' au sens du PICC, attribuer la classe 'infrastructures sportives' \n",
    "list_rules.append((\"picc_surface_prop_3_4_3 > 0.5\",\"'3_4_3'\")) \n",
    "\n",
    "# 45 - Si la parcelle cadastrale est caractérisée par un recouvrement de plus de 50% \n",
    "# d'une activité de type 'parc récréatif' au sens du PICC, attribuer la classe 'zones récréatives en plein air' \n",
    "list_rules.append((\"picc_surface_prop_3_4_4 > 0.5\",\"'3_4_4'\")) \n",
    "\n",
    "# 46 - Si la parcelle cadastrale est caractérisée par un recouvrement de plus de 50% \n",
    "# d'une activité de type 'station électrique' au sens du PICC, attribuer la classe \n",
    "# 'services de distribution d'électricité, de gaz et d'énergie thermique'\n",
    "list_rules.append((\"picc_surface_prop_4_3_1 > 0.5\",\"'4_3_1'\")) \n",
    "\n",
    "# 47 - Si la parcelle cadastrale est caractérisée par un recouvrement de plus de 50% \n",
    "# d'une activité de type 'station d'épuration' au sens du PICC, attribuer la classe \n",
    "# 'infrastructures pour la distribution d'eau et l'assainissement'\n",
    "list_rules.append((\"picc_surface_prop_4_3_2 > 0.5\",\"'4_3_2'\")) \n",
    "\n",
    "# 48 - Si la parcelle cadastrale est caractérisée par un recouvrement de plus de 50% \n",
    "# d'une activité de type 'parc à conteneurs' au sens du PICC, attribuer la classe \n",
    "# 'traitement des déchets'\n",
    "list_rules.append((\"picc_surface_prop_4_3_3 > 0.5\",\"'4_3_3'\")) \n",
    "\n",
    "# 49 - Si la parcelle cadastrale est caractérisée par la présence d'une activité de type \n",
    "# 'agricole' au sens du PICC, attribuer la classe 'infrastructures agricoles'\n",
    "list_rules.append((\"picc_symbology_count_1_1_2 is NOT NULL\",\"'1_1_2'\")) \n",
    "\n",
    "# 50 - Si la parcelle cadastrale est caractérisée par la présence d'une activité de type 'police', \n",
    "# 'pompier', 'prison', 'maison communale' ou 'administration' au sens du PICC, attribuer \n",
    "# la classe 'services d'administration publique, de défense et de sécurité sociale'\n",
    "list_rules.append((\"picc_symbology_count_3_3_1 is NOT NULL\",\"'3_3_1'\")) \n",
    "\n",
    "# 51 - Si la parcelle cadastrale est caractérisée par la présence d'une activité de type 'scolaire', \n",
    "# 'scolaire fondamental', 'scolaire secondaire' ou scolaire supérieur' au sens du PICC, \n",
    "# attribuer la classe 'services d'enseignements'. Cette règle reste pertinente pour complémenter l'inventaire \n",
    "# des établissements scolaires au niveau du supérieur essentiellement\n",
    "list_rules.append((\"picc_symbology_count_3_3_2 is NOT NULL\",\"'3_3_2'\")) \n",
    "\n",
    "# 52 - Si la parcelle cadastrale est caractérisée par la présence d'une activité de type \n",
    "# 'hôpital' ou 'maison de repos' au sens du PICC, attribuer la classe 'services de santé et d'action sociale'\n",
    "list_rules.append((\"picc_symbology_count_3_3_3 is NOT NULL\",\"'3_3_3'\")) \n",
    "\n",
    "# 53 - Si la parcelle cadastrale est caractérisée par la présence d'une activité de type \n",
    "# 'lieu de culte' au sens du PICC, attribuer la classe 'services religieux'\n",
    "list_rules.append((\"picc_symbology_count_3_3_4 is NOT NULL\",\"'3_3_4'\")) \n",
    "\n",
    "# 54 - Si la parcelle cadastrale est caractérisée par la présence d'une activité de type \n",
    "# 'culture, sport ou loisir' au sens du PICC, attribuer la classe 'services culturels, \n",
    "# services de loisirs et services récréatifs'\n",
    "list_rules.append((\"picc_symbology_count_3_4 is NOT NULL\",\"'3_4'\")) \n",
    "\n",
    "# 55 - Si la parcelle cadastrale est caractérisée par la présence d'une activité de type 'station-service' \n",
    "# au sens du PICC, attribuer la classe 'transport routier'\n",
    "list_rules.append((\"picc_symbology_count_4_1_1 is NOT NULL\",\"'4_1_1'\")) \n",
    "\n",
    "# 56 - Si la parcelle cadastrale est caractérisée par la présence d'une activité de type 'gare' \n",
    "# au sens du PICC, attribuer la classe 'transport ferroviaire'\n",
    "list_rules.append((\"picc_symbology_count_4_1_2 is NOT NULL\",\"'4_1_2'\")) \n",
    "\n",
    "# 57 - Si la parcelle cadastrale est caractérisée par la présence d'une activité de type 'éolienne'\n",
    "# au sens du PICC, attribuer la classe 'production d'énergie'\n",
    "list_rules.append((\"picc_symbology_count_2_4 is NOT NULL\",\"'2_4'\")) \n",
    "\n",
    "# 58 - Si la parcelle cadastrale est caractérisée par la présence d'une activité de type 'château d'eau' \n",
    "# ou 'station d'épuration' au sens du PICC, attribuer la classe 'infrastructures pour la \n",
    "# distribution de l'eau et l'assainissement'\n",
    "list_rules.append((\"picc_symbology_count_4_3_2 is NOT NULL\",\"'4_3_2'\")) \n",
    "\n",
    "# 59 - Si la parcelle cadastrale est caractérisée par une nature cadastrale de type 'sylviculture', \n",
    "# attribuer la classe 'sylviculture'. On fait l'hypothèse que si la nature cadastrale indique une activité\n",
    "# de sylviculture, la parcelle doit être classé comme telle sans être classé en zone naturelle à la règle suivante.\n",
    "list_rules.append((\"nat_lu_maj = '1_2'\",\"'1_2'\")) \n",
    "\n",
    "# 60 - Si la parcelle cadastrale est caractérisée par un recouvrement de plus de 50% par une zone Natura2000, \n",
    "# attribuer la classe 'zones naturelles'\n",
    "list_rules.append((\"nature_conservation_n2000_coverage > 0.5\",\"'7'\")) \n",
    "\n",
    "# 61 - Si la parcelle cadastrale est caractérisée par des 'prairies' ou des 'terres arables' à moins de \n",
    "# 50% de la surface et par une nature cadastrale differente de '8_8', attribuer la classe \n",
    "# correspondante au sens de la nature cadastrale\n",
    "list_rules.append((\"(sigec_p_coverage < 0.5 OR sigec_ta_coverage < 0.5) AND \\\n",
    "nat_lu_maj is NOT NULL AND nat_lu_maj != '8_8'\",\"nat_lu_maj\")) \n",
    "\n",
    "# 62 - L'ensemble des parcelles non classées se voient attribuer la valeur 'usage inconnu cadastré' (6_6_A).\n",
    "# Pour ces parcelles, nous ne disposons pas de suffisamment d'information que pour définir une \n",
    "# utilisation du sol principale."
   ]
  },
  {
   "cell_type": "markdown",
   "metadata": {},
   "source": [
    "## Create table with results"
   ]
  },
  {
   "cell_type": "code",
   "execution_count": null,
   "metadata": {},
   "outputs": [],
   "source": [
    "# Name of table with classification results\n",
    "classif_table = 'classification_results'"
   ]
  },
  {
   "cell_type": "code",
   "execution_count": null,
   "metadata": {
    "scrolled": false
   },
   "outputs": [],
   "source": [
    "# Create connexion to postgres database\n",
    "con = create_pg_connexion(config_parameters)\n",
    "# Create table with results\n",
    "decision_tree_classification(con, result_table_schema='results', result_table_name=classif_table, \n",
    "                           stats_table_schema='results', stats_table_name='capa_statistics_wall_a', \n",
    "                           list_rules=list_rules, colum_label=\"walousmaj\", colum_leaf=\"rulebased_leaf\",\n",
    "                           grant_user=['tais','bbeaumont'])\n",
    "# Close connexion to postgres database\n",
    "con.close()"
   ]
  },
  {
   "cell_type": "markdown",
   "metadata": {},
   "source": [
    "**Add index on capakey**"
   ]
  },
  {
   "cell_type": "code",
   "execution_count": null,
   "metadata": {},
   "outputs": [],
   "source": [
    "# Add index on 'capakey'\n",
    "con = create_pg_connexion(config_parameters)\n",
    "create_index(con, 'results', classif_table, 'capakey')\n",
    "create_index(con, 'results', classif_table, 'geom', is_geom=True)\n",
    "create_index(con, 'results', classif_table, 'walousmaj')\n",
    "con.close()"
   ]
  },
  {
   "cell_type": "markdown",
   "metadata": {},
   "source": [
    "## Display"
   ]
  },
  {
   "cell_type": "code",
   "execution_count": null,
   "metadata": {
    "scrolled": true
   },
   "outputs": [],
   "source": [
    "# Create connexion to postgres database\n",
    "con = create_pg_connexion(config_parameters)\n",
    "# Display header\n",
    "whereconditions = []\n",
    "#whereconditions.append(\"nat_lu_maj IS NOT NULL\")\n",
    "#whereconditions.append(\"dbris_maj IS NOT NULL\")\n",
    "#whereconditions.append(\"ms_populat_tot IS NOT NULL\")\n",
    "#whereconditions.append(\"lc_prop_11 IS NOT NULL\")\n",
    "#whereconditions.append(\"camping_area IS NOT NULL\")\n",
    "#whereconditions.append(\"ter_sport_area IS NOT NULL\")\n",
    "#whereconditions.append(\"sapin_noel_prop_1_2 IS NOT NULL\")\n",
    "whereconditions.append(\"capakey IN ('85040B0191/00A000','85040B0167/00_000')\") #Parcels on which we debated during last SC about natural protected areas\n",
    "\n",
    "df = display_header(con, 'results', classif_table, where=' AND '.join(whereconditions), row_num=15)\n",
    "# Close connexion to postgres database\n",
    "con.close()\n",
    "# Display dataframe\n",
    "df"
   ]
  },
  {
   "cell_type": "markdown",
   "metadata": {},
   "source": [
    "## Backup of Postgresql data"
   ]
  },
  {
   "cell_type": "markdown",
   "metadata": {},
   "source": [
    "**Backup of table with classification results**"
   ]
  },
  {
   "cell_type": "code",
   "execution_count": null,
   "metadata": {
    "scrolled": true
   },
   "outputs": [],
   "source": [
    "# Create a back-up of a specific table\n",
    "dump_table(config_parameters['pg_host'],config_parameters['pg_dbname'],config_parameters['pg_user'],\n",
    "           config_parameters['pg_password'], 'results', classif_table, data['backup_classif_table'])"
   ]
  },
  {
   "cell_type": "markdown",
   "metadata": {},
   "source": [
    "**Backup of the whole database**"
   ]
  },
  {
   "cell_type": "code",
   "execution_count": null,
   "metadata": {},
   "outputs": [],
   "source": [
    "# Create a back-up of the whole database\n",
    "dump_db(config_parameters['pg_host'],config_parameters['pg_dbname'],config_parameters['pg_user'],\n",
    "           config_parameters['pg_password'], data['backup_db'])"
   ]
  },
  {
   "cell_type": "markdown",
   "metadata": {},
   "source": [
    "## Restore Postgresql data"
   ]
  },
  {
   "cell_type": "markdown",
   "metadata": {},
   "source": [
    "**Restore table with classification results**"
   ]
  },
  {
   "cell_type": "markdown",
   "metadata": {},
   "source": [
    "Be carefull that, by default, the restoration will overwrite existing database object if they already exists. The overwrite parameter can be used to revert this behaviour."
   ]
  },
  {
   "cell_type": "raw",
   "metadata": {},
   "source": [
    "# Restore a specific table\n",
    "restore_psql(config_parameters['pg_host'],config_parameters['pg_dbname'],config_parameters['pg_user'],\n",
    "           config_parameters['pg_password'], data['backup_classif_table'], overwrite=True)"
   ]
  },
  {
   "cell_type": "markdown",
   "metadata": {},
   "source": [
    "## Export table with key columns for pre-agreement of Statbel for publication"
   ]
  },
  {
   "cell_type": "code",
   "execution_count": null,
   "metadata": {},
   "outputs": [],
   "source": [
    "# Export the classification results\n",
    "query_export = \"SELECT t.geom, t.capakey, t.dbris_maj, t.dbris_maj_share, t.dbris_count_etab, \\\n",
    "array_to_string(t.dbris_rank,',') as dbris_rank, t.ms_populat_tot, t.rnpp_200m_mode, \\\n",
    "t.walousmaj, array_to_string(x.hilucslanduse_2,',') as hilucslanduse_2 \\\n",
    "FROM results.classification_results AS t \\\n",
    "JOIN results.cusw2018 AS x ON t.capakey = x.capakey \\\n",
    "JOIN public.zones_statbel AS z ON ST_Intersects(t.geom, z.geom)\" \n",
    "output_shape = \"/media/tais/data/WALOUS/Landuse/LU_Results/classif_lu/WalOUS_Subset_LU_PreAgreement_Statbel.gpkg\"\n",
    "ogr2ogr_export(output_shape, config_parameters, query=query_export, verbose=False)"
   ]
  },
  {
   "cell_type": "code",
   "execution_count": null,
   "metadata": {},
   "outputs": [],
   "source": []
  }
 ],
 "metadata": {
  "kernelspec": {
   "display_name": "Python 3",
   "language": "python",
   "name": "python3"
  },
  "language_info": {
   "codemirror_mode": {
    "name": "ipython",
    "version": 3
   },
   "file_extension": ".py",
   "mimetype": "text/x-python",
   "name": "python",
   "nbconvert_exporter": "python",
   "pygments_lexer": "ipython3",
   "version": "3.6.10"
  }
 },
 "nbformat": 4,
 "nbformat_minor": 2
}
