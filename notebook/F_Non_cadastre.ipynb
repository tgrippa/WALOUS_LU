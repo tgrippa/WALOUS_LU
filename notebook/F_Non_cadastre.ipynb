{
 "cells": [
  {
   "cell_type": "markdown",
   "metadata": {},
   "source": [
    "<p><strong><font size=\"6\">WALOUS</font></strong></p>"
   ]
  },
  {
   "cell_type": "markdown",
   "metadata": {},
   "source": [
    "<p><strong><font size=\"6\">F_Non_cadastre</font></strong></p>"
   ]
  },
  {
   "cell_type": "markdown",
   "metadata": {},
   "source": [
    "WALOUS_UTS - Copyright (C) <2020> <Université catholique de Louvain (UCLouvain), Belgique;\n",
    "\t\t\t\t\t Université Libre de Bruxelles (ULB), Belgique;\n",
    "\t\t\t\t\t Institut Scientifique de Service Public (ISSeP), Belgique;\n",
    "\t\t\t\t\t Service Public de Wallonie (SWP), Belgique >\n",
    "\t\t\t\t\t\t \t\t\t\t\t\t\t\n",
    "\t\n",
    "List of the contributors to the development of WALOUS_UTS: see LICENSE file.\n",
    "\n",
    "\n",
    "Description and complete License: see LICENSE file.\n",
    "\t\n",
    "This program (WALOUS_UTS) is free software:\n",
    "you can redistribute it and/or modify it under the terms of the\n",
    "GNU General Public License as published by the Free Software\n",
    "Foundation, either version 3 of the License, or (at your option)\n",
    "any later version.\n",
    "\n",
    "This program is distributed in the hope that it will be useful,\n",
    "but WITHOUT ANY WARRANTY; without even the implied warranty of\n",
    "MERCHANTABILITY or FITNESS FOR A PARTICULAR PURPOSE.  See the\n",
    "GNU General Public License for more details.\n",
    "\n",
    "You should have received a copy of the GNU General Public License\n",
    "along with this program (see COPYING file).  If not,\n",
    "see <http://www.gnu.org/licenses/>."
   ]
  },
  {
   "cell_type": "markdown",
   "metadata": {},
   "source": [
    "---------\n",
    "Jupyter Notebook containing the preprocessing steps consisting of: \n",
    "- Classification of uncadastred areas\n",
    "- Merge table with classified cadastral geometries with classified uncadastred geometries into one single table"
   ]
  },
  {
   "cell_type": "markdown",
   "metadata": {},
   "source": [
    "# Table of Contents"
   ]
  },
  {
   "cell_type": "markdown",
   "metadata": {},
   "source": [
    "<div id=\"toc\"></div>"
   ]
  },
  {
   "cell_type": "markdown",
   "metadata": {},
   "source": [
    "The following cell is a Javascript section of code for building the Jupyter notebook's table of content."
   ]
  },
  {
   "cell_type": "code",
   "execution_count": null,
   "metadata": {},
   "outputs": [],
   "source": [
    "%%javascript\n",
    "$.getScript('https://kmahelona.github.io/ipython_notebook_goodies/ipython_notebook_toc.js')"
   ]
  },
  {
   "cell_type": "markdown",
   "metadata": {},
   "source": [
    "# Define working environment"
   ]
  },
  {
   "cell_type": "markdown",
   "metadata": {},
   "source": [
    "**Import libraries**"
   ]
  },
  {
   "cell_type": "code",
   "execution_count": null,
   "metadata": {},
   "outputs": [],
   "source": [
    "# Import libraries needed for setting parameters of operating system \n",
    "import os\n",
    "import sys\n",
    "import csv\n",
    "import tempfile\n",
    "import glob"
   ]
  },
  {
   "cell_type": "code",
   "execution_count": null,
   "metadata": {},
   "outputs": [],
   "source": [
    "## Import Psycopg2 library (interection with postgres database)\n",
    "import psycopg2\n",
    "## Import Subprocess\n",
    "import subprocess"
   ]
  },
  {
   "cell_type": "code",
   "execution_count": null,
   "metadata": {},
   "outputs": [],
   "source": [
    "# Libraries for parallel processing\n",
    "import multiprocessing\n",
    "from multiprocessing import Pool\n",
    "from functools import partial"
   ]
  },
  {
   "cell_type": "code",
   "execution_count": null,
   "metadata": {},
   "outputs": [],
   "source": [
    "## Import Pandas library (View and manipulaiton of tables)\n",
    "import pandas as pd\n",
    "pd.set_option('display.max_columns', 100)"
   ]
  },
  {
   "cell_type": "markdown",
   "metadata": {},
   "source": [
    "**Add folder with SCR provided belong to this notebook**"
   ]
  },
  {
   "cell_type": "code",
   "execution_count": null,
   "metadata": {},
   "outputs": [],
   "source": [
    "# Add local module to the path\n",
    "src = os.path.abspath('../SRC')\n",
    "if src not in sys.path:\n",
    "    sys.path.append(src)"
   ]
  },
  {
   "cell_type": "markdown",
   "metadata": {},
   "source": [
    "**Setup environment variables **"
   ]
  },
  {
   "cell_type": "markdown",
   "metadata": {},
   "source": [
    "Please edit the file in `../SRC/config.py`, containing the configuration parameters, according to your own computer setup. The following cell is used to run this file.\n",
    "\n"
   ]
  },
  {
   "cell_type": "code",
   "execution_count": null,
   "metadata": {
    "scrolled": true
   },
   "outputs": [],
   "source": [
    "run ../SRC/config.py"
   ]
  },
  {
   "cell_type": "code",
   "execution_count": null,
   "metadata": {
    "scrolled": true
   },
   "outputs": [],
   "source": [
    "[print(\"%s: %s\"%(k,config_parameters[k])) for k in config_parameters]"
   ]
  },
  {
   "cell_type": "code",
   "execution_count": null,
   "metadata": {},
   "outputs": [],
   "source": [
    "# Import functions that setup the environmental variables\n",
    "import environ_variables as envi"
   ]
  },
  {
   "cell_type": "code",
   "execution_count": null,
   "metadata": {
    "scrolled": true
   },
   "outputs": [],
   "source": [
    "# Set environmental variables\n",
    "envi.setup_environmental_variables() \n",
    "# Display current environment variables of your computer\n",
    "envi.print_environmental_variables()"
   ]
  },
  {
   "cell_type": "markdown",
   "metadata": {},
   "source": [
    "**Other functions**"
   ]
  },
  {
   "cell_type": "code",
   "execution_count": null,
   "metadata": {},
   "outputs": [],
   "source": [
    "# Import functions for processing time information\n",
    "import time\n",
    "from processing_time import start_processing, print_processing_time\n",
    "# Import function that check and create folder\n",
    "from mkdir import check_create_dir"
   ]
  },
  {
   "cell_type": "markdown",
   "metadata": {},
   "source": [
    "**Custom functions: Psycopg2 and Postgresql functions**"
   ]
  },
  {
   "cell_type": "code",
   "execution_count": null,
   "metadata": {},
   "outputs": [],
   "source": [
    "# Import function that display postgresql's table header\n",
    "from display_header import display_header\n",
    "# Import function to creation connection to Postgresql database \n",
    "from postgres_functions import create_pg_connexion\n",
    "# Import function to creation of Postgresql schema \n",
    "from postgres_functions import create_pg_schema\n",
    "# Import function to give rights to user on a specific schema\n",
    "from postgres_functions import grant_user\n",
    "# Import function to add serial primary key to table\n",
    "from postgres_functions import add_serial_pkey\n",
    "# Import function to create index\n",
    "from postgres_functions import create_index"
   ]
  },
  {
   "cell_type": "code",
   "execution_count": null,
   "metadata": {},
   "outputs": [],
   "source": [
    "# Import function that fix not valid geometries\n",
    "from postgres_geom import make_valid"
   ]
  },
  {
   "cell_type": "code",
   "execution_count": null,
   "metadata": {
    "scrolled": true
   },
   "outputs": [],
   "source": [
    "# Import function that manage importation of a Shapefile into postgresql database\n",
    "from postgres_import import ogr2ogr_import\n",
    "# Import a function that manage importation of a CSV file\n",
    "from postgres_import import import_csv\n",
    "# Import function to export postgis table as shapefile or geopackage\n",
    "from postgres_export import ogr2ogr_export\n",
    "# Import functions for creation of postgresql back-up and restoration\n",
    "from dump_functions import dump_table, dump_db, restore_psql"
   ]
  },
  {
   "cell_type": "code",
   "execution_count": null,
   "metadata": {},
   "outputs": [],
   "source": [
    "# Import function to create columns with walousmaj at each level \n",
    "from postgres_postclassification import create_walousmaj_levels\n",
    "# Import function to create column 'hilucslanduse_1' corresponding to scenario 1 of INSPIRE HILUCS \n",
    "from postgres_postclassification import create_hilucs_landuse_1\n",
    "# Import function to create column 'hilucslanduse_1' corresponding to scenario 1 of INSPIRE HILUCS \n",
    "from postgres_postclassification import create_hilucs_landuse_2"
   ]
  },
  {
   "cell_type": "code",
   "execution_count": null,
   "metadata": {},
   "outputs": [],
   "source": [
    "# Import functions for creation of table with all geometries together\n",
    "from postgres_postclassification import create_cuswall_table"
   ]
  },
  {
   "cell_type": "markdown",
   "metadata": {},
   "source": [
    "**GRASS GIS Python libraries**"
   ]
  },
  {
   "cell_type": "code",
   "execution_count": null,
   "metadata": {},
   "outputs": [],
   "source": [
    "# Import libraries needed to launch GRASS GIS in the jupyter notebook\n",
    "import grass.script.setup as gsetup\n",
    "# Import libraries needed to call GRASS using Python\n",
    "import grass.script as gscript"
   ]
  },
  {
   "cell_type": "code",
   "execution_count": null,
   "metadata": {
    "scrolled": false
   },
   "outputs": [],
   "source": [
    "# Import function for GRASS GIS mapset checking and launching\n",
    "from grass_database import check_gisdb, check_location, check_mapset, working_mapset, launch_mapset\n",
    "# Import function that check if GRASS GIS add-on is installed and install it if needed\n",
    "from gextension import check_install_addon\n",
    "# Import function for importation of r.zonal.classes csv output into a GRASS GIS table\n",
    "from grass_processing import rzonalclasses_sql_insert"
   ]
  },
  {
   "cell_type": "markdown",
   "metadata": {},
   "source": [
    "# Import uncadastred data into PostgreSQL "
   ]
  },
  {
   "cell_type": "markdown",
   "metadata": {},
   "source": [
    "## Create new schema"
   ]
  },
  {
   "cell_type": "code",
   "execution_count": null,
   "metadata": {},
   "outputs": [],
   "source": [
    "# Create connexion to postgres database\n",
    "con = create_pg_connexion(config_parameters)\n",
    "# Create new schema\n",
    "create_pg_schema(con, 'non_cadastre', overwrite=False)\n",
    "grant_user(con, 'non_cadastre', 'bbeaumont')\n",
    "# Close connexion to postgres database\n",
    "con.close()"
   ]
  },
  {
   "cell_type": "markdown",
   "metadata": {},
   "source": [
    "## Import file with administratives limits (communes)"
   ]
  },
  {
   "cell_type": "code",
   "execution_count": null,
   "metadata": {
    "scrolled": false
   },
   "outputs": [],
   "source": [
    "# Import file into postgis database\n",
    "ogr2ogr_import(data['communes_rw'][1], config_parameters, \n",
    "               schema='non_cadastre', table=data['communes_rw'][0], to_srid='31370', \n",
    "               create_opt='-overwrite', verbose=True) "
   ]
  },
  {
   "cell_type": "markdown",
   "metadata": {},
   "source": [
    "## Import file with uncadastred geometries"
   ]
  },
  {
   "cell_type": "code",
   "execution_count": null,
   "metadata": {
    "scrolled": false
   },
   "outputs": [],
   "source": [
    "# Import file into postgis database\n",
    "ogr2ogr_import(data['uncadastred_spaces'][1], config_parameters, \n",
    "               schema='non_cadastre', table=data['uncadastred_spaces'][0], to_srid='31370', \n",
    "               create_opt='-overwrite', verbose=True) "
   ]
  },
  {
   "cell_type": "markdown",
   "metadata": {},
   "source": [
    "## Dissolve adjacent geometries with same class and same administrative unit"
   ]
  },
  {
   "cell_type": "markdown",
   "metadata": {},
   "source": [
    "The result of the creation of uncadastred geometries through the ArcGIS worlflow produced a lot a very tiny polygons that would be deleted during the rasterisation of the geometries for the computation of the LC proportions using r.zonal.classes.\n",
    "\n",
    "To avoid that, here we intersect current geometries produced through the ArcGIS worlflow with the administrative unit polygons and union adjacent geometries (dissolve) with same class and same administrative unit id. The aim is to avoid multiple small neighbouring polygons sharing the same land use."
   ]
  },
  {
   "cell_type": "markdown",
   "metadata": {},
   "source": [
    "**Create temporary table with type of land use ('code_walou') and ID of administrative unit**"
   ]
  },
  {
   "cell_type": "markdown",
   "metadata": {},
   "source": [
    "In this step, a temporary table is created that will contain both type of land use ('code_walou') and ID of administrative unit. Those attributes will be used in the next step to merge and dissolve adjacent polygons sharing the same land use in the same administrative unit. "
   ]
  },
  {
   "cell_type": "code",
   "execution_count": null,
   "metadata": {},
   "outputs": [],
   "source": [
    "# Create temporary table with uncadastred geometries intersected with administrative boundaries\n",
    "start_import = start_processing()\n",
    "con = create_pg_connexion(config_parameters)\n",
    "cursor = con.cursor()\n",
    "cursor.execute(\"DROP TABLE IF EXISTS {uncad_schem}.tmp\".format(uncad_schem='non_cadastre'))\n",
    "cursor.execute(\"CREATE TABLE IF NOT EXISTS {uncad_schem}.tmp AS (\\\n",
    "SELECT a.objectid, a.code_walou, b.comcod,(ST_Dump(ST_Intersection(a.geom, b.geom))).geom AS geom \\\n",
    "FROM {uncad_schem}.{uncad_table} AS a INNER JOIN {uncad_schem}.{admin} AS b \\\n",
    "ON ST_Intersects(a.geom, b.geom))\".format(uncad_schem='non_cadastre', \n",
    "                                          uncad_table=data['uncadastred_spaces'][0], admin=data['communes_rw'][0]))\n",
    "con.commit()\n",
    "con.close()\n",
    "print_processing_time(start_import, \"Process achieved in \")"
   ]
  },
  {
   "cell_type": "markdown",
   "metadata": {},
   "source": [
    "**Create table with dissolved geometries to avoid multiple small neighbouring polygons sharing the same land use**"
   ]
  },
  {
   "cell_type": "markdown",
   "metadata": {},
   "source": [
    "In this step, attributes 'code_walou' and 'comcod' are used to merge and dissolve adjacent polygons sharing the same land use in the same administrative unit. "
   ]
  },
  {
   "cell_type": "code",
   "execution_count": null,
   "metadata": {},
   "outputs": [],
   "source": [
    "# Add index on specific columns\n",
    "con = create_pg_connexion(config_parameters)\n",
    "create_index(con, 'non_cadastre', 'tmp', 'code_walou')\n",
    "create_index(con, 'non_cadastre', 'tmp', 'geom', is_geom=True)\n",
    "con.close()"
   ]
  },
  {
   "cell_type": "code",
   "execution_count": null,
   "metadata": {},
   "outputs": [],
   "source": [
    "# Name of the dissolved table\n",
    "dissolved_geom = \"%s_dissolved\"%data['uncadastred_spaces'][0]\n",
    "dissolved_geom"
   ]
  },
  {
   "cell_type": "code",
   "execution_count": null,
   "metadata": {},
   "outputs": [],
   "source": [
    "# Create table with dissolved geometries\n",
    "start_import = start_processing()\n",
    "con = create_pg_connexion(config_parameters)\n",
    "cursor = con.cursor()\n",
    "cursor.execute(\"DROP TABLE IF EXISTS non_cadastre.%s\"%dissolved_geom)\n",
    "cursor.execute(\"CREATE TABLE IF NOT EXISTS non_cadastre.%s AS (\\\n",
    "SELECT min(objectid) AS objectid, code_walou, comcod, (ST_Dump(ST_Union(geom))).geom AS geom \\\n",
    "FROM non_cadastre.tmp GROUP BY code_walou, comcod)\"%dissolved_geom)\n",
    "con.commit()\n",
    "con.close()\n",
    "print_processing_time(start_import, \"Process achieved in \")"
   ]
  },
  {
   "cell_type": "raw",
   "metadata": {},
   "source": [
    "# Create connexion to postgres database\n",
    "con = create_pg_connexion(config_parameters)\n",
    "# Update geometry column to ensure its a valid geometry\n",
    "make_valid(con, 'non_cadastre', dissolved_geom, 'geom', geometry_type=3)\n",
    "# Close connexion to postgres database\n",
    "con.close()"
   ]
  },
  {
   "cell_type": "code",
   "execution_count": null,
   "metadata": {},
   "outputs": [],
   "source": [
    "# Create connexion to postgres database\n",
    "con = create_pg_connexion(config_parameters)\n",
    "# Update geometry column to ensure its a valid geometry\n",
    "add_serial_pkey(con, 'non_cadastre', dissolved_geom, 'uncadastr_id', pkey=False)"
   ]
  },
  {
   "cell_type": "code",
   "execution_count": null,
   "metadata": {},
   "outputs": [],
   "source": [
    "# Create connexion to postgres database\n",
    "con = create_pg_connexion(config_parameters)\n",
    "# Display header\n",
    "df = display_header(con, 'non_cadastre', dissolved_geom, row_num=5)\n",
    "# Close connexion to postgres database\n",
    "con.close()\n",
    "# Display dataframe\n",
    "df"
   ]
  },
  {
   "cell_type": "code",
   "execution_count": null,
   "metadata": {},
   "outputs": [],
   "source": [
    "# Drop temporary table \n",
    "con = create_pg_connexion(config_parameters)\n",
    "cursor = con.cursor()\n",
    "cursor.execute(\"DROP TABLE IF EXISTS non_cadastre.tmp\")\n",
    "con.commit()\n",
    "con.close()"
   ]
  },
  {
   "cell_type": "markdown",
   "metadata": {},
   "source": [
    "**Export final uncadastred geometries to GPKG file**"
   ]
  },
  {
   "cell_type": "code",
   "execution_count": null,
   "metadata": {
    "scrolled": true
   },
   "outputs": [],
   "source": [
    "# Export from PostGIS\n",
    "ogr2ogr_export(data['uncadastred_spaces_dissolved'][1], config_parameters, \n",
    "               schema='non_cadastre', table=dissolved_geom, verbose=False)"
   ]
  },
  {
   "cell_type": "markdown",
   "metadata": {},
   "source": [
    "# Compute proportion of LC classes for uncadastred geometries (in GRASS)"
   ]
  },
  {
   "cell_type": "markdown",
   "metadata": {},
   "source": [
    "## Import uncadastred geometries (vector)"
   ]
  },
  {
   "cell_type": "code",
   "execution_count": null,
   "metadata": {},
   "outputs": [],
   "source": [
    "# Create and launch mapset \n",
    "launch_mapset(\"UNCAD\")"
   ]
  },
  {
   "cell_type": "code",
   "execution_count": null,
   "metadata": {},
   "outputs": [],
   "source": [
    "# Import vector\n",
    "start_import = start_processing()\n",
    "gscript.run_command('v.import', overwrite=True, input=data['uncadastred_spaces_dissolved'][1], \n",
    "                    output=data['uncadastred_spaces_dissolved'][0])\n",
    "print_processing_time(start_import, \"Import achieved in \")"
   ]
  },
  {
   "cell_type": "code",
   "execution_count": null,
   "metadata": {},
   "outputs": [],
   "source": [
    "# Rasterize dissolved uncadastred geometries\n",
    "start = start_processing()\n",
    "gscript.run_command('g.mapsets', mapset='FUSIONS', operation='add')\n",
    "gscript.run_command('g.region', vector=data['uncadastred_spaces_dissolved'][0], align=data['landcover_folder'][0])\n",
    "gscript.run_command('v.to.rast', overwrite=True, input=data['uncadastred_spaces_dissolved'][0], \n",
    "                    output=data['uncadastred_spaces_dissolved'][0], use='cat', memory=30000)\n",
    "print_processing_time(start, \"Rasterisation achieved in \")"
   ]
  },
  {
   "cell_type": "markdown",
   "metadata": {},
   "source": [
    "## Compute LC proportion by uncadastred geom"
   ]
  },
  {
   "cell_type": "code",
   "execution_count": null,
   "metadata": {},
   "outputs": [],
   "source": [
    "# Check if add-on is already installed in the computer and install it not yet installed\n",
    "check_install_addon(\"r.zonal.classes\")"
   ]
  },
  {
   "cell_type": "code",
   "execution_count": null,
   "metadata": {},
   "outputs": [],
   "source": [
    "### Compute LC class proportions in cadastral plots\n",
    "# Create mapset \n",
    "start = start_processing()\n",
    "launch_mapset(\"UNCAD\")\n",
    "gscript.run_command('g.mapsets', quiet=True, mapset='FUSIONS', operation='add')\n",
    "gscript.run_command('g.region', raster=data['uncadastred_spaces_dissolved'][0], align=data['landcover_folder'][0])\n",
    "# Compute LC proportions\n",
    "tmp_csv = \"%s_rzonalclasses\"%gscript.tempfile() # Path to temporary file output\n",
    "ouput_csv = data['lc_uncad'][1]\n",
    "gscript.run_command('r.zonal.classes', overwrite=True, zone_map=data['uncadastred_spaces_dissolved'][0], \n",
    "                    raster=data['landcover_folder'][0], prefix='lc', csvfile=tmp_csv)\n",
    "print_processing_time(start, \"Proportions of LC computed in achieved in \")"
   ]
  },
  {
   "cell_type": "code",
   "execution_count": null,
   "metadata": {},
   "outputs": [],
   "source": [
    "### Import the csv output of r.zonal.classes in GRASS SQlite database\n",
    "start_import = start_processing()\n",
    "# Load csv content in python dictionnary\n",
    "incsv = open(tmp_csv, 'r')\n",
    "reader = csv.reader(incsv, delimiter='|')\n",
    "header = next(reader)\n",
    "value_dict = {row[0]:row[1:] for row in reader}\n",
    "incsv.close()\n",
    "# Insert SQL\n",
    "table_name = \"lc_prop\"\n",
    "rzonalclasses_sql_insert(table_name, header, value_dict, overwrite=True)\n",
    "### Create table 'uncad_with_prop' with uncadastred id's linked with lc_prop\n",
    "table_uncad_with_prop = \"uncad_with_prop\"\n",
    "sql_query = gscript.tempfile()\n",
    "fsql = open(sql_query, 'w')\n",
    "fsql.write('BEGIN TRANSACTION;\\n')\n",
    "if gscript.db_table_exist(table_uncad_with_prop):\n",
    "        fsql.write('DROP TABLE %s;\\n'%table_uncad_with_prop)\n",
    "create_statement = 'CREATE TABLE %s AS '%table_uncad_with_prop\n",
    "create_statement += 'SELECT a.uncadastr_id, b.* FROM %s AS a '%data['uncadastred_spaces_dissolved'][0]\n",
    "create_statement += 'LEFT JOIN lc_prop AS b ON a.cat=b.cat;\\n'\n",
    "fsql.write(create_statement)\n",
    "fsql.write('END TRANSACTION;')\n",
    "fsql.close()\n",
    "gscript.run_command('db.execute', input=sql_query, quiet=True)\n",
    "print_processing_time(start_import, \"Computation of LC classes proportions achieved in \")"
   ]
  },
  {
   "cell_type": "markdown",
   "metadata": {},
   "source": [
    "## Export table to csv"
   ]
  },
  {
   "cell_type": "code",
   "execution_count": null,
   "metadata": {},
   "outputs": [],
   "source": [
    "# Export attribute table to csv\n",
    "if not os.path.exists(os.path.split(data['lc_uncad'][1])[0]):\n",
    "    os.makedirs(os.path.split(data['lc_uncad'][1])[0])    \n",
    "gscript.run_command('db.select', overwrite=True, sql=\"SELECT * FROM %s\"%table_uncad_with_prop,\n",
    "                    output=data['lc_uncad'][1])"
   ]
  },
  {
   "cell_type": "markdown",
   "metadata": {},
   "source": [
    "## Compute find LC class below geom's centroid from tiny polygons"
   ]
  },
  {
   "cell_type": "code",
   "execution_count": null,
   "metadata": {},
   "outputs": [],
   "source": [
    "# Get list of ID of geometries for which r.zonal.classes failed to compute LC proportion (too tiny - sliver polygons)\n",
    "start_import = start_processing()\n",
    "query = 'SELECT uncadastr_id FROM %s WHERE lc_mode is null'%table_uncad_with_prop\n",
    "sliverpoly_ids = list(gscript.parse_command('db.select', flags='c', sql=query).keys())\n",
    "count = len(sliverpoly_ids)\n",
    "print(\"There are %s polygon(s) tiny and narrowed for which r.zonal.classes did not compute any land cover proportion.\"%count)"
   ]
  },
  {
   "cell_type": "code",
   "execution_count": null,
   "metadata": {},
   "outputs": [],
   "source": [
    "### Create a new layer with only tiny/narrowed polygons' centroids (on point format)\n",
    "import math\n",
    "start_import = start_processing()\n",
    "# Get centroids of selected polygons\n",
    "list_temp = []\n",
    "x = range(0, (math.ceil(len(sliverpoly_ids)/5000)+1)*5000, 5000)\n",
    "for i,n in enumerate(x[1:],1):\n",
    "    if n > len(sliverpoly_ids):\n",
    "        n = len(sliverpoly_ids)\n",
    "    print(\"Extracting items from %s to %s\"%(x[i-1],n))\n",
    "    tmp_vect = gscript.tempname(12)\n",
    "    list_temp.append(tmp_vect)\n",
    "    gscript.run_command('v.extract', overwrite=True,\n",
    "                          input=data['uncadastred_spaces_dissolved'][0], type='centroid',\n",
    "                          where=\"uncadastr_id in ('%s')\"%\"','\".join(sliverpoly_ids[x[i-1]:n]), \n",
    "                          output=tmp_vect)\n",
    "tmp_centroids = gscript.tempname(12)\n",
    "gscript.run_command('v.patch', flags='e', overwrite=True, input=','.join(list_temp), output=tmp_centroids)\n",
    "print(\"Merging all intermediate vector map together\")\n",
    "# Transform centroids type to point layer\n",
    "gscript.run_command('v.type', overwrite=True, input=tmp_centroids,\n",
    "                      output='narrowed_uncad_point', from_type='centroid', to_type='point')\n",
    "# Drop not needed column\n",
    "gscript.run_command('v.db.dropcolumn', map='narrowed_uncad_point', columns='objectid,code_walou,comcod')\n",
    "# Add column to store raster value\n",
    "gscript.run_command('v.db.addcolumn', map='narrowed_uncad_point', columns='lc_mode integer')\n",
    "# Use v.what.rast to find LC raster value for the centroid point of the polygon \n",
    "gscript.run_command('v.what.rast', map='narrowed_uncad_point',raster='lc', column='lc_mode') \n",
    "print_processing_time(start_import, \"Extraction of LC raster value bellow tiny/narrowed geometries' centroid achieved in \")"
   ]
  },
  {
   "cell_type": "code",
   "execution_count": null,
   "metadata": {},
   "outputs": [],
   "source": [
    "# Delete temporary files\n",
    "gscript.run_command('g.remove', flags='f', type='vect', name=','.join(list_temp))\n",
    "gscript.run_command('g.remove', flags='f', type='vect', name=tmp_centroids)"
   ]
  },
  {
   "cell_type": "markdown",
   "metadata": {},
   "source": [
    "## Export table to csv"
   ]
  },
  {
   "cell_type": "code",
   "execution_count": null,
   "metadata": {},
   "outputs": [],
   "source": [
    "# Export attribute table to csv\n",
    "if not os.path.exists(os.path.split(data['lc_uncad_tiny'][1])[0]):\n",
    "    os.makedirs(os.path.split(data['lc_uncad_tiny'][1])[0])    \n",
    "gscript.run_command('db.select', overwrite=True, \n",
    "                    sql=\"SELECT * FROM 'narrowed_uncad_point'\", output=data['lc_uncad_tiny'][1])"
   ]
  },
  {
   "cell_type": "markdown",
   "metadata": {},
   "source": [
    "# Import output from r.zonal.classes in Postgis and join with geom"
   ]
  },
  {
   "cell_type": "markdown",
   "metadata": {},
   "source": [
    "## Import csv output from r.zonal.classes (large polygons)"
   ]
  },
  {
   "cell_type": "code",
   "execution_count": null,
   "metadata": {},
   "outputs": [],
   "source": [
    "# Create a list for the column declaration of the CREATE table statement\n",
    "with open(data['lc_uncad'][1], 'r') as f:\n",
    "    header = next(f).split(\"\\n\")[0]\n",
    "colum_declaration = [(col.lower(),'integer') if col in ('uncadastr_id','cat') \n",
    "                     else (\"lc_mode\",'integer') if col == \"lc_mode\" \n",
    "                     else (col,'double precision') for col in header.split(\"|\")]\n",
    "con = create_pg_connexion(config_parameters)\n",
    "# Import CSV file\n",
    "import_csv(con, data['lc_uncad'][1], colum_declaration, 'non_cadastre', \n",
    "           data['lc_uncad'][0], delimiter=\"|\", overwrite=False)\n",
    "# Close connexion to postgres database\n",
    "con.close()"
   ]
  },
  {
   "cell_type": "markdown",
   "metadata": {},
   "source": [
    "## Import csv output from v.what.rast (tiny polygons)"
   ]
  },
  {
   "cell_type": "code",
   "execution_count": null,
   "metadata": {},
   "outputs": [],
   "source": [
    "# Create a list for the column declaration of the CREATE table statement\n",
    "with open(data['lc_uncad_tiny'][1], 'r') as f:\n",
    "    header = next(f).split(\"\\n\")[0]\n",
    "colum_declaration = [(col.lower(),'integer') if col in ('uncadastr_id','cat') \n",
    "                     else (\"lc_mode\",'integer') for col in header.split(\"|\")]\n",
    "con = create_pg_connexion(config_parameters)\n",
    "# Import CSV file\n",
    "import_csv(con, data['lc_uncad_tiny'][1], colum_declaration, 'non_cadastre', \n",
    "           data['lc_uncad_tiny'][0], delimiter=\"|\", overwrite=False)\n",
    "# Close connexion to postgres database\n",
    "con.close()"
   ]
  },
  {
   "cell_type": "markdown",
   "metadata": {},
   "source": [
    "## Join LC proportion information to uncadastred geometries table "
   ]
  },
  {
   "cell_type": "markdown",
   "metadata": {},
   "source": [
    "**Join r.zonal.classes results (large polygons)**"
   ]
  },
  {
   "cell_type": "code",
   "execution_count": null,
   "metadata": {},
   "outputs": [],
   "source": [
    "# Rename column containg the information of 'walousmaj'\n",
    "con = create_pg_connexion(config_parameters)\n",
    "cursor = con.cursor()\n",
    "cursor.execute(\"DROP TABLE IF EXISTS %s.%s_lcprop\"%('non_cadastre', dissolved_geom))\n",
    "cursor.execute(\"CREATE TABLE IF NOT EXISTS {uncad_schem}.{table}_lcprop AS (\\\n",
    "SELECT a.geom, a.{walousmaj} ,b.* FROM {uncad_schem}.{table} AS a LEFT JOIN {uncad_schem}.{lc_prop} AS b \\\n",
    "ON a.uncadastr_id=b.uncadastr_id)\".format(uncad_schem='non_cadastre',\n",
    "                                  walousmaj=data['uncadastred_spaces'][2], table=dissolved_geom,\n",
    "                                  lc_prop=data['lc_uncad'][0]))\n",
    "\n",
    "con.commit()\n",
    "con.close()"
   ]
  },
  {
   "cell_type": "markdown",
   "metadata": {},
   "source": [
    "**Join v.what.rast results (tiny polygons)**"
   ]
  },
  {
   "cell_type": "code",
   "execution_count": null,
   "metadata": {},
   "outputs": [],
   "source": [
    "# Rename column containg the information of 'walousmaj'\n",
    "con = create_pg_connexion(config_parameters)\n",
    "cursor = con.cursor()\n",
    "cursor.execute(\"UPDATE {uncad_schem}.{table}_lcprop AS a SET lc_mode = b.lc_mode \\\n",
    "FROM {uncad_schem}.{tiny} AS b \\\n",
    "WHERE a.uncadastr_id=b.uncadastr_id\".format(uncad_schem='non_cadastre',\n",
    "                                             tiny=data['lc_uncad_tiny'][0], table=dissolved_geom))\n",
    "\n",
    "con.commit()\n",
    "con.close()"
   ]
  },
  {
   "cell_type": "markdown",
   "metadata": {},
   "source": [
    "**Check if all rows have information on 'lc_mode' column**"
   ]
  },
  {
   "cell_type": "code",
   "execution_count": null,
   "metadata": {},
   "outputs": [],
   "source": [
    "# Query\n",
    "con = create_pg_connexion(config_parameters)\n",
    "cursor = con.cursor()\n",
    "cursor.execute(\"SELECT count(*) FROM %s.%s_lcprop WHERE lc_mode is null\"%('non_cadastre', dissolved_geom))\n",
    "count = int(cursor.fetchone()[0])\n",
    "con.commit()\n",
    "con.close()\n",
    "print(\"There are %s rows without value for 'lc_mode'.\"%count)"
   ]
  },
  {
   "cell_type": "markdown",
   "metadata": {},
   "source": [
    "## Add columns missing"
   ]
  },
  {
   "cell_type": "code",
   "execution_count": null,
   "metadata": {},
   "outputs": [],
   "source": [
    "# Rename column containg the information of 'walousmaj'\n",
    "con = create_pg_connexion(config_parameters)\n",
    "cursor = con.cursor()\n",
    "cursor.execute(\"ALTER TABLE %s.%s_lcprop ADD COLUMN IF NOT EXISTS all_hilucs text[]\"%('non_cadastre',dissolved_geom))\n",
    "cursor.execute(\"ALTER TABLE %s.%s_lcprop RENAME COLUMN %s TO walousmaj\"%('non_cadastre',dissolved_geom,\n",
    "                                                             data['uncadastred_spaces'][2]))\n",
    "con.commit()\n",
    "con.close()"
   ]
  },
  {
   "cell_type": "code",
   "execution_count": null,
   "metadata": {},
   "outputs": [],
   "source": [
    "# Create connexion to postgres database\n",
    "con = create_pg_connexion(config_parameters)\n",
    "# Display header\n",
    "df = display_header(con, 'non_cadastre', '%s_lcprop'%dissolved_geom, row_num=5)\n",
    "# Close connexion to postgres database\n",
    "con.close()\n",
    "# Display dataframe\n",
    "df"
   ]
  },
  {
   "cell_type": "markdown",
   "metadata": {},
   "source": [
    "## Add attributes for walousmaj (level 1 to 4)"
   ]
  },
  {
   "cell_type": "code",
   "execution_count": null,
   "metadata": {},
   "outputs": [],
   "source": [
    "# Create connexion to postgres database\n",
    "con = create_pg_connexion(config_parameters)\n",
    "# Create columns for each level of the legend \n",
    "create_walousmaj_levels(con, result_table_schema='non_cadastre', \n",
    "                        result_table_name='%s_lcprop'%dissolved_geom,\n",
    "                        colum_label=\"walousmaj\")\n",
    "# Close connexion to postgres database\n",
    "con.close()"
   ]
  },
  {
   "cell_type": "markdown",
   "metadata": {},
   "source": [
    "## Add attributes for HilucsLandUse (scenario 1 and 2)"
   ]
  },
  {
   "cell_type": "code",
   "execution_count": null,
   "metadata": {},
   "outputs": [],
   "source": [
    "# Define a list of classes from 'walousmaj' or 'all_hilucs' that should be ignored when creating 'HilucsLandUse'\n",
    "cl_ignore = []\n",
    "\n",
    "# Define a list of classes from 'walousmaj' that are not compliant \n",
    "# with INSPIRE and should be truncated of one level (e.g., '5_1_A' should become '5_1')\n",
    "cl_truncate = ['6_6_B']\n",
    "\n",
    "# Define a lookup table (list of tupples) for convertion of nature conservation labels from walousmaj to INSPIRE HILUCS legend\n",
    "inspire_lookup = []\n",
    "\n",
    "# Define a list of Hilucs classes that should be removed if presence of sublevels\n",
    "# classes (more precise) classes in the array. E.g., is an array contains '4_1' and '4_1_1', the remaining \n",
    "# information will be only the most detailed classe which is '4_1_1'\n",
    "cl_remove = ['4','6','4_1','4_3','6_3']"
   ]
  },
  {
   "cell_type": "code",
   "execution_count": null,
   "metadata": {},
   "outputs": [],
   "source": [
    "# Create connexion to postgres database\n",
    "con = create_pg_connexion(config_parameters)\n",
    "# Create column HilucsLanduse compliant with INSPIRE\n",
    "create_hilucs_landuse_1(con, result_table_schema='non_cadastre', \n",
    "                        result_table_name='%s_lcprop'%dissolved_geom,\n",
    "                        cl_truncate=cl_truncate, cl_lookup=inspire_lookup,\n",
    "                        colum_label=\"hilucslanduse_1\")\n",
    "# Close connexion to postgres database\n",
    "con.close()"
   ]
  },
  {
   "cell_type": "code",
   "execution_count": null,
   "metadata": {},
   "outputs": [],
   "source": [
    "# Create connexion to postgres database\n",
    "con = create_pg_connexion(config_parameters)\n",
    "# Create column HilucsLanduse compliant with INSPIRE\n",
    "create_hilucs_landuse_2(con, result_table_schema='non_cadastre', \n",
    "                        result_table_name='%s_lcprop'%dissolved_geom, \n",
    "                        cl_ignore=cl_ignore, cl_truncate=cl_truncate, \n",
    "                        cl_lookup=inspire_lookup ,cl_remove=cl_remove, colum_label=\"hilucslanduse_2\")\n",
    "# Close connexion to postgres database\n",
    "con.close()"
   ]
  },
  {
   "cell_type": "code",
   "execution_count": null,
   "metadata": {},
   "outputs": [],
   "source": [
    "# Create connexion to postgres database\n",
    "con = create_pg_connexion(config_parameters)\n",
    "# Display header\n",
    "whereconditions = []\n",
    "whereconditions.append(\"uncadastr_id = 67780\")\n",
    "df = display_header(con, 'non_cadastre', '%s_lcprop'%dissolved_geom, \n",
    "                    where=' AND '.join(whereconditions), row_num=8)\n",
    "# Close connexion to postgres database\n",
    "con.close()\n",
    "# Display dataframe\n",
    "df"
   ]
  },
  {
   "cell_type": "markdown",
   "metadata": {},
   "source": [
    "## Backup of Postgresql data"
   ]
  },
  {
   "cell_type": "markdown",
   "metadata": {},
   "source": [
    "**Backup of table with uncadastred areas**"
   ]
  },
  {
   "cell_type": "code",
   "execution_count": null,
   "metadata": {
    "scrolled": true
   },
   "outputs": [],
   "source": [
    "# Create a specific table\n",
    "dump_table(config_parameters['pg_host'],config_parameters['pg_dbname'],config_parameters['pg_user'],\n",
    "           config_parameters['pg_password'], 'non_cadastre', \n",
    "           '%s_lcprop'%dissolved_geom, data['backup_uncadastred_table'])"
   ]
  },
  {
   "cell_type": "markdown",
   "metadata": {},
   "source": [
    "# Create new table \"cusw2018_all\" containing all geometries (cadastred and uncadastred)"
   ]
  },
  {
   "cell_type": "code",
   "execution_count": null,
   "metadata": {},
   "outputs": [],
   "source": [
    "# Set name of table containing all geometries (cadastred and uncadastred)\n",
    "cusw_all_table='cusw2018_all'"
   ]
  },
  {
   "cell_type": "code",
   "execution_count": null,
   "metadata": {
    "scrolled": false
   },
   "outputs": [],
   "source": [
    "# Create connexion to postgres database\n",
    "con = create_pg_connexion(config_parameters)\n",
    "# Create cusw2018_all table\n",
    "create_cuswall_table(con, 'results', 'cusw2018', \n",
    "                     'non_cadastre', '%s_lcprop'%dissolved_geom, output_table=cusw_all_table)\n",
    "# Close connexion to postgres database\n",
    "con.close()"
   ]
  },
  {
   "cell_type": "code",
   "execution_count": null,
   "metadata": {},
   "outputs": [],
   "source": [
    "# Create connexion to postgres database\n",
    "con = create_pg_connexion(config_parameters)\n",
    "# Display header\n",
    "whereconditions = []\n",
    "whereconditions.append(\"uncadastr_id = 67780\")\n",
    "df = display_header(con, 'results', cusw_all_table, \n",
    "                    where=' AND '.join(whereconditions), row_num=8)\n",
    "# Close connexion to postgres database\n",
    "con.close()\n",
    "# Display dataframe\n",
    "df"
   ]
  },
  {
   "cell_type": "markdown",
   "metadata": {},
   "source": [
    "## Backup of Postgresql data"
   ]
  },
  {
   "cell_type": "markdown",
   "metadata": {},
   "source": [
    "**Backup of table with all geometries**"
   ]
  },
  {
   "cell_type": "code",
   "execution_count": null,
   "metadata": {
    "scrolled": true
   },
   "outputs": [],
   "source": [
    "# Create a specific table\n",
    "dump_table(config_parameters['pg_host'],config_parameters['pg_dbname'],config_parameters['pg_user'],\n",
    "           config_parameters['pg_password'], 'results', 'cusw2018_all', data['backup_allgeom_table'])"
   ]
  },
  {
   "cell_type": "markdown",
   "metadata": {},
   "source": [
    "\n",
    "**Backup of the whole database**"
   ]
  },
  {
   "cell_type": "code",
   "execution_count": null,
   "metadata": {},
   "outputs": [],
   "source": [
    "# Create a back-up of the whole database\n",
    "dump_db(config_parameters['pg_host'],config_parameters['pg_dbname'],config_parameters['pg_user'],\n",
    "           config_parameters['pg_password'], data['backup_db'])"
   ]
  },
  {
   "cell_type": "markdown",
   "metadata": {},
   "source": [
    "# Export from PostgreSQL"
   ]
  },
  {
   "cell_type": "markdown",
   "metadata": {},
   "source": [
    "## Export table uncadastred spaces in EPSG:31370 (Belge 1972 / Belgian Lambert 72)"
   ]
  },
  {
   "cell_type": "code",
   "execution_count": null,
   "metadata": {},
   "outputs": [],
   "source": [
    "# Export the classification results as shapefile\n",
    "query_export = \"SELECT geom, uncadastr_id, \\\n",
    "lc_mode,lc_prop_1,lc_prop_2,lc_prop_3,lc_prop_4,lc_prop_5,lc_prop_6,lc_prop_7,lc_prop_8,lc_prop_9,lc_prop_80,lc_prop_90, \\\n",
    "array_to_string(all_hilucs,',') as all_hilucs, \\\n",
    "walousmaj, walousmaj_l1, walousmaj_l2, walousmaj_l3, walousmaj_l4,\\\n",
    "hilucslanduse_1, array_to_string(hilucslanduse_2,',') as hilucslanduse_2 \\\n",
    "FROM non_cadastre.%s_lcprop\"%dissolved_geom\n",
    "output_shape = \"/media/tais/data/WALOUS/Landuse/LU_Results/non_cadastre/uncadastred_spaces_31370.gpkg\"\n",
    "ogr2ogr_export(output_shape, config_parameters, query=query_export, verbose=False)"
   ]
  },
  {
   "cell_type": "markdown",
   "metadata": {},
   "source": [
    "## Export table uncadastred spaces in EPSG:3812 (ETRS89 / Belgian Lambert 2008)"
   ]
  },
  {
   "cell_type": "code",
   "execution_count": null,
   "metadata": {},
   "outputs": [],
   "source": [
    "# Export the classification results as shapefile\n",
    "query_export = \"SELECT ST_Transform(geom, 3812) as geom, uncadastr_id, \\\n",
    "lc_mode,lc_prop_1,lc_prop_2,lc_prop_3,lc_prop_4,lc_prop_5,lc_prop_6,lc_prop_7,lc_prop_8,lc_prop_9,lc_prop_80,lc_prop_90, \\\n",
    "array_to_string(all_hilucs,',') as all_hilucs, \\\n",
    "walousmaj, walousmaj_l1, walousmaj_l2, walousmaj_l3, walousmaj_l4,\\\n",
    "hilucslanduse_1, array_to_string(hilucslanduse_2,',') as hilucslanduse_2 \\\n",
    "FROM non_cadastre.%s_lcprop\"%dissolved_geom\n",
    "output_shape = \"/media/tais/data/WALOUS/Landuse/LU_Results/non_cadastre/uncadastred_spaces_3812.gpkg\"\n",
    "ogr2ogr_export(output_shape, config_parameters, query=query_export, verbose=False)"
   ]
  },
  {
   "cell_type": "markdown",
   "metadata": {},
   "source": [
    "## Export table Cusw2018_all in EPSG:31370 (Belge 1972 / Belgian Lambert 72)"
   ]
  },
  {
   "cell_type": "code",
   "execution_count": null,
   "metadata": {},
   "outputs": [],
   "source": [
    "# Export the table as Shapefile\n",
    "query_export = \"SELECT geom, capakey, uncadastr_id, \\\n",
    "lc_mode,lc_prop_1,lc_prop_2,lc_prop_3,lc_prop_4,lc_prop_5,lc_prop_6,lc_prop_7,lc_prop_8,lc_prop_9,lc_prop_80,lc_prop_90, \\\n",
    "array_to_string(all_hilucs,',') as all_hilucs, rulebased_leaf, postclas_rule, \\\n",
    "walousmaj, walousmaj_l1, walousmaj_l2, walousmaj_l3, walousmaj_l4,\\\n",
    "hilucslanduse_1, array_to_string(hilucslanduse_2,',') as hilucslanduse_2 FROM results.%s\"%cusw_all_table\n",
    "output_shape = \"/media/tais/data/WALOUS/Landuse/LU_Results/classif_lu/%s_31370.shp\"%cusw_all_table\n",
    "ogr2ogr_export(output_shape, config_parameters, query=query_export, verbose=False)"
   ]
  },
  {
   "cell_type": "code",
   "execution_count": null,
   "metadata": {},
   "outputs": [],
   "source": [
    "# Export the table as Geopackage\n",
    "query_export = \"SELECT geom, capakey, uncadastr_id, \\\n",
    "lc_mode,lc_prop_1,lc_prop_2,lc_prop_3,lc_prop_4,lc_prop_5,lc_prop_6,lc_prop_7,lc_prop_8,lc_prop_9,lc_prop_80,lc_prop_90, \\\n",
    "array_to_string(all_hilucs,',') as all_hilucs, rulebased_leaf, postclas_rule, \\\n",
    "walousmaj, walousmaj_l1, walousmaj_l2, walousmaj_l3, walousmaj_l4,\\\n",
    "hilucslanduse_1, array_to_string(hilucslanduse_2,',') as hilucslanduse_2 FROM results.%s\"%cusw_all_table\n",
    "output_shape = \"/media/tais/data/WALOUS/Landuse/LU_Results/classif_lu/%s_31370.gpkg\"%cusw_all_table\n",
    "ogr2ogr_export(output_shape, config_parameters, query=query_export, verbose=False)"
   ]
  },
  {
   "cell_type": "markdown",
   "metadata": {},
   "source": [
    "## Export table Cusw2018_all in EPSG:3812 (ETRS89 / Belgian Lambert 2008)"
   ]
  },
  {
   "cell_type": "code",
   "execution_count": null,
   "metadata": {},
   "outputs": [],
   "source": [
    "# Export the table as Shapefile\n",
    "query_export = \"SELECT ST_Transform(geom, 3812) as geom, capakey, uncadastr_id, \\\n",
    "lc_mode,lc_prop_1,lc_prop_2,lc_prop_3,lc_prop_4,lc_prop_5,lc_prop_6,lc_prop_7,lc_prop_8,lc_prop_9,lc_prop_80,lc_prop_90, \\\n",
    "array_to_string(all_hilucs,',') as all_hilucs, rulebased_leaf, postclas_rule, \\\n",
    "walousmaj, walousmaj_l1, walousmaj_l2, walousmaj_l3, walousmaj_l4,\\\n",
    "hilucslanduse_1, array_to_string(hilucslanduse_2,',') as hilucslanduse_2 FROM results.%s\"%cusw_all_table\n",
    "output_shape = \"/media/tais/data/WALOUS/Landuse/LU_Results/classif_lu/%s_3812.shp\"%cusw_all_table\n",
    "ogr2ogr_export(output_shape, config_parameters, query=query_export, verbose=False)"
   ]
  },
  {
   "cell_type": "code",
   "execution_count": null,
   "metadata": {},
   "outputs": [],
   "source": [
    "# Export the table as Geopackage\n",
    "query_export = \"SELECT ST_Transform(geom, 3812) as geom, capakey, uncadastr_id, \\\n",
    "lc_mode,lc_prop_1,lc_prop_2,lc_prop_3,lc_prop_4,lc_prop_5,lc_prop_6,lc_prop_7,lc_prop_8,lc_prop_9,lc_prop_80,lc_prop_90, \\\n",
    "array_to_string(all_hilucs,',') as all_hilucs, rulebased_leaf, postclas_rule, \\\n",
    "walousmaj, walousmaj_l1, walousmaj_l2, walousmaj_l3, walousmaj_l4,\\\n",
    "hilucslanduse_1, array_to_string(hilucslanduse_2,',') as hilucslanduse_2 FROM results.%s\"%cusw_all_table\n",
    "output_shape = \"/media/tais/data/WALOUS/Landuse/LU_Results/classif_lu/%s_3812.gpkg\"%cusw_all_table\n",
    "ogr2ogr_export(output_shape, config_parameters, query=query_export, verbose=False)"
   ]
  },
  {
   "cell_type": "code",
   "execution_count": null,
   "metadata": {},
   "outputs": [],
   "source": []
  },
  {
   "cell_type": "code",
   "execution_count": null,
   "metadata": {},
   "outputs": [],
   "source": []
  }
 ],
 "metadata": {
  "kernelspec": {
   "display_name": "Python 3",
   "language": "python",
   "name": "python3"
  },
  "language_info": {
   "codemirror_mode": {
    "name": "ipython",
    "version": 3
   },
   "file_extension": ".py",
   "mimetype": "text/x-python",
   "name": "python",
   "nbconvert_exporter": "python",
   "pygments_lexer": "ipython3",
   "version": "3.6.10"
  }
 },
 "nbformat": 4,
 "nbformat_minor": 2
}
